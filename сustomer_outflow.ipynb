{
 "cells": [
  {
   "cell_type": "markdown",
   "metadata": {
    "toc": true
   },
   "source": [
    "<h1>Содержание<span class=\"tocSkip\"></span></h1>\n",
    "<div class=\"toc\"><ul class=\"toc-item\"><li><span><a href=\"#Подготовка-данных\" data-toc-modified-id=\"Подготовка-данных-1\"><span class=\"toc-item-num\">1&nbsp;&nbsp;</span>Подготовка данных</a></span><ul class=\"toc-item\"><li><span><a href=\"#Подпункт-1.1\" data-toc-modified-id=\"Подпункт-1.1-1.1\"><span class=\"toc-item-num\">1.1&nbsp;&nbsp;</span>Подпункт 1.1</a></span></li></ul></li><li><span><a href=\"#Исследование-задачи\" data-toc-modified-id=\"Исследование-задачи-2\"><span class=\"toc-item-num\">2&nbsp;&nbsp;</span>Исследование задачи</a></span></li><li><span><a href=\"#Борьба-с-дисбалансом\" data-toc-modified-id=\"Борьба-с-дисбалансом-3\"><span class=\"toc-item-num\">3&nbsp;&nbsp;</span>Борьба с дисбалансом</a></span></li><li><span><a href=\"#Тестирование-модели\" data-toc-modified-id=\"Тестирование-модели-4\"><span class=\"toc-item-num\">4&nbsp;&nbsp;</span>Тестирование модели</a></span></li><li><span><a href=\"#Чек-лист-готовности-проекта\" data-toc-modified-id=\"Чек-лист-готовности-проекта-5\"><span class=\"toc-item-num\">5&nbsp;&nbsp;</span>Чек-лист готовности проекта</a></span></li></ul></div>"
   ]
  },
  {
   "cell_type": "markdown",
   "metadata": {},
   "source": [
    "# Отток клиентов"
   ]
  },
  {
   "cell_type": "markdown",
   "metadata": {},
   "source": [
    "Из «Бета-Банка» стали уходить клиенты. Каждый месяц. Немного, но заметно. Банковские маркетологи посчитали: сохранять текущих клиентов дешевле, чем привлекать новых.\n",
    "\n",
    "Нужно спрогнозировать, уйдёт клиент из банка в ближайшее время или нет. Вам предоставлены исторические данные о поведении клиентов и расторжении договоров с банком. \n",
    "\n",
    "Постройте модель с предельно большим значением *F1*-меры. Чтобы сдать проект успешно, нужно довести метрику до 0.59. Проверьте *F1*-меру на тестовой выборке самостоятельно.\n",
    "\n",
    "Дополнительно измеряйте *AUC-ROC*, сравнивайте её значение с *F1*-мерой.\n",
    "\n",
    "Источник данных: [https://www.kaggle.com/barelydedicated/bank-customer-churn-modeling](https://www.kaggle.com/barelydedicated/bank-customer-churn-modeling)"
   ]
  },
  {
   "cell_type": "markdown",
   "metadata": {},
   "source": [
    "## Подготовка данных"
   ]
  },
  {
   "cell_type": "markdown",
   "metadata": {},
   "source": [
    "### Подпункт 1.1"
   ]
  },
  {
   "cell_type": "code",
   "execution_count": 1,
   "metadata": {},
   "outputs": [],
   "source": [
    "import pandas as pd\n",
    "from matplotlib import pyplot as plt\n",
    "from sklearn.model_selection import train_test_split\n",
    "from sklearn.preprocessing import StandardScaler\n",
    "from sklearn.linear_model import LogisticRegression\n",
    "from sklearn.tree import DecisionTreeClassifier\n",
    "from sklearn.ensemble import RandomForestClassifier\n",
    "from sklearn.metrics import f1_score, accuracy_score, roc_auc_score, roc_curve\n",
    "from sklearn.dummy import DummyClassifier\n",
    "from sklearn.utils import shuffle"
   ]
  },
  {
   "cell_type": "code",
   "execution_count": 2,
   "metadata": {},
   "outputs": [],
   "source": [
    "# откроем фаил и сораним в переменную df\n",
    "df = pd.read_csv('/datasets/Churn.csv')"
   ]
  },
  {
   "cell_type": "code",
   "execution_count": 3,
   "metadata": {},
   "outputs": [
    {
     "data": {
      "text/html": [
       "<div>\n",
       "<style scoped>\n",
       "    .dataframe tbody tr th:only-of-type {\n",
       "        vertical-align: middle;\n",
       "    }\n",
       "\n",
       "    .dataframe tbody tr th {\n",
       "        vertical-align: top;\n",
       "    }\n",
       "\n",
       "    .dataframe thead th {\n",
       "        text-align: right;\n",
       "    }\n",
       "</style>\n",
       "<table border=\"1\" class=\"dataframe\">\n",
       "  <thead>\n",
       "    <tr style=\"text-align: right;\">\n",
       "      <th></th>\n",
       "      <th>RowNumber</th>\n",
       "      <th>CustomerId</th>\n",
       "      <th>Surname</th>\n",
       "      <th>CreditScore</th>\n",
       "      <th>Geography</th>\n",
       "      <th>Gender</th>\n",
       "      <th>Age</th>\n",
       "      <th>Tenure</th>\n",
       "      <th>Balance</th>\n",
       "      <th>NumOfProducts</th>\n",
       "      <th>HasCrCard</th>\n",
       "      <th>IsActiveMember</th>\n",
       "      <th>EstimatedSalary</th>\n",
       "      <th>Exited</th>\n",
       "    </tr>\n",
       "  </thead>\n",
       "  <tbody>\n",
       "    <tr>\n",
       "      <th>0</th>\n",
       "      <td>1</td>\n",
       "      <td>15634602</td>\n",
       "      <td>Hargrave</td>\n",
       "      <td>619</td>\n",
       "      <td>France</td>\n",
       "      <td>Female</td>\n",
       "      <td>42</td>\n",
       "      <td>2.0</td>\n",
       "      <td>0.00</td>\n",
       "      <td>1</td>\n",
       "      <td>1</td>\n",
       "      <td>1</td>\n",
       "      <td>101348.88</td>\n",
       "      <td>1</td>\n",
       "    </tr>\n",
       "    <tr>\n",
       "      <th>1</th>\n",
       "      <td>2</td>\n",
       "      <td>15647311</td>\n",
       "      <td>Hill</td>\n",
       "      <td>608</td>\n",
       "      <td>Spain</td>\n",
       "      <td>Female</td>\n",
       "      <td>41</td>\n",
       "      <td>1.0</td>\n",
       "      <td>83807.86</td>\n",
       "      <td>1</td>\n",
       "      <td>0</td>\n",
       "      <td>1</td>\n",
       "      <td>112542.58</td>\n",
       "      <td>0</td>\n",
       "    </tr>\n",
       "    <tr>\n",
       "      <th>2</th>\n",
       "      <td>3</td>\n",
       "      <td>15619304</td>\n",
       "      <td>Onio</td>\n",
       "      <td>502</td>\n",
       "      <td>France</td>\n",
       "      <td>Female</td>\n",
       "      <td>42</td>\n",
       "      <td>8.0</td>\n",
       "      <td>159660.80</td>\n",
       "      <td>3</td>\n",
       "      <td>1</td>\n",
       "      <td>0</td>\n",
       "      <td>113931.57</td>\n",
       "      <td>1</td>\n",
       "    </tr>\n",
       "    <tr>\n",
       "      <th>3</th>\n",
       "      <td>4</td>\n",
       "      <td>15701354</td>\n",
       "      <td>Boni</td>\n",
       "      <td>699</td>\n",
       "      <td>France</td>\n",
       "      <td>Female</td>\n",
       "      <td>39</td>\n",
       "      <td>1.0</td>\n",
       "      <td>0.00</td>\n",
       "      <td>2</td>\n",
       "      <td>0</td>\n",
       "      <td>0</td>\n",
       "      <td>93826.63</td>\n",
       "      <td>0</td>\n",
       "    </tr>\n",
       "    <tr>\n",
       "      <th>4</th>\n",
       "      <td>5</td>\n",
       "      <td>15737888</td>\n",
       "      <td>Mitchell</td>\n",
       "      <td>850</td>\n",
       "      <td>Spain</td>\n",
       "      <td>Female</td>\n",
       "      <td>43</td>\n",
       "      <td>2.0</td>\n",
       "      <td>125510.82</td>\n",
       "      <td>1</td>\n",
       "      <td>1</td>\n",
       "      <td>1</td>\n",
       "      <td>79084.10</td>\n",
       "      <td>0</td>\n",
       "    </tr>\n",
       "  </tbody>\n",
       "</table>\n",
       "</div>"
      ],
      "text/plain": [
       "   RowNumber  CustomerId   Surname  CreditScore Geography  Gender  Age  \\\n",
       "0          1    15634602  Hargrave          619    France  Female   42   \n",
       "1          2    15647311      Hill          608     Spain  Female   41   \n",
       "2          3    15619304      Onio          502    France  Female   42   \n",
       "3          4    15701354      Boni          699    France  Female   39   \n",
       "4          5    15737888  Mitchell          850     Spain  Female   43   \n",
       "\n",
       "   Tenure    Balance  NumOfProducts  HasCrCard  IsActiveMember  \\\n",
       "0     2.0       0.00              1          1               1   \n",
       "1     1.0   83807.86              1          0               1   \n",
       "2     8.0  159660.80              3          1               0   \n",
       "3     1.0       0.00              2          0               0   \n",
       "4     2.0  125510.82              1          1               1   \n",
       "\n",
       "   EstimatedSalary  Exited  \n",
       "0        101348.88       1  \n",
       "1        112542.58       0  \n",
       "2        113931.57       1  \n",
       "3         93826.63       0  \n",
       "4         79084.10       0  "
      ]
     },
     "execution_count": 3,
     "metadata": {},
     "output_type": "execute_result"
    }
   ],
   "source": [
    "# выведем первые пять строк\n",
    "df.head()"
   ]
  },
  {
   "cell_type": "code",
   "execution_count": 4,
   "metadata": {
    "scrolled": true
   },
   "outputs": [
    {
     "name": "stdout",
     "output_type": "stream",
     "text": [
      "<class 'pandas.core.frame.DataFrame'>\n",
      "RangeIndex: 10000 entries, 0 to 9999\n",
      "Data columns (total 14 columns):\n",
      " #   Column           Non-Null Count  Dtype  \n",
      "---  ------           --------------  -----  \n",
      " 0   RowNumber        10000 non-null  int64  \n",
      " 1   CustomerId       10000 non-null  int64  \n",
      " 2   Surname          10000 non-null  object \n",
      " 3   CreditScore      10000 non-null  int64  \n",
      " 4   Geography        10000 non-null  object \n",
      " 5   Gender           10000 non-null  object \n",
      " 6   Age              10000 non-null  int64  \n",
      " 7   Tenure           9091 non-null   float64\n",
      " 8   Balance          10000 non-null  float64\n",
      " 9   NumOfProducts    10000 non-null  int64  \n",
      " 10  HasCrCard        10000 non-null  int64  \n",
      " 11  IsActiveMember   10000 non-null  int64  \n",
      " 12  EstimatedSalary  10000 non-null  float64\n",
      " 13  Exited           10000 non-null  int64  \n",
      "dtypes: float64(3), int64(8), object(3)\n",
      "memory usage: 1.1+ MB\n"
     ]
    }
   ],
   "source": [
    "# выведем основую информацию о датасете \n",
    "df.info()"
   ]
  },
  {
   "cell_type": "code",
   "execution_count": 5,
   "metadata": {},
   "outputs": [],
   "source": [
    "# приведем к змеиному регистру наши названия столбцов\n",
    "df = df.rename(columns = {'RowNumber':'row_number', 'CustomerId':'customer_id', 'CreditScore':'credit_score',\n",
    "       'NumOfProducts':'num_of_products', 'HasCrCard':'has_cr_card',\n",
    "       'IsActiveMember':'is_active_member', 'EstimatedSalary':'estimated_salary'})\n",
    "df.columns = df.columns.str.lower()"
   ]
  },
  {
   "cell_type": "markdown",
   "metadata": {},
   "source": [
    "*Есть около тысячи строк с пропущенными значениями Tenure - какое количество лет являлся клиентом банка*"
   ]
  },
  {
   "cell_type": "code",
   "execution_count": 6,
   "metadata": {
    "scrolled": true
   },
   "outputs": [
    {
     "data": {
      "text/html": [
       "<div>\n",
       "<style scoped>\n",
       "    .dataframe tbody tr th:only-of-type {\n",
       "        vertical-align: middle;\n",
       "    }\n",
       "\n",
       "    .dataframe tbody tr th {\n",
       "        vertical-align: top;\n",
       "    }\n",
       "\n",
       "    .dataframe thead th {\n",
       "        text-align: right;\n",
       "    }\n",
       "</style>\n",
       "<table border=\"1\" class=\"dataframe\">\n",
       "  <thead>\n",
       "    <tr style=\"text-align: right;\">\n",
       "      <th></th>\n",
       "      <th>row_number</th>\n",
       "      <th>customer_id</th>\n",
       "      <th>surname</th>\n",
       "      <th>credit_score</th>\n",
       "      <th>geography</th>\n",
       "      <th>gender</th>\n",
       "      <th>age</th>\n",
       "      <th>tenure</th>\n",
       "      <th>balance</th>\n",
       "      <th>num_of_products</th>\n",
       "      <th>has_cr_card</th>\n",
       "      <th>is_active_member</th>\n",
       "      <th>estimated_salary</th>\n",
       "      <th>exited</th>\n",
       "    </tr>\n",
       "  </thead>\n",
       "  <tbody>\n",
       "    <tr>\n",
       "      <th>30</th>\n",
       "      <td>31</td>\n",
       "      <td>15589475</td>\n",
       "      <td>Azikiwe</td>\n",
       "      <td>591</td>\n",
       "      <td>Spain</td>\n",
       "      <td>Female</td>\n",
       "      <td>39</td>\n",
       "      <td>NaN</td>\n",
       "      <td>0.00</td>\n",
       "      <td>3</td>\n",
       "      <td>1</td>\n",
       "      <td>0</td>\n",
       "      <td>140469.38</td>\n",
       "      <td>1</td>\n",
       "    </tr>\n",
       "    <tr>\n",
       "      <th>48</th>\n",
       "      <td>49</td>\n",
       "      <td>15766205</td>\n",
       "      <td>Yin</td>\n",
       "      <td>550</td>\n",
       "      <td>Germany</td>\n",
       "      <td>Male</td>\n",
       "      <td>38</td>\n",
       "      <td>NaN</td>\n",
       "      <td>103391.38</td>\n",
       "      <td>1</td>\n",
       "      <td>0</td>\n",
       "      <td>1</td>\n",
       "      <td>90878.13</td>\n",
       "      <td>0</td>\n",
       "    </tr>\n",
       "    <tr>\n",
       "      <th>51</th>\n",
       "      <td>52</td>\n",
       "      <td>15768193</td>\n",
       "      <td>Trevisani</td>\n",
       "      <td>585</td>\n",
       "      <td>Germany</td>\n",
       "      <td>Male</td>\n",
       "      <td>36</td>\n",
       "      <td>NaN</td>\n",
       "      <td>146050.97</td>\n",
       "      <td>2</td>\n",
       "      <td>0</td>\n",
       "      <td>0</td>\n",
       "      <td>86424.57</td>\n",
       "      <td>0</td>\n",
       "    </tr>\n",
       "    <tr>\n",
       "      <th>53</th>\n",
       "      <td>54</td>\n",
       "      <td>15702298</td>\n",
       "      <td>Parkhill</td>\n",
       "      <td>655</td>\n",
       "      <td>Germany</td>\n",
       "      <td>Male</td>\n",
       "      <td>41</td>\n",
       "      <td>NaN</td>\n",
       "      <td>125561.97</td>\n",
       "      <td>1</td>\n",
       "      <td>0</td>\n",
       "      <td>0</td>\n",
       "      <td>164040.94</td>\n",
       "      <td>1</td>\n",
       "    </tr>\n",
       "    <tr>\n",
       "      <th>60</th>\n",
       "      <td>61</td>\n",
       "      <td>15651280</td>\n",
       "      <td>Hunter</td>\n",
       "      <td>742</td>\n",
       "      <td>Germany</td>\n",
       "      <td>Male</td>\n",
       "      <td>35</td>\n",
       "      <td>NaN</td>\n",
       "      <td>136857.00</td>\n",
       "      <td>1</td>\n",
       "      <td>0</td>\n",
       "      <td>0</td>\n",
       "      <td>84509.57</td>\n",
       "      <td>0</td>\n",
       "    </tr>\n",
       "  </tbody>\n",
       "</table>\n",
       "</div>"
      ],
      "text/plain": [
       "    row_number  customer_id    surname  credit_score geography  gender  age  \\\n",
       "30          31     15589475    Azikiwe           591     Spain  Female   39   \n",
       "48          49     15766205        Yin           550   Germany    Male   38   \n",
       "51          52     15768193  Trevisani           585   Germany    Male   36   \n",
       "53          54     15702298   Parkhill           655   Germany    Male   41   \n",
       "60          61     15651280     Hunter           742   Germany    Male   35   \n",
       "\n",
       "    tenure    balance  num_of_products  has_cr_card  is_active_member  \\\n",
       "30     NaN       0.00                3            1                 0   \n",
       "48     NaN  103391.38                1            0                 1   \n",
       "51     NaN  146050.97                2            0                 0   \n",
       "53     NaN  125561.97                1            0                 0   \n",
       "60     NaN  136857.00                1            0                 0   \n",
       "\n",
       "    estimated_salary  exited  \n",
       "30         140469.38       1  \n",
       "48          90878.13       0  \n",
       "51          86424.57       0  \n",
       "53         164040.94       1  \n",
       "60          84509.57       0  "
      ]
     },
     "execution_count": 6,
     "metadata": {},
     "output_type": "execute_result"
    }
   ],
   "source": [
    "df.loc[df['tenure'].isnull()].head()"
   ]
  },
  {
   "cell_type": "code",
   "execution_count": 7,
   "metadata": {},
   "outputs": [],
   "source": [
    "# заменим пропуски на 0, предположив, что это новые клиенты банка\n",
    "df['tenure'] = df['tenure'].fillna(0)"
   ]
  },
  {
   "cell_type": "code",
   "execution_count": 8,
   "metadata": {},
   "outputs": [
    {
     "data": {
      "text/plain": [
       "0"
      ]
     },
     "execution_count": 8,
     "metadata": {},
     "output_type": "execute_result"
    }
   ],
   "source": [
    "# проверим дубликаты\n",
    "df.duplicated().sum()"
   ]
  },
  {
   "cell_type": "code",
   "execution_count": 9,
   "metadata": {
    "scrolled": true
   },
   "outputs": [
    {
     "data": {
      "image/png": "[encoded data removed]",
      "text/plain": [
       "<Figure size 2160x2160 with 12 Axes>"
      ]
     },
     "metadata": {
      "needs_background": "light"
     },
     "output_type": "display_data"
    }
   ],
   "source": [
    "# посмотрим как распределяются наши данные по всему датасету\n",
    "df.hist(figsize=(30, 30), bins=40)\n",
    "plt.show()"
   ]
  },
  {
   "cell_type": "markdown",
   "metadata": {},
   "source": [
    "*Исходя из наших данных можно удалить следующие стоблбцы row_number, customer_id, surname, т.к. исходя из логики они в себе не несут никакой полезной нагрузки, для пердсказания нашего целевого признака*"
   ]
  },
  {
   "cell_type": "code",
   "execution_count": 10,
   "metadata": {},
   "outputs": [],
   "source": [
    "df.drop(['row_number', 'customer_id', 'surname'], axis=1, inplace=True)"
   ]
  },
  {
   "cell_type": "code",
   "execution_count": 11,
   "metadata": {
    "scrolled": true
   },
   "outputs": [
    {
     "data": {
      "text/html": [
       "<div>\n",
       "<style scoped>\n",
       "    .dataframe tbody tr th:only-of-type {\n",
       "        vertical-align: middle;\n",
       "    }\n",
       "\n",
       "    .dataframe tbody tr th {\n",
       "        vertical-align: top;\n",
       "    }\n",
       "\n",
       "    .dataframe thead th {\n",
       "        text-align: right;\n",
       "    }\n",
       "</style>\n",
       "<table border=\"1\" class=\"dataframe\">\n",
       "  <thead>\n",
       "    <tr style=\"text-align: right;\">\n",
       "      <th></th>\n",
       "      <th>credit_score</th>\n",
       "      <th>age</th>\n",
       "      <th>tenure</th>\n",
       "      <th>balance</th>\n",
       "      <th>num_of_products</th>\n",
       "      <th>estimated_salary</th>\n",
       "    </tr>\n",
       "  </thead>\n",
       "  <tbody>\n",
       "    <tr>\n",
       "      <th>credit_score</th>\n",
       "      <td>1.000000</td>\n",
       "      <td>-0.003965</td>\n",
       "      <td>0.003087</td>\n",
       "      <td>0.006268</td>\n",
       "      <td>0.012238</td>\n",
       "      <td>-0.001384</td>\n",
       "    </tr>\n",
       "    <tr>\n",
       "      <th>age</th>\n",
       "      <td>-0.003965</td>\n",
       "      <td>1.000000</td>\n",
       "      <td>-0.007368</td>\n",
       "      <td>0.028308</td>\n",
       "      <td>-0.030680</td>\n",
       "      <td>-0.007201</td>\n",
       "    </tr>\n",
       "    <tr>\n",
       "      <th>tenure</th>\n",
       "      <td>0.003087</td>\n",
       "      <td>-0.007368</td>\n",
       "      <td>1.000000</td>\n",
       "      <td>-0.005821</td>\n",
       "      <td>0.010106</td>\n",
       "      <td>0.011225</td>\n",
       "    </tr>\n",
       "    <tr>\n",
       "      <th>balance</th>\n",
       "      <td>0.006268</td>\n",
       "      <td>0.028308</td>\n",
       "      <td>-0.005821</td>\n",
       "      <td>1.000000</td>\n",
       "      <td>-0.304180</td>\n",
       "      <td>0.012797</td>\n",
       "    </tr>\n",
       "    <tr>\n",
       "      <th>num_of_products</th>\n",
       "      <td>0.012238</td>\n",
       "      <td>-0.030680</td>\n",
       "      <td>0.010106</td>\n",
       "      <td>-0.304180</td>\n",
       "      <td>1.000000</td>\n",
       "      <td>0.014204</td>\n",
       "    </tr>\n",
       "    <tr>\n",
       "      <th>estimated_salary</th>\n",
       "      <td>-0.001384</td>\n",
       "      <td>-0.007201</td>\n",
       "      <td>0.011225</td>\n",
       "      <td>0.012797</td>\n",
       "      <td>0.014204</td>\n",
       "      <td>1.000000</td>\n",
       "    </tr>\n",
       "  </tbody>\n",
       "</table>\n",
       "</div>"
      ],
      "text/plain": [
       "                  credit_score       age    tenure   balance  num_of_products  \\\n",
       "credit_score          1.000000 -0.003965  0.003087  0.006268         0.012238   \n",
       "age                  -0.003965  1.000000 -0.007368  0.028308        -0.030680   \n",
       "tenure                0.003087 -0.007368  1.000000 -0.005821         0.010106   \n",
       "balance               0.006268  0.028308 -0.005821  1.000000        -0.304180   \n",
       "num_of_products       0.012238 -0.030680  0.010106 -0.304180         1.000000   \n",
       "estimated_salary     -0.001384 -0.007201  0.011225  0.012797         0.014204   \n",
       "\n",
       "                  estimated_salary  \n",
       "credit_score             -0.001384  \n",
       "age                      -0.007201  \n",
       "tenure                    0.011225  \n",
       "balance                   0.012797  \n",
       "num_of_products           0.014204  \n",
       "estimated_salary          1.000000  "
      ]
     },
     "execution_count": 11,
     "metadata": {},
     "output_type": "execute_result"
    }
   ],
   "source": [
    "df[['credit_score', 'geography', 'gender', 'age', 'tenure', 'balance', 'num_of_products', 'estimated_salary']].corr()"
   ]
  },
  {
   "cell_type": "code",
   "execution_count": 12,
   "metadata": {},
   "outputs": [
    {
     "name": "stdout",
     "output_type": "stream",
     "text": [
      "<class 'pandas.core.frame.DataFrame'>\n",
      "RangeIndex: 10000 entries, 0 to 9999\n",
      "Data columns (total 11 columns):\n",
      " #   Column            Non-Null Count  Dtype  \n",
      "---  ------            --------------  -----  \n",
      " 0   credit_score      10000 non-null  int64  \n",
      " 1   geography         10000 non-null  object \n",
      " 2   gender            10000 non-null  object \n",
      " 3   age               10000 non-null  int64  \n",
      " 4   tenure            10000 non-null  float64\n",
      " 5   balance           10000 non-null  float64\n",
      " 6   num_of_products   10000 non-null  int64  \n",
      " 7   has_cr_card       10000 non-null  int64  \n",
      " 8   is_active_member  10000 non-null  int64  \n",
      " 9   estimated_salary  10000 non-null  float64\n",
      " 10  exited            10000 non-null  int64  \n",
      "dtypes: float64(3), int64(6), object(2)\n",
      "memory usage: 859.5+ KB\n"
     ]
    }
   ],
   "source": [
    "# проверим все наши преобразования\n",
    "df.info()"
   ]
  },
  {
   "cell_type": "markdown",
   "metadata": {},
   "source": [
    "Выделим из нашего датафрейма целевой признак от остальных признаков"
   ]
  },
  {
   "cell_type": "code",
   "execution_count": 13,
   "metadata": {},
   "outputs": [],
   "source": [
    "# наш целевой признак\n",
    "target = df['exited']\n",
    "# остальные признаки\n",
    "features = df.drop(['exited'], axis=1)"
   ]
  },
  {
   "cell_type": "code",
   "execution_count": 14,
   "metadata": {},
   "outputs": [],
   "source": [
    "# разделим наши данные на три части - тренировочную, тестовую и проверочную в следующей пропорции 3:1:1\n",
    "features_train, features_check, target_train, target_check = \\\n",
    "train_test_split(features, target, test_size=0.4, random_state=12345)"
   ]
  },
  {
   "cell_type": "code",
   "execution_count": 15,
   "metadata": {},
   "outputs": [],
   "source": [
    "features_test, features_valid, target_test, target_valid = \\\n",
    "train_test_split(features_check, target_check, test_size=0.5, random_state=12345)"
   ]
  },
  {
   "cell_type": "code",
   "execution_count": 16,
   "metadata": {
    "scrolled": true
   },
   "outputs": [
    {
     "data": {
      "text/plain": [
       "(6000, 10)"
      ]
     },
     "metadata": {},
     "output_type": "display_data"
    },
    {
     "data": {
      "text/plain": [
       "(2000, 10)"
      ]
     },
     "metadata": {},
     "output_type": "display_data"
    },
    {
     "data": {
      "text/plain": [
       "(2000, 10)"
      ]
     },
     "metadata": {},
     "output_type": "display_data"
    }
   ],
   "source": [
    "# проверим, правильно ли мы произвели разделение по проции 3:1:1\n",
    "display(features_train.shape, features_test.shape, features_valid.shape)"
   ]
  },
  {
   "cell_type": "markdown",
   "metadata": {},
   "source": [
    "*Как видим, мы успешно разделили датасет отведя 60% на тренировочные данные и по 20% оставили на тестовые и проверочные.*"
   ]
  },
  {
   "cell_type": "markdown",
   "metadata": {},
   "source": [
    "Для коррекной работы моделей выполним преобразование категориальных данных методом OHE"
   ]
  },
  {
   "cell_type": "code",
   "execution_count": 17,
   "metadata": {},
   "outputs": [],
   "source": [
    "features_train = pd.get_dummies(features_train, drop_first=True)\n",
    "features_test = pd.get_dummies(features_test, drop_first=True)\n",
    "features_valid = pd.get_dummies(features_valid, drop_first=True)"
   ]
  },
  {
   "cell_type": "code",
   "execution_count": 18,
   "metadata": {},
   "outputs": [
    {
     "name": "stdout",
     "output_type": "stream",
     "text": [
      "(6000, 11) (2000, 11)\n"
     ]
    }
   ],
   "source": [
    "print(features_train.shape, features_test.shape)"
   ]
  },
  {
   "cell_type": "markdown",
   "metadata": {},
   "source": [
    "*Мы преобразовали наши данные, проверили на соответствие данных и их типы, произвели преобразование методом OHE, заполнинили пропуски и удалили не нужные столбцы. Данные подготовлены можем приступать к обучению моделей.*"
   ]
  },
  {
   "cell_type": "markdown",
   "metadata": {},
   "source": [
    "## Исследование задачи"
   ]
  },
  {
   "cell_type": "code",
   "execution_count": 18,
   "metadata": {},
   "outputs": [
    {
     "data": {
      "text/plain": [
       "0    0.7963\n",
       "1    0.2037\n",
       "Name: exited, dtype: float64"
      ]
     },
     "execution_count": 18,
     "metadata": {},
     "output_type": "execute_result"
    }
   ],
   "source": [
    "target.value_counts(normalize=True)"
   ]
  },
  {
   "cell_type": "code",
   "execution_count": 19,
   "metadata": {},
   "outputs": [
    {
     "data": {
      "image/png": "[encoded data removed]",
      "text/plain": [
       "<Figure size 432x288 with 1 Axes>"
      ]
     },
     "metadata": {
      "needs_background": "light"
     },
     "output_type": "display_data"
    }
   ],
   "source": [
    "plt.bar(['0', '1'], target.value_counts())\n",
    "plt.title('Диаграмма классов')\n",
    "plt.xlabel('Значение')\n",
    "plt.ylabel('Частота')\n",
    "plt.show()"
   ]
  },
  {
   "cell_type": "markdown",
   "metadata": {},
   "source": [
    "*У нас в данных присутствует дисбаланс классов, соотношение классов 1 к 4, в пользу 0-го класса, необходимо будет применить upsampling, либо downsampling для получение более лучших показателей метрики и работы модели в целом.*"
   ]
  },
  {
   "cell_type": "markdown",
   "metadata": {},
   "source": [
    "Приведем к общему масштабу наши признаки"
   ]
  },
  {
   "cell_type": "code",
   "execution_count": 20,
   "metadata": {},
   "outputs": [],
   "source": [
    "# перечеслим стоббцы по которым нужно превести к одному масштабу\n",
    "numeric = ['credit_score', 'age', 'tenure', 'balance', 'num_of_products',\n",
    "           'estimated_salary']"
   ]
  },
  {
   "cell_type": "code",
   "execution_count": 21,
   "metadata": {},
   "outputs": [
    {
     "data": {
      "text/plain": [
       "StandardScaler()"
      ]
     },
     "execution_count": 21,
     "metadata": {},
     "output_type": "execute_result"
    }
   ],
   "source": [
    "# cоздадим объект scaler и настроим его на обучающих данных\n",
    "scaler = StandardScaler()\n",
    "scaler.fit(features_train[numeric])"
   ]
  },
  {
   "cell_type": "code",
   "execution_count": 22,
   "metadata": {},
   "outputs": [],
   "source": [
    "# для обозначения признаков с масштабом создадим копию полей \n",
    "features_train_scaled = features_train.copy()\n",
    "features_valid_scaled = features_valid.copy()\n",
    "features_test_scaled = features_test.copy()"
   ]
  },
  {
   "cell_type": "code",
   "execution_count": 23,
   "metadata": {},
   "outputs": [],
   "source": [
    "# применим масштабирование\n",
    "features_train_scaled[numeric] = scaler.transform(features_train[numeric])\n",
    "features_valid_scaled[numeric] = scaler.transform(features_valid[numeric])\n",
    "features_test_scaled[numeric] = scaler.transform(features_test[numeric])"
   ]
  },
  {
   "cell_type": "code",
   "execution_count": 24,
   "metadata": {
    "scrolled": false
   },
   "outputs": [
    {
     "data": {
      "text/html": [
       "<div>\n",
       "<style scoped>\n",
       "    .dataframe tbody tr th:only-of-type {\n",
       "        vertical-align: middle;\n",
       "    }\n",
       "\n",
       "    .dataframe tbody tr th {\n",
       "        vertical-align: top;\n",
       "    }\n",
       "\n",
       "    .dataframe thead th {\n",
       "        text-align: right;\n",
       "    }\n",
       "</style>\n",
       "<table border=\"1\" class=\"dataframe\">\n",
       "  <thead>\n",
       "    <tr style=\"text-align: right;\">\n",
       "      <th></th>\n",
       "      <th>credit_score</th>\n",
       "      <th>age</th>\n",
       "      <th>tenure</th>\n",
       "      <th>balance</th>\n",
       "      <th>num_of_products</th>\n",
       "      <th>has_cr_card</th>\n",
       "      <th>is_active_member</th>\n",
       "      <th>estimated_salary</th>\n",
       "      <th>geography_Germany</th>\n",
       "      <th>geography_Spain</th>\n",
       "      <th>gender_Male</th>\n",
       "    </tr>\n",
       "  </thead>\n",
       "  <tbody>\n",
       "    <tr>\n",
       "      <th>7479</th>\n",
       "      <td>-0.886751</td>\n",
       "      <td>-0.373192</td>\n",
       "      <td>1.104696</td>\n",
       "      <td>1.232271</td>\n",
       "      <td>-0.891560</td>\n",
       "      <td>1</td>\n",
       "      <td>0</td>\n",
       "      <td>-0.187705</td>\n",
       "      <td>0</td>\n",
       "      <td>1</td>\n",
       "      <td>1</td>\n",
       "    </tr>\n",
       "    <tr>\n",
       "      <th>3411</th>\n",
       "      <td>0.608663</td>\n",
       "      <td>-0.183385</td>\n",
       "      <td>1.104696</td>\n",
       "      <td>0.600563</td>\n",
       "      <td>-0.891560</td>\n",
       "      <td>0</td>\n",
       "      <td>0</td>\n",
       "      <td>-0.333945</td>\n",
       "      <td>0</td>\n",
       "      <td>0</td>\n",
       "      <td>0</td>\n",
       "    </tr>\n",
       "    <tr>\n",
       "      <th>6027</th>\n",
       "      <td>2.052152</td>\n",
       "      <td>0.480939</td>\n",
       "      <td>-0.503694</td>\n",
       "      <td>1.027098</td>\n",
       "      <td>0.830152</td>\n",
       "      <td>0</td>\n",
       "      <td>1</td>\n",
       "      <td>1.503095</td>\n",
       "      <td>1</td>\n",
       "      <td>0</td>\n",
       "      <td>1</td>\n",
       "    </tr>\n",
       "    <tr>\n",
       "      <th>1247</th>\n",
       "      <td>-1.457915</td>\n",
       "      <td>-1.417129</td>\n",
       "      <td>0.461340</td>\n",
       "      <td>-1.233163</td>\n",
       "      <td>0.830152</td>\n",
       "      <td>1</td>\n",
       "      <td>0</td>\n",
       "      <td>-1.071061</td>\n",
       "      <td>0</td>\n",
       "      <td>0</td>\n",
       "      <td>1</td>\n",
       "    </tr>\n",
       "    <tr>\n",
       "      <th>3716</th>\n",
       "      <td>0.130961</td>\n",
       "      <td>-1.132419</td>\n",
       "      <td>-0.825373</td>\n",
       "      <td>1.140475</td>\n",
       "      <td>-0.891560</td>\n",
       "      <td>0</td>\n",
       "      <td>0</td>\n",
       "      <td>1.524268</td>\n",
       "      <td>1</td>\n",
       "      <td>0</td>\n",
       "      <td>0</td>\n",
       "    </tr>\n",
       "  </tbody>\n",
       "</table>\n",
       "</div>"
      ],
      "text/plain": [
       "      credit_score       age    tenure   balance  num_of_products  \\\n",
       "7479     -0.886751 -0.373192  1.104696  1.232271        -0.891560   \n",
       "3411      0.608663 -0.183385  1.104696  0.600563        -0.891560   \n",
       "6027      2.052152  0.480939 -0.503694  1.027098         0.830152   \n",
       "1247     -1.457915 -1.417129  0.461340 -1.233163         0.830152   \n",
       "3716      0.130961 -1.132419 -0.825373  1.140475        -0.891560   \n",
       "\n",
       "      has_cr_card  is_active_member  estimated_salary  geography_Germany  \\\n",
       "7479            1                 0         -0.187705                  0   \n",
       "3411            0                 0         -0.333945                  0   \n",
       "6027            0                 1          1.503095                  1   \n",
       "1247            1                 0         -1.071061                  0   \n",
       "3716            0                 0          1.524268                  1   \n",
       "\n",
       "      geography_Spain  gender_Male  \n",
       "7479                1            1  \n",
       "3411                0            0  \n",
       "6027                0            1  \n",
       "1247                0            1  \n",
       "3716                0            0  "
      ]
     },
     "execution_count": 24,
     "metadata": {},
     "output_type": "execute_result"
    }
   ],
   "source": [
    "# проверим как теперь в \"масштабе\" выглядит наш датафрейм\n",
    "features_train_scaled.head()"
   ]
  },
  {
   "attachments": {},
   "cell_type": "markdown",
   "metadata": {},
   "source": [
    "Ниже проведем обучение двух моделей без учета дисбаланса классов"
   ]
  },
  {
   "cell_type": "code",
   "execution_count": 30,
   "metadata": {},
   "outputs": [
    {
     "data": {
      "text/plain": [
       "DecisionTreeClassifier(random_state=12345)"
      ]
     },
     "execution_count": 30,
     "metadata": {},
     "output_type": "execute_result"
    }
   ],
   "source": [
    "model_tree_imba = DecisionTreeClassifier(random_state=12345)\n",
    "# обучим модель на тренеровочных данных\n",
    "model_tree_imba.fit(features_train_scaled, target_train)"
   ]
  },
  {
   "cell_type": "code",
   "execution_count": 31,
   "metadata": {},
   "outputs": [],
   "source": [
    "# предскажем целевой признак на валидных признаках\n",
    "predicted_valid_model_tree_imba = model_tree_imba.predict(features_valid_scaled)"
   ]
  },
  {
   "cell_type": "code",
   "execution_count": 32,
   "metadata": {},
   "outputs": [
    {
     "data": {
      "text/plain": [
       "0.4788391777509069"
      ]
     },
     "execution_count": 32,
     "metadata": {},
     "output_type": "execute_result"
    }
   ],
   "source": [
    "# посчитаем метрику F1\n",
    "f1_score(predicted_valid_model_tree_imba, target_valid)"
   ]
  },
  {
   "cell_type": "code",
   "execution_count": 33,
   "metadata": {
    "scrolled": false
   },
   "outputs": [
    {
     "data": {
      "text/plain": [
       "'Accuracy на обучающей выборке:'"
      ]
     },
     "metadata": {},
     "output_type": "display_data"
    },
    {
     "data": {
      "text/plain": [
       "1.0"
      ]
     },
     "metadata": {},
     "output_type": "display_data"
    },
    {
     "data": {
      "text/plain": [
       "'Accuracy на валидной выборке:'"
      ]
     },
     "metadata": {},
     "output_type": "display_data"
    },
    {
     "data": {
      "text/plain": [
       "0.7845"
      ]
     },
     "metadata": {},
     "output_type": "display_data"
    }
   ],
   "source": [
    "# посчитаем accuracy выборках train и valid\n",
    "display('Accuracy на обучающей выборке:', \\\n",
    "        model_tree_imba.score(features_train_scaled, target_train), \\\n",
    "        'Accuracy на валидной выборке:', \\\n",
    "        model_tree_imba.score(features_valid_scaled, target_valid))"
   ]
  },
  {
   "cell_type": "code",
   "execution_count": 34,
   "metadata": {},
   "outputs": [
    {
     "data": {
      "text/plain": [
       "0.6687286660640321"
      ]
     },
     "execution_count": 34,
     "metadata": {},
     "output_type": "execute_result"
    }
   ],
   "source": [
    "# посчитаем метрику AUC-ROC\n",
    "roc_auc_score(target_valid, \\\n",
    "              model_tree_imba.predict_proba(features_valid_scaled)[:, 1])"
   ]
  },
  {
   "attachments": {},
   "cell_type": "markdown",
   "metadata": {},
   "source": [
    "*Для модели решающего дерева мы получили значения F1 меры равной 0.48, так же были рассчитына метрика accuracy почти 0.78, метрика AUC-ROC равна 0.67.*"
   ]
  },
  {
   "cell_type": "markdown",
   "metadata": {},
   "source": [
    "Перейдем к модели случайного леса без учета дисбаланса классов"
   ]
  },
  {
   "cell_type": "code",
   "execution_count": 35,
   "metadata": {},
   "outputs": [
    {
     "data": {
      "text/plain": [
       "RandomForestClassifier(random_state=12345)"
      ]
     },
     "execution_count": 35,
     "metadata": {},
     "output_type": "execute_result"
    }
   ],
   "source": [
    "model_r_forest_imba = RandomForestClassifier(random_state=12345)\n",
    "# обучим модель на тренировочных данных\n",
    "model_r_forest_imba.fit(features_train_scaled, target_train)"
   ]
  },
  {
   "cell_type": "code",
   "execution_count": 36,
   "metadata": {},
   "outputs": [],
   "source": [
    "# предскажем целевой признак на валидных признаках\n",
    "predicted_valid_model_r_forest_imba = \\\n",
    "model_r_forest_imba.predict(features_valid_scaled)"
   ]
  },
  {
   "cell_type": "code",
   "execution_count": 37,
   "metadata": {},
   "outputs": [
    {
     "data": {
      "text/plain": [
       "0.536144578313253"
      ]
     },
     "execution_count": 37,
     "metadata": {},
     "output_type": "execute_result"
    }
   ],
   "source": [
    "# посчитаем метрику F1\n",
    "f1_score(predicted_valid_model_r_forest_imba, target_valid)"
   ]
  },
  {
   "cell_type": "code",
   "execution_count": 38,
   "metadata": {},
   "outputs": [
    {
     "data": {
      "text/plain": [
       "'Accuracy на обучающей выборке:'"
      ]
     },
     "metadata": {},
     "output_type": "display_data"
    },
    {
     "data": {
      "text/plain": [
       "0.9998333333333334"
      ]
     },
     "metadata": {},
     "output_type": "display_data"
    },
    {
     "data": {
      "text/plain": [
       "'Accuracy на валидной выборке:'"
      ]
     },
     "metadata": {},
     "output_type": "display_data"
    },
    {
     "data": {
      "text/plain": [
       "0.846"
      ]
     },
     "metadata": {},
     "output_type": "display_data"
    }
   ],
   "source": [
    "# посчитаем accuracy выборках train и valid\n",
    "display('Accuracy на обучающей выборке:', \\\n",
    "        model_r_forest_imba.score(features_train_scaled, target_train), \\\n",
    "        'Accuracy на валидной выборке:', \\\n",
    "        model_r_forest_imba.score(features_valid_scaled, target_valid))"
   ]
  },
  {
   "cell_type": "code",
   "execution_count": 39,
   "metadata": {},
   "outputs": [
    {
     "data": {
      "text/plain": [
       "0.8513141779510727"
      ]
     },
     "execution_count": 39,
     "metadata": {},
     "output_type": "execute_result"
    }
   ],
   "source": [
    "# посчитаем метрику AUC-ROC\n",
    "roc_auc_score(target_valid, \\\n",
    "              model_r_forest_imba.predict_proba(features_valid_scaled)[:, 1])"
   ]
  },
  {
   "cell_type": "markdown",
   "metadata": {},
   "source": [
    "*Как и ожидалось модель случайного леса показала лучшие метрики без настроек гипперпараметров (для частоты исследования гипперпараметры во всех моделях оставили не настроенными) мы получили значения F1 меры равной 0.54, что уже близко к значению задачи, так же были рассчитына метрика accuracy почти 0.85, метрика AUC-ROC равна 0.85 что является хорошим показателям, можно сделать вывод, что модель более точно находит правильные ответы, чем две другие модели.*"
   ]
  },
  {
   "cell_type": "markdown",
   "metadata": {},
   "source": [
    "Проведем проверку моделей на адекватность"
   ]
  },
  {
   "cell_type": "code",
   "execution_count": 40,
   "metadata": {},
   "outputs": [],
   "source": [
    "# создадим модель DummyClassifier \n",
    "model_dummy = DummyClassifier(random_state=1234)\n",
    "# обучим нашу модель на тренеровояных данных\n",
    "model_dummy.fit(features_train_scaled, target_train)\n",
    "# предскажем целевой признак на валидных признаках\n",
    "predicted_valid_model_dummy = model_dummy.predict(features_valid_scaled)"
   ]
  },
  {
   "cell_type": "code",
   "execution_count": 41,
   "metadata": {},
   "outputs": [
    {
     "data": {
      "text/plain": [
       "0.7885"
      ]
     },
     "execution_count": 41,
     "metadata": {},
     "output_type": "execute_result"
    }
   ],
   "source": [
    "# посчитаем качество для модели DummyClassifier\n",
    "model_dummy.score(features_valid_scaled, target_valid)"
   ]
  },
  {
   "cell_type": "code",
   "execution_count": 42,
   "metadata": {},
   "outputs": [
    {
     "data": {
      "text/plain": [
       "0.5"
      ]
     },
     "execution_count": 42,
     "metadata": {},
     "output_type": "execute_result"
    }
   ],
   "source": [
    "# посчитаем метрику AUC-ROC\n",
    "roc_auc_score(target_valid, \\\n",
    "              model_dummy.predict_proba(features_valid_scaled)[:, 1])"
   ]
  },
  {
   "cell_type": "markdown",
   "metadata": {},
   "source": [
    "*Мы провели исследование трех моделей с учетом дисбаланса классов, так же провели оценку адекватности моделей, по ней можно сделать вывод, что метрики у модели случайного дерева хуже всех остальных моделей и сопоставимы с Dummy моделью , исходя из всех оценок лучшая модель это модель случайного леса у нее лучшие показатели F1 меры 0.54 и точности 0.85 и метрика метрика AUC-ROC равна 0.85.*"
   ]
  },
  {
   "cell_type": "markdown",
   "metadata": {},
   "source": [
    "## Борьба с дисбалансом"
   ]
  },
  {
   "cell_type": "markdown",
   "metadata": {},
   "source": [
    "Для устранения дисбаланса попробуем три метода:\n",
    "- upsampling\n",
    "- downsampling\n",
    "- class weight  у моделей решающего дерева и случайного леса"
   ]
  },
  {
   "cell_type": "code",
   "execution_count": 43,
   "metadata": {
    "scrolled": true
   },
   "outputs": [
    {
     "data": {
      "image/png": "[encoded data removed]",
      "text/plain": [
       "<Figure size 432x288 with 1 Axes>"
      ]
     },
     "metadata": {
      "needs_background": "light"
     },
     "output_type": "display_data"
    }
   ],
   "source": [
    "# еще раз посмотрим наши классы и их баланс\n",
    "plt.bar(['0', '1'], target.value_counts())\n",
    "plt.title('Диаграмма классов')\n",
    "plt.xlabel('Значение')\n",
    "plt.ylabel('Частота')\n",
    "plt.show()"
   ]
  },
  {
   "cell_type": "markdown",
   "metadata": {},
   "source": [
    "С помощью метода Upsampling увеличим класс 1 в четыре раза написав соответствующую функцию"
   ]
  },
  {
   "cell_type": "code",
   "execution_count": 44,
   "metadata": {},
   "outputs": [],
   "source": [
    "def upsample(features, target, repeat):\n",
    "    features_zeros = features[target == 0]\n",
    "    target_zeros = target[target == 0]\n",
    "    features_ones = features[target == 1]\n",
    "    target_ones = target[target == 1]\n",
    "    features_upsampled = shuffle((pd.concat([features_zeros] + [features_ones] * repeat)), random_state=12345)\n",
    "    target_upsampled = shuffle((pd.concat([target_zeros] + [target_ones] * repeat)), random_state=12345)\n",
    "    return features_upsampled, target_upsampled"
   ]
  },
  {
   "cell_type": "code",
   "execution_count": 45,
   "metadata": {},
   "outputs": [],
   "source": [
    "# применим нашу функцию upsample\n",
    "features_upsample, target_upsample = \\\n",
    "upsample(features_train_scaled, target_train, 4)"
   ]
  },
  {
   "cell_type": "code",
   "execution_count": 46,
   "metadata": {},
   "outputs": [
    {
     "data": {
      "image/png": "[encoded data removed]",
      "text/plain": [
       "<Figure size 432x288 with 1 Axes>"
      ]
     },
     "metadata": {
      "needs_background": "light"
     },
     "output_type": "display_data"
    }
   ],
   "source": [
    "# проверим как работает наша функция upsample\n",
    "plt.bar(['0', '1'], target_upsample.value_counts())\n",
    "plt.title('Диаграмма классов')\n",
    "plt.xlabel('Значение')\n",
    "plt.ylabel('Частота')\n",
    "plt.show()"
   ]
  },
  {
   "cell_type": "markdown",
   "metadata": {},
   "source": [
    "С помощью метода Downsampling уменьшим класс 0 в четыре раза написав соответствующую функцию"
   ]
  },
  {
   "cell_type": "code",
   "execution_count": 47,
   "metadata": {},
   "outputs": [],
   "source": [
    "def downsample(features, target, fraction):\n",
    "    features_zeros = features[target == 0]\n",
    "    target_zeros = target[target == 0]\n",
    "    features_ones = features[target == 1]\n",
    "    target_ones = target[target == 1]\n",
    "    features_downsampled = shuffle((pd.concat([features_zeros.sample(frac=fraction, random_state=12345)] + \\\n",
    "                                            [features_ones])), random_state=12345)\n",
    "    target_downsampled = shuffle((pd.concat([target_zeros.sample(frac=fraction, random_state=12345)] + \\\n",
    "                                          [target_ones])), random_state=12345)\n",
    "    return features_downsampled, target_downsampled"
   ]
  },
  {
   "cell_type": "code",
   "execution_count": 48,
   "metadata": {},
   "outputs": [],
   "source": [
    "# применим нашу функцию downsample\n",
    "features_downsample, target_downsample = \\\n",
    "downsample(features_train_scaled, target_train, 0.25)"
   ]
  },
  {
   "cell_type": "code",
   "execution_count": 49,
   "metadata": {
    "scrolled": true
   },
   "outputs": [
    {
     "data": {
      "image/png": "[encoded data removed]",
      "text/plain": [
       "<Figure size 432x288 with 1 Axes>"
      ]
     },
     "metadata": {
      "needs_background": "light"
     },
     "output_type": "display_data"
    }
   ],
   "source": [
    "# проверим как работает наша функция downsample\n",
    "plt.bar(['0', '1'], target_downsample.value_counts())\n",
    "plt.title('Диаграмма классов')\n",
    "plt.xlabel('Значение')\n",
    "plt.ylabel('Частота')\n",
    "plt.show()"
   ]
  },
  {
   "cell_type": "markdown",
   "metadata": {},
   "source": [
    "*Ниже обучим наши модели с учетом дисбаланса классов*"
   ]
  },
  {
   "cell_type": "markdown",
   "metadata": {},
   "source": [
    "Обучим Dummy модель для оценки адекватности моделей с учетом дисбаланса классов"
   ]
  },
  {
   "cell_type": "code",
   "execution_count": 50,
   "metadata": {},
   "outputs": [],
   "source": [
    "# для сравнения наших моделях начнем с Dummy модели на upsampled данных\n",
    "model_dummy_balance_upsmpl = DummyClassifier(random_state=1234)\n",
    "# обучим нашу модель на тренеровочных данных\n",
    "model_dummy_balance_upsmpl.fit(features_upsample, target_upsample)\n",
    "# предскажем целевой признак на валидных признаках\n",
    "predicted_valid_model_dummy_balance_upsmpl = \\\n",
    "model_dummy_balance_upsmpl.predict(features_valid_scaled)"
   ]
  },
  {
   "cell_type": "code",
   "execution_count": 51,
   "metadata": {},
   "outputs": [
    {
     "data": {
      "text/plain": [
       "0.7885"
      ]
     },
     "execution_count": 51,
     "metadata": {},
     "output_type": "execute_result"
    }
   ],
   "source": [
    "# посчитаем качество для модели DummyClassifier на upsampled данных\n",
    "model_dummy_balance_upsmpl.score(predicted_valid_model_dummy_balance_upsmpl, \\\n",
    "                                 target_valid)"
   ]
  },
  {
   "cell_type": "code",
   "execution_count": 52,
   "metadata": {},
   "outputs": [
    {
     "data": {
      "text/plain": [
       "0.5"
      ]
     },
     "execution_count": 52,
     "metadata": {},
     "output_type": "execute_result"
    }
   ],
   "source": [
    "# посчитаем метрику AUC-ROC\n",
    "roc_auc_score(target_valid, \\\n",
    "              model_dummy_balance_upsmpl.predict_proba(features_valid_scaled)[:, 1])"
   ]
  },
  {
   "cell_type": "code",
   "execution_count": 53,
   "metadata": {},
   "outputs": [],
   "source": [
    "# для сравнения наших моделях начнем с Dummy модели на downsampled данных\n",
    "model_dummy_balance_downsmpl = DummyClassifier(random_state=1234)\n",
    "# обучим нашу модель на тренеровочных данных\n",
    "model_dummy_balance_downsmpl.fit(features_downsample, target_downsample)\n",
    "# предскажем целевой признак на валидных признаках\n",
    "predicted_valid_model_dummy_balance_downsmpl = model_dummy_balance_downsmpl.predict(features_valid_scaled)"
   ]
  },
  {
   "cell_type": "code",
   "execution_count": 54,
   "metadata": {},
   "outputs": [
    {
     "data": {
      "text/plain": [
       "0.7885"
      ]
     },
     "execution_count": 54,
     "metadata": {},
     "output_type": "execute_result"
    }
   ],
   "source": [
    "# посчитаем качество для модели DummyClassifier на downsampled данных\n",
    "model_dummy_balance_downsmpl.score(predicted_valid_model_dummy_balance_downsmpl, \\\n",
    "                                   target_valid)"
   ]
  },
  {
   "cell_type": "code",
   "execution_count": 55,
   "metadata": {},
   "outputs": [
    {
     "data": {
      "text/plain": [
       "0.5"
      ]
     },
     "execution_count": 55,
     "metadata": {},
     "output_type": "execute_result"
    }
   ],
   "source": [
    "# посчитаем метрику AUC-ROC\n",
    "roc_auc_score(target_valid, \\\n",
    "              model_dummy_balance_downsmpl.predict_proba(features_valid_scaled)[:, 1])"
   ]
  },
  {
   "cell_type": "markdown",
   "metadata": {},
   "source": [
    "*Dummy модель показывает точность 0.79 как на upsampled данных, так и на downsampled данных, при учете дисбаланса классов, метрика AUC-ROC равна 0.5 как при upsampled, так и при downsampled*"
   ]
  },
  {
   "cell_type": "markdown",
   "metadata": {},
   "source": [
    "Модели древа решений"
   ]
  },
  {
   "cell_type": "code",
   "execution_count": 71,
   "metadata": {},
   "outputs": [
    {
     "data": {
      "text/plain": [
       "DecisionTreeClassifier(random_state=12345)"
      ]
     },
     "execution_count": 71,
     "metadata": {},
     "output_type": "execute_result"
    }
   ],
   "source": [
    "# модель древа решений на upsampled данных\n",
    "model_tree_balance_upsmpl = DecisionTreeClassifier(random_state=12345)\n",
    "# обучим модель на тренировочных данных\n",
    "model_tree_balance_upsmpl.fit(features_upsample, target_upsample)"
   ]
  },
  {
   "cell_type": "code",
   "execution_count": 72,
   "metadata": {},
   "outputs": [],
   "source": [
    "# предскажем целевой признак на валидных признаках\n",
    "predicted_valid_model_tree_balance_upsmpl = model_tree_balance_upsmpl.predict(features_valid_scaled)"
   ]
  },
  {
   "cell_type": "code",
   "execution_count": 73,
   "metadata": {},
   "outputs": [
    {
     "data": {
      "text/plain": [
       "0.4957264957264958"
      ]
     },
     "execution_count": 73,
     "metadata": {},
     "output_type": "execute_result"
    }
   ],
   "source": [
    "# посчитаем метрику F1\n",
    "f1_score(predicted_valid_model_tree_balance_upsmpl, target_valid)"
   ]
  },
  {
   "cell_type": "code",
   "execution_count": 74,
   "metadata": {},
   "outputs": [
    {
     "data": {
      "text/plain": [
       "'Accuracy на обучающей выборке:'"
      ]
     },
     "metadata": {},
     "output_type": "display_data"
    },
    {
     "data": {
      "text/plain": [
       "1.0"
      ]
     },
     "metadata": {},
     "output_type": "display_data"
    },
    {
     "data": {
      "text/plain": [
       "'Accuracy на валидной выборке:'"
      ]
     },
     "metadata": {},
     "output_type": "display_data"
    },
    {
     "data": {
      "text/plain": [
       "0.7935"
      ]
     },
     "metadata": {},
     "output_type": "display_data"
    }
   ],
   "source": [
    "# посчитаем accuracy выборках train и valid\n",
    "display('Accuracy на обучающей выборке:', model_tree_balance_upsmpl.score(features_upsample, target_upsample), \\\n",
    "        'Accuracy на валидной выборке:', model_tree_balance_upsmpl.score(features_valid_scaled, target_valid))"
   ]
  },
  {
   "cell_type": "code",
   "execution_count": 75,
   "metadata": {},
   "outputs": [
    {
     "data": {
      "text/plain": [
       "0.6787605817071947"
      ]
     },
     "execution_count": 75,
     "metadata": {},
     "output_type": "execute_result"
    }
   ],
   "source": [
    "# посчитаем метрику AUC-ROC\n",
    "roc_auc_score(target_valid, \\\n",
    "              model_tree_balance_upsmpl.predict_proba(features_valid_scaled)[:, 1])"
   ]
  },
  {
   "cell_type": "code",
   "execution_count": 76,
   "metadata": {},
   "outputs": [
    {
     "data": {
      "text/plain": [
       "DecisionTreeClassifier(random_state=12345)"
      ]
     },
     "execution_count": 76,
     "metadata": {},
     "output_type": "execute_result"
    }
   ],
   "source": [
    "# модель древа решений на downsampled данных\n",
    "model_tree_balance_downsmpl = DecisionTreeClassifier(random_state=12345)\n",
    "# обучим модель на тренировочных данных\n",
    "model_tree_balance_downsmpl.fit(features_downsample, target_downsample)"
   ]
  },
  {
   "cell_type": "code",
   "execution_count": 77,
   "metadata": {},
   "outputs": [],
   "source": [
    "# предскажем целевой признак на валидных признаках\n",
    "predicted_valid_model_tree_balance_downsmpl = model_tree_balance_downsmpl.predict(features_valid_scaled)"
   ]
  },
  {
   "cell_type": "code",
   "execution_count": 78,
   "metadata": {},
   "outputs": [
    {
     "data": {
      "text/plain": [
       "0.49128919860627185"
      ]
     },
     "execution_count": 78,
     "metadata": {},
     "output_type": "execute_result"
    }
   ],
   "source": [
    "# посчитаем метрику F1\n",
    "f1_score(predicted_valid_model_tree_balance_downsmpl, target_valid)"
   ]
  },
  {
   "cell_type": "code",
   "execution_count": 79,
   "metadata": {},
   "outputs": [
    {
     "data": {
      "text/plain": [
       "'Accuracy на обучающей выборке:'"
      ]
     },
     "metadata": {},
     "output_type": "display_data"
    },
    {
     "data": {
      "text/plain": [
       "1.0"
      ]
     },
     "metadata": {},
     "output_type": "display_data"
    },
    {
     "data": {
      "text/plain": [
       "'Accuracy на валидной выборке:'"
      ]
     },
     "metadata": {},
     "output_type": "display_data"
    },
    {
     "data": {
      "text/plain": [
       "0.708"
      ]
     },
     "metadata": {},
     "output_type": "display_data"
    }
   ],
   "source": [
    "# посчитаем accuracy выборках train и valid\n",
    "display('Accuracy на обучающей выборке:', model_tree_balance_downsmpl.score(features_downsample, target_downsample), \\\n",
    "        'Accuracy на валидной выборке:', model_tree_balance_downsmpl.score(features_valid_scaled, target_valid))"
   ]
  },
  {
   "cell_type": "code",
   "execution_count": 80,
   "metadata": {},
   "outputs": [
    {
     "data": {
      "text/plain": [
       "0.6928767702388502"
      ]
     },
     "execution_count": 80,
     "metadata": {},
     "output_type": "execute_result"
    }
   ],
   "source": [
    "# посчитаем метрику AUC-ROC\n",
    "roc_auc_score(target_valid, \\\n",
    "              model_tree_balance_downsmpl.predict_proba(features_valid_scaled)[:, 1])"
   ]
  },
  {
   "cell_type": "code",
   "execution_count": 81,
   "metadata": {},
   "outputs": [
    {
     "data": {
      "text/plain": [
       "DecisionTreeClassifier(class_weight='balanced', random_state=12345)"
      ]
     },
     "execution_count": 81,
     "metadata": {},
     "output_type": "execute_result"
    }
   ],
   "source": [
    "# модель древа решений с учетом аргумента class_weight, встроенной в параметры модели\n",
    "model_tree_balance_class_weight = DecisionTreeClassifier(random_state=12345, class_weight='balanced')\n",
    "# обучим модель на тренировочных данных\n",
    "model_tree_balance_class_weight.fit(features_train_scaled, target_train)"
   ]
  },
  {
   "cell_type": "code",
   "execution_count": 82,
   "metadata": {},
   "outputs": [],
   "source": [
    "# предскажем целевой признак на валидных признаках\n",
    "predicted_valid_model_tree_balance_class_weight = model_tree_balance_class_weight.predict(features_valid_scaled)"
   ]
  },
  {
   "cell_type": "code",
   "execution_count": 83,
   "metadata": {},
   "outputs": [
    {
     "data": {
      "text/plain": [
       "0.4839506172839506"
      ]
     },
     "execution_count": 83,
     "metadata": {},
     "output_type": "execute_result"
    }
   ],
   "source": [
    "# посчитаем метрику F1\n",
    "f1_score(predicted_valid_model_tree_balance_class_weight, target_valid)"
   ]
  },
  {
   "cell_type": "code",
   "execution_count": 84,
   "metadata": {},
   "outputs": [
    {
     "data": {
      "text/plain": [
       "'Accuracy на обучающей выборке:'"
      ]
     },
     "metadata": {},
     "output_type": "display_data"
    },
    {
     "data": {
      "text/plain": [
       "1.0"
      ]
     },
     "metadata": {},
     "output_type": "display_data"
    },
    {
     "data": {
      "text/plain": [
       "'Accuracy на валидной выборке:'"
      ]
     },
     "metadata": {},
     "output_type": "display_data"
    },
    {
     "data": {
      "text/plain": [
       "0.791"
      ]
     },
     "metadata": {},
     "output_type": "display_data"
    }
   ],
   "source": [
    "# посчитаем accuracy выборках train и valid\n",
    "display('Accuracy на обучающей выборке:', model_tree_balance_class_weight.score(features_train_scaled, target_train), \\\n",
    "        'Accuracy на валидной выборке:', model_tree_balance_class_weight.score(features_valid_scaled, target_valid))"
   ]
  },
  {
   "cell_type": "code",
   "execution_count": 85,
   "metadata": {},
   "outputs": [
    {
     "data": {
      "text/plain": [
       "0.671120465437712"
      ]
     },
     "execution_count": 85,
     "metadata": {},
     "output_type": "execute_result"
    }
   ],
   "source": [
    "# посчитаем метрику AUC-ROC\n",
    "roc_auc_score(target_valid, \\\n",
    "              model_tree_balance_class_weight.predict_proba(features_valid_scaled)[:, 1])"
   ]
  },
  {
   "cell_type": "markdown",
   "metadata": {},
   "source": [
    "*Из полученных данных видим, что модель древа решений показала лучшую F1 меру при upsampling'e, чем остальные методы балансировки классов. Так же отметим, что при учете дисбаланса классов, F1 мера увеличилась с 0.48 до 0.5, и выросла точность с 0.78 до 0.79, метрика AUC-ROC при downsamplin показала значение 0.69, что немного выше чем 0.67 при дисбалансе классов*"
   ]
  },
  {
   "cell_type": "markdown",
   "metadata": {},
   "source": [
    "Модели случайного леса"
   ]
  },
  {
   "cell_type": "code",
   "execution_count": 86,
   "metadata": {},
   "outputs": [
    {
     "data": {
      "text/plain": [
       "RandomForestClassifier(random_state=12345)"
      ]
     },
     "execution_count": 86,
     "metadata": {},
     "output_type": "execute_result"
    }
   ],
   "source": [
    "# модель случайного леса на upsampled данных\n",
    "model_r_forest_balance_upsmpl = RandomForestClassifier(random_state=12345)\n",
    "# обучим модель на тренировочных данных\n",
    "model_r_forest_balance_upsmpl.fit(features_upsample, target_upsample)"
   ]
  },
  {
   "cell_type": "code",
   "execution_count": 87,
   "metadata": {},
   "outputs": [],
   "source": [
    "# предскажем целевой признак на валидных признаках\n",
    "predicted_valid_model_r_forest_balance_upsmpl = model_r_forest_balance_upsmpl.predict(features_valid_scaled)"
   ]
  },
  {
   "cell_type": "code",
   "execution_count": 88,
   "metadata": {},
   "outputs": [
    {
     "data": {
      "text/plain": [
       "0.5816733067729083"
      ]
     },
     "execution_count": 88,
     "metadata": {},
     "output_type": "execute_result"
    }
   ],
   "source": [
    "# посчитаем метрику F1\n",
    "f1_score(predicted_valid_model_r_forest_balance_upsmpl, target_valid)"
   ]
  },
  {
   "cell_type": "code",
   "execution_count": 89,
   "metadata": {},
   "outputs": [
    {
     "data": {
      "text/plain": [
       "'Accuracy на обучающей выборке:'"
      ]
     },
     "metadata": {},
     "output_type": "display_data"
    },
    {
     "data": {
      "text/plain": [
       "1.0"
      ]
     },
     "metadata": {},
     "output_type": "display_data"
    },
    {
     "data": {
      "text/plain": [
       "'Accuracy на валидной выборке:'"
      ]
     },
     "metadata": {},
     "output_type": "display_data"
    },
    {
     "data": {
      "text/plain": [
       "0.8425"
      ]
     },
     "metadata": {},
     "output_type": "display_data"
    }
   ],
   "source": [
    "# посчитаем accuracy выборках train и valid\n",
    "display('Accuracy на обучающей выборке:', model_r_forest_balance_upsmpl.score(features_upsample, target_upsample), \\\n",
    "        'Accuracy на валидной выборке:', model_r_forest_balance_upsmpl.score(features_valid_scaled, target_valid))"
   ]
  },
  {
   "cell_type": "code",
   "execution_count": 90,
   "metadata": {},
   "outputs": [
    {
     "data": {
      "text/plain": [
       "0.8495452508053866"
      ]
     },
     "execution_count": 90,
     "metadata": {},
     "output_type": "execute_result"
    }
   ],
   "source": [
    "# посчитаем метрику AUC-ROC\n",
    "roc_auc_score(target_valid, \\\n",
    "              model_r_forest_balance_upsmpl.predict_proba(features_valid_scaled)[:, 1])"
   ]
  },
  {
   "cell_type": "code",
   "execution_count": 91,
   "metadata": {},
   "outputs": [
    {
     "data": {
      "text/plain": [
       "RandomForestClassifier(random_state=12345)"
      ]
     },
     "execution_count": 91,
     "metadata": {},
     "output_type": "execute_result"
    }
   ],
   "source": [
    "# модель случайного леса на downsampled данных\n",
    "model_r_forest_balance_downsmpl = RandomForestClassifier(random_state=12345)\n",
    "# обучим модель на тренировочных данных\n",
    "model_r_forest_balance_downsmpl.fit(features_downsample, target_downsample)"
   ]
  },
  {
   "cell_type": "code",
   "execution_count": 92,
   "metadata": {},
   "outputs": [],
   "source": [
    "# предскажем целевой признак на валидных признаках\n",
    "predicted_valid_model_r_forest_balance_downsmpl = model_r_forest_balance_downsmpl.predict(features_valid_scaled)"
   ]
  },
  {
   "cell_type": "code",
   "execution_count": 93,
   "metadata": {},
   "outputs": [
    {
     "data": {
      "text/plain": [
       "0.584870848708487"
      ]
     },
     "execution_count": 93,
     "metadata": {},
     "output_type": "execute_result"
    }
   ],
   "source": [
    "# посчитаем метрику F1\n",
    "f1_score(predicted_valid_model_r_forest_balance_downsmpl, target_valid)"
   ]
  },
  {
   "cell_type": "code",
   "execution_count": 94,
   "metadata": {},
   "outputs": [
    {
     "data": {
      "text/plain": [
       "'Accuracy на обучающей выборке:'"
      ]
     },
     "metadata": {},
     "output_type": "display_data"
    },
    {
     "data": {
      "text/plain": [
       "1.0"
      ]
     },
     "metadata": {},
     "output_type": "display_data"
    },
    {
     "data": {
      "text/plain": [
       "'Accuracy на валидной выборке:'"
      ]
     },
     "metadata": {},
     "output_type": "display_data"
    },
    {
     "data": {
      "text/plain": [
       "0.775"
      ]
     },
     "metadata": {},
     "output_type": "display_data"
    }
   ],
   "source": [
    "# посчитаем accuracy выборках train и valid\n",
    "display('Accuracy на обучающей выборке:', model_r_forest_balance_downsmpl.score(features_downsample, target_downsample), \\\n",
    "        'Accuracy на валидной выборке:', model_r_forest_balance_downsmpl.score(features_valid_scaled, target_valid))"
   ]
  },
  {
   "cell_type": "code",
   "execution_count": 95,
   "metadata": {},
   "outputs": [
    {
     "data": {
      "text/plain": [
       "0.8450247424936776"
      ]
     },
     "execution_count": 95,
     "metadata": {},
     "output_type": "execute_result"
    }
   ],
   "source": [
    "# посчитаем метрику AUC-ROC\n",
    "roc_auc_score(target_valid, \\\n",
    "              model_r_forest_balance_downsmpl.predict_proba(features_valid_scaled)[:, 1])"
   ]
  },
  {
   "cell_type": "code",
   "execution_count": 96,
   "metadata": {},
   "outputs": [
    {
     "data": {
      "text/plain": [
       "RandomForestClassifier(class_weight='balanced', random_state=12345)"
      ]
     },
     "execution_count": 96,
     "metadata": {},
     "output_type": "execute_result"
    }
   ],
   "source": [
    "# модель случайного леса с учетом аргумента class_weight, встроенной в параметры модели\n",
    "model_r_forest_balance_class_weight = RandomForestClassifier(random_state=12345, class_weight='balanced')\n",
    "# обучим модель на тренировочных данных\n",
    "model_r_forest_balance_class_weight.fit(features_train_scaled, target_train)"
   ]
  },
  {
   "cell_type": "code",
   "execution_count": 97,
   "metadata": {},
   "outputs": [],
   "source": [
    "# предскажем целевой признак на валидных признаках\n",
    "predicted_valid_model_r_forest_balance_class_weight = model_r_forest_balance_class_weight.predict(features_valid_scaled)"
   ]
  },
  {
   "cell_type": "code",
   "execution_count": 98,
   "metadata": {},
   "outputs": [
    {
     "data": {
      "text/plain": [
       "0.5146379044684128"
      ]
     },
     "execution_count": 98,
     "metadata": {},
     "output_type": "execute_result"
    }
   ],
   "source": [
    "# посчитаем метрику F1\n",
    "f1_score(predicted_valid_model_r_forest_balance_class_weight, target_valid)"
   ]
  },
  {
   "cell_type": "code",
   "execution_count": 99,
   "metadata": {
    "scrolled": true
   },
   "outputs": [
    {
     "data": {
      "text/plain": [
       "'Accuracy на обучающей выборке:'"
      ]
     },
     "metadata": {},
     "output_type": "display_data"
    },
    {
     "data": {
      "text/plain": [
       "1.0"
      ]
     },
     "metadata": {},
     "output_type": "display_data"
    },
    {
     "data": {
      "text/plain": [
       "'Accuracy на валидной выборке:'"
      ]
     },
     "metadata": {},
     "output_type": "display_data"
    },
    {
     "data": {
      "text/plain": [
       "0.8425"
      ]
     },
     "metadata": {},
     "output_type": "display_data"
    }
   ],
   "source": [
    "# посчитаем accuracy выборках train и valid\n",
    "display('Accuracy на обучающей выборке:', \\\n",
    "        model_r_forest_balance_class_weight.score(features_train_scaled, target_train), \\\n",
    "        'Accuracy на валидной выборке:', \\\n",
    "        model_r_forest_balance_class_weight.score(features_valid_scaled, target_valid))"
   ]
  },
  {
   "cell_type": "code",
   "execution_count": 100,
   "metadata": {},
   "outputs": [
    {
     "data": {
      "text/plain": [
       "0.8548347926982286"
      ]
     },
     "execution_count": 100,
     "metadata": {},
     "output_type": "execute_result"
    }
   ],
   "source": [
    "# посчитаем метрику AUC-ROC\n",
    "roc_auc_score(target_valid, \\\n",
    "              model_r_forest_balance_class_weight.predict_proba(features_valid_scaled)[:, 1])"
   ]
  },
  {
   "cell_type": "markdown",
   "metadata": {},
   "source": [
    "*Из полученных данных видим, что при downsampling'ге данных, мы получили лучшие метрики, чем встроенный в параметры модели случайного леса. Так же отметим, что при учете дисбаланса классов, F1 мера увеличилась с 0.54 до 0.59, точность немного упала с 0.85 до 0.76, метрика AUC-ROC не изменилась с учетом дисбаланса классов и равна 0.85*"
   ]
  },
  {
   "cell_type": "markdown",
   "metadata": {},
   "source": [
    "Лучшие метрики показала модель случайного леса обученная на upsamplig'e признаках, возьмем ее для подбора гипперпараметров, для получения еще более лучших метрик качества модели."
   ]
  },
  {
   "cell_type": "code",
   "execution_count": 101,
   "metadata": {},
   "outputs": [],
   "source": [
    "best_model_r_forest = None\n",
    "best_f1 = 0\n",
    "best_result_r_forest = 0\n",
    "\n",
    "for est in range(10, 251, 10):\n",
    "    for value in range(1, 25, 5):\n",
    "        # задаем модель с параметрами которые будем подбирать\n",
    "        train_model_r_forest = RandomForestClassifier(random_state=12345, n_estimators=est, max_depth=value, \\\n",
    "                                                    min_samples_split=value+1, min_samples_leaf=value)\n",
    "        train_model_r_forest.fit(features_upsample, target_upsample) # обучаем модель\n",
    "        predicted_valid_train_model_r_forest = train_model_r_forest.predict(features_valid_scaled)\n",
    "        f1 = f1_score(predicted_valid_train_model_r_forest, target_valid) # считаем F1 меру модели\n",
    "        valid_result_r_forest = train_model_r_forest.score(features_valid_scaled, target_valid) # считаем качество модели\n",
    "        if f1 > best_f1: # выбираем лучшие метрики\n",
    "            best_model_r_forest = train_model_r_forest\n",
    "            best_result_r_forest = valid_result_r_forest\n",
    "            best_f1 = f1"
   ]
  },
  {
   "cell_type": "code",
   "execution_count": 102,
   "metadata": {},
   "outputs": [
    {
     "data": {
      "text/plain": [
       "'Лучшая модель случайного леса:'"
      ]
     },
     "metadata": {},
     "output_type": "display_data"
    },
    {
     "data": {
      "text/plain": [
       "RandomForestClassifier(max_depth=11, min_samples_leaf=11, min_samples_split=12,\n",
       "                       n_estimators=190, random_state=12345)"
      ]
     },
     "metadata": {},
     "output_type": "display_data"
    },
    {
     "data": {
      "text/plain": [
       "'Лучшая F1 мера:'"
      ]
     },
     "metadata": {},
     "output_type": "display_data"
    },
    {
     "data": {
      "text/plain": [
       "0.615859938208033"
      ]
     },
     "metadata": {},
     "output_type": "display_data"
    },
    {
     "data": {
      "text/plain": [
       "'Accuracy лучшей модели случайного леса:'"
      ]
     },
     "metadata": {},
     "output_type": "display_data"
    },
    {
     "data": {
      "text/plain": [
       "0.8135"
      ]
     },
     "metadata": {},
     "output_type": "display_data"
    }
   ],
   "source": [
    "display('Лучшая модель случайного леса:', best_model_r_forest, \\\n",
    "        'Лучшая F1 мера:', best_f1, \\\n",
    "        'Accuracy лучшей модели случайного леса:', best_result_r_forest)"
   ]
  },
  {
   "attachments": {},
   "cell_type": "markdown",
   "metadata": {},
   "source": [
    "Подведем итог наших исследований:\n",
    "- не все модели прошли тест на адекватность, по метрике точности у Dummy модели 0.79.\n",
    "- модели показали более лучшие метрики F1 меры, по сравнению с моделями, где не был учтен дисбаланс классов\n",
    "- немного снизилась метрика точности у моделей логистической регресси и древа решений, а модели случайного леса осталась примерно на том же уровне\n",
    "- с помощью перебора гиппер параметров были найдены лучшие гиппер параметры для модели случайного леса, где удалось достичь F1 меры равной 0.62 "
   ]
  },
  {
   "cell_type": "markdown",
   "metadata": {},
   "source": [
    "## Тестирование модели"
   ]
  },
  {
   "cell_type": "code",
   "execution_count": 103,
   "metadata": {},
   "outputs": [],
   "source": [
    "# модель случайного леса с лучшими гипперпараметрами\n",
    "model = RandomForestClassifier(max_depth=11, min_samples_leaf=11, min_samples_split=12,\n",
    "                       n_estimators=190, random_state=12345)"
   ]
  },
  {
   "cell_type": "code",
   "execution_count": 104,
   "metadata": {},
   "outputs": [
    {
     "data": {
      "text/plain": [
       "RandomForestClassifier(max_depth=11, min_samples_leaf=11, min_samples_split=12,\n",
       "                       n_estimators=190, random_state=12345)"
      ]
     },
     "execution_count": 104,
     "metadata": {},
     "output_type": "execute_result"
    }
   ],
   "source": [
    "# обучим нашу лучшую модель\n",
    "model.fit(features_upsample, target_upsample)"
   ]
  },
  {
   "cell_type": "code",
   "execution_count": 105,
   "metadata": {},
   "outputs": [],
   "source": [
    "# получим предсказания\n",
    "predicted_test = model.predict(features_test_scaled)"
   ]
  },
  {
   "cell_type": "code",
   "execution_count": 106,
   "metadata": {},
   "outputs": [
    {
     "data": {
      "text/plain": [
       "0.6225026288117771"
      ]
     },
     "execution_count": 106,
     "metadata": {},
     "output_type": "execute_result"
    }
   ],
   "source": [
    "# посчитаем F1 метрику\n",
    "f1_score(predicted_test, target_test)"
   ]
  },
  {
   "cell_type": "code",
   "execution_count": 107,
   "metadata": {},
   "outputs": [
    {
     "data": {
      "text/plain": [
       "0.8205"
      ]
     },
     "execution_count": 107,
     "metadata": {},
     "output_type": "execute_result"
    }
   ],
   "source": [
    "# посчитаем accuracy\n",
    "model.score(features_test_scaled, target_test)"
   ]
  },
  {
   "cell_type": "markdown",
   "metadata": {},
   "source": [
    "*При тестировании наша лучшая модель случайного леса показала, примерно такие же метрики как и на валидационных данных, нам на тестовых данных удалось достичь занчения F1 меры не менее 0.62, а точносности 0.82, можно поитожить, что наша модель выполняет условие поставленной задачи.*"
   ]
  },
  {
   "cell_type": "markdown",
   "metadata": {},
   "source": [
    "Исследуем метрику AUC-ROC"
   ]
  },
  {
   "cell_type": "code",
   "execution_count": 108,
   "metadata": {},
   "outputs": [
    {
     "data": {
      "text/plain": [
       "0.8549909568773099"
      ]
     },
     "execution_count": 108,
     "metadata": {},
     "output_type": "execute_result"
    }
   ],
   "source": [
    "# посчитаем метрику AUC-ROC\n",
    "roc_auc_score(target_test, model.predict_proba(features_test_scaled)[:, 1])"
   ]
  },
  {
   "cell_type": "code",
   "execution_count": 109,
   "metadata": {},
   "outputs": [],
   "source": [
    "# вычислим вероятность классов методом predict_proba\n",
    "probabilities_valid = model.predict_proba(features_test_scaled)"
   ]
  },
  {
   "cell_type": "code",
   "execution_count": 110,
   "metadata": {},
   "outputs": [],
   "source": [
    "# выберем вероятности 1-го класса\n",
    "probabilities_one_test = probabilities_valid[:, 1]"
   ]
  },
  {
   "cell_type": "code",
   "execution_count": 111,
   "metadata": {
    "scrolled": true
   },
   "outputs": [
    {
     "data": {
      "image/png": "[encoded data removed]",
      "text/plain": [
       "<Figure size 576x576 with 1 Axes>"
      ]
     },
     "metadata": {
      "needs_background": "light"
     },
     "output_type": "display_data"
    }
   ],
   "source": [
    "# построим ROC-кривую\n",
    "fpr, tpr, thresholds = roc_curve(target_test, probabilities_one_test)\n",
    "plt.figure(figsize=(8, 8))\n",
    "\n",
    "plt.plot(fpr, tpr,  color='red')\n",
    "\n",
    "# ROC-кривая случайной модели (выглядит как прямая)\n",
    "plt.plot([0, 1], [0, 1], linestyle='--')\n",
    "plt.title('ROC - Кривая')\n",
    "plt.xlabel('False Positive Rate')\n",
    "plt.ylabel('True Positive Rate')\n",
    "plt.xlim([-0.01, 1.01])\n",
    "plt.ylim([-0.01, 1.01])\n",
    "plt.show()"
   ]
  },
  {
   "attachments": {},
   "cell_type": "markdown",
   "metadata": {},
   "source": [
    "Общий вывод:\n",
    "- Мы провели подготовку данных: удалили лишние данные, заполнили пропуски, преоброзавали не числовые данные методом OHE в числовые, произвели масштабирование признаков\n",
    "- Провели исследование дисбаланса классов\n",
    "- Обучили модели логистической регресии, древа решений и случайного леса без учета дисбаланса классов и получены и проанализированы их метрики\n",
    "- С помощью методов Upsampling и Downsampling, а так же встроенными параметрами моделей Class_weight устранили дисбаланс классов и обучили модели с учетом дисбаланса калассов и получили их метрики, в целом из-за устранения дисбаласа классов удалось качественно увеличить F1 меру для всех моделей\n",
    "- Модели были оценены на адекватность, путем сравнения метрики accuracy с Dummy моделью, модели показали лучшую точность, о чем свидетельствует, что наши модели более точнее делают предсказания, нежели случайная простая модель\n",
    "- Была выбрана лучшая модель исходя из ее метрик качества, модель случайного леса с F1 мерой равной 0.62\n",
    "- К лучшей модели случайного леса были подобраны оптимальные гипперпараметры, для получения еще более лучших метрик качества модели\n",
    "- Лучшая модель случайного леса была протестирована на тестовых данных с оптимальными гипперпараметрами, была получена F1 мера равная 0.62, что являлось ключевым фактором решение задачи\n",
    "- Была рассчитана метрика AUC-ROC для лучшей модели случайного леса, равная 0.86 и построена ROC-кривая"
   ]
  },
  {
   "cell_type": "markdown",
   "metadata": {},
   "source": [
    "## Чек-лист готовности проекта"
   ]
  },
  {
   "cell_type": "markdown",
   "metadata": {},
   "source": [
    "Поставьте 'x' в выполненных пунктах. Далее нажмите Shift+Enter."
   ]
  },
  {
   "cell_type": "markdown",
   "metadata": {},
   "source": [
    "- [x]  Jupyter Notebook открыт\n",
    "- [x]  Весь код выполняется без ошибок\n",
    "- [x]  Ячейки с кодом расположены в порядке исполнения\n",
    "- [x]  Выполнен шаг 1: данные подготовлены\n",
    "- [x]  Выполнен шаг 2: задача исследована\n",
    "    - [x]  Исследован баланс классов\n",
    "    - [x]  Изучены модели без учёта дисбаланса\n",
    "    - [x]  Написаны выводы по результатам исследования\n",
    "- [x]  Выполнен шаг 3: учтён дисбаланс\n",
    "    - [x]  Применено несколько способов борьбы с дисбалансом\n",
    "    - [x]  Написаны выводы по результатам исследования\n",
    "- [x]  Выполнен шаг 4: проведено тестирование\n",
    "- [x]  Удалось достичь *F1*-меры не менее 0.59\n",
    "- [x]  Исследована метрика *AUC-ROC*"
   ]
  }
 ],
 "metadata": {
  "ExecuteTimeLog": [
   {
    "duration": 371,
    "start_time": "2022-11-25T21:30:58.926Z"
   },
   {
    "duration": 153,
    "start_time": "2022-11-25T21:31:01.675Z"
   },
   {
    "duration": 27,
    "start_time": "2022-11-25T21:31:02.938Z"
   },
   {
    "duration": 423,
    "start_time": "2022-11-26T20:45:32.967Z"
   },
   {
    "duration": 161,
    "start_time": "2022-11-26T20:45:33.952Z"
   },
   {
    "duration": 20,
    "start_time": "2022-11-26T20:45:34.902Z"
   },
   {
    "duration": 13,
    "start_time": "2022-11-26T20:45:57.554Z"
   },
   {
    "duration": 19,
    "start_time": "2022-11-26T20:51:21.770Z"
   },
   {
    "duration": 11,
    "start_time": "2022-11-26T20:53:55.090Z"
   },
   {
    "duration": 939,
    "start_time": "2022-11-26T20:54:51.070Z"
   },
   {
    "duration": 53946,
    "start_time": "2022-11-26T20:55:18.671Z"
   },
   {
    "duration": 24,
    "start_time": "2022-11-26T20:59:36.841Z"
   },
   {
    "duration": 15,
    "start_time": "2022-11-26T21:25:19.998Z"
   },
   {
    "duration": 98,
    "start_time": "2022-11-26T21:47:08.311Z"
   },
   {
    "duration": 18,
    "start_time": "2022-11-26T21:47:26.337Z"
   },
   {
    "duration": 5,
    "start_time": "2022-11-26T21:48:13.775Z"
   },
   {
    "duration": 12,
    "start_time": "2022-11-26T21:48:38.082Z"
   },
   {
    "duration": 16,
    "start_time": "2022-11-26T21:48:44.833Z"
   },
   {
    "duration": 21,
    "start_time": "2022-11-26T21:48:58.910Z"
   },
   {
    "duration": 3,
    "start_time": "2022-11-26T21:55:52.374Z"
   },
   {
    "duration": 65,
    "start_time": "2022-11-26T21:55:52.380Z"
   },
   {
    "duration": 18,
    "start_time": "2022-11-26T21:55:52.447Z"
   },
   {
    "duration": 20,
    "start_time": "2022-11-26T21:55:52.468Z"
   },
   {
    "duration": 22,
    "start_time": "2022-11-26T21:55:52.490Z"
   },
   {
    "duration": 19,
    "start_time": "2022-11-26T21:55:52.515Z"
   },
   {
    "duration": 29,
    "start_time": "2022-11-26T21:55:52.537Z"
   },
   {
    "duration": 6,
    "start_time": "2022-11-26T21:55:52.568Z"
   },
   {
    "duration": 43,
    "start_time": "2022-11-26T21:55:52.576Z"
   },
   {
    "duration": 396,
    "start_time": "2022-11-28T12:08:53.704Z"
   },
   {
    "duration": 156,
    "start_time": "2022-11-28T12:08:54.102Z"
   },
   {
    "duration": 19,
    "start_time": "2022-11-28T12:08:54.259Z"
   },
   {
    "duration": 12,
    "start_time": "2022-11-28T12:08:54.279Z"
   },
   {
    "duration": 13,
    "start_time": "2022-11-28T12:08:54.293Z"
   },
   {
    "duration": 7,
    "start_time": "2022-11-28T12:08:59.862Z"
   },
   {
    "duration": 13,
    "start_time": "2022-11-28T12:09:10.026Z"
   },
   {
    "duration": 3,
    "start_time": "2022-11-28T12:09:36.113Z"
   },
   {
    "duration": 9,
    "start_time": "2022-11-28T12:09:38.623Z"
   },
   {
    "duration": 12,
    "start_time": "2022-11-28T12:10:15.946Z"
   },
   {
    "duration": 18,
    "start_time": "2022-11-28T12:10:16.932Z"
   },
   {
    "duration": 64,
    "start_time": "2022-11-28T12:11:47.392Z"
   },
   {
    "duration": 2379,
    "start_time": "2022-11-28T12:11:56.292Z"
   },
   {
    "duration": 3,
    "start_time": "2022-11-28T12:12:11.138Z"
   },
   {
    "duration": 2073,
    "start_time": "2022-11-28T12:12:18.200Z"
   },
   {
    "duration": 4,
    "start_time": "2022-11-28T12:17:48.512Z"
   },
   {
    "duration": 10,
    "start_time": "2022-11-28T12:18:39.650Z"
   },
   {
    "duration": 3,
    "start_time": "2022-11-28T12:18:43.780Z"
   },
   {
    "duration": 10,
    "start_time": "2022-11-28T12:18:55.459Z"
   },
   {
    "duration": 4,
    "start_time": "2022-11-28T12:18:56.574Z"
   },
   {
    "duration": 13,
    "start_time": "2022-11-28T12:18:57.715Z"
   },
   {
    "duration": 1898,
    "start_time": "2022-11-28T12:18:59.013Z"
   },
   {
    "duration": 22,
    "start_time": "2022-11-28T12:19:04.140Z"
   },
   {
    "duration": 13,
    "start_time": "2022-11-28T12:19:09.191Z"
   },
   {
    "duration": 5,
    "start_time": "2022-11-28T12:19:31.570Z"
   },
   {
    "duration": 12,
    "start_time": "2022-11-28T12:19:33.206Z"
   },
   {
    "duration": 3,
    "start_time": "2022-11-28T12:19:34.338Z"
   },
   {
    "duration": 17,
    "start_time": "2022-11-28T12:19:38.355Z"
   },
   {
    "duration": 2,
    "start_time": "2022-11-28T12:20:01.391Z"
   },
   {
    "duration": 50,
    "start_time": "2022-11-28T12:20:01.395Z"
   },
   {
    "duration": 13,
    "start_time": "2022-11-28T12:20:01.447Z"
   },
   {
    "duration": 1986,
    "start_time": "2022-11-28T12:20:10.604Z"
   },
   {
    "duration": 5,
    "start_time": "2022-11-28T12:20:17.279Z"
   },
   {
    "duration": 14,
    "start_time": "2022-11-28T12:20:18.664Z"
   },
   {
    "duration": 4,
    "start_time": "2022-11-28T12:20:22.658Z"
   },
   {
    "duration": 13,
    "start_time": "2022-11-28T12:20:23.980Z"
   },
   {
    "duration": 1781,
    "start_time": "2022-11-28T12:20:25.609Z"
   },
   {
    "duration": 1756,
    "start_time": "2022-11-28T12:21:48.098Z"
   },
   {
    "duration": 1913,
    "start_time": "2022-11-28T12:22:23.402Z"
   },
   {
    "duration": 1854,
    "start_time": "2022-11-28T12:22:34.625Z"
   },
   {
    "duration": 2125,
    "start_time": "2022-11-28T12:22:42.761Z"
   },
   {
    "duration": 18,
    "start_time": "2022-11-28T12:23:03.981Z"
   },
   {
    "duration": 12,
    "start_time": "2022-11-28T12:23:37.891Z"
   },
   {
    "duration": 11,
    "start_time": "2022-11-28T12:28:58.804Z"
   },
   {
    "duration": 4,
    "start_time": "2022-11-28T12:29:07.354Z"
   },
   {
    "duration": 11,
    "start_time": "2022-11-28T12:29:11.678Z"
   },
   {
    "duration": 3,
    "start_time": "2022-11-28T12:32:55.837Z"
   },
   {
    "duration": 51,
    "start_time": "2022-11-28T12:32:55.843Z"
   },
   {
    "duration": 12,
    "start_time": "2022-11-28T12:32:55.895Z"
   },
   {
    "duration": 12,
    "start_time": "2022-11-28T12:32:55.909Z"
   },
   {
    "duration": 4,
    "start_time": "2022-11-28T12:32:55.924Z"
   },
   {
    "duration": 15,
    "start_time": "2022-11-28T12:32:55.930Z"
   },
   {
    "duration": 3,
    "start_time": "2022-11-28T12:32:55.947Z"
   },
   {
    "duration": 12,
    "start_time": "2022-11-28T12:32:55.951Z"
   },
   {
    "duration": 2134,
    "start_time": "2022-11-28T12:32:55.965Z"
   },
   {
    "duration": 21,
    "start_time": "2022-11-28T12:32:58.101Z"
   },
   {
    "duration": 11,
    "start_time": "2022-11-28T12:33:04.336Z"
   },
   {
    "duration": 5,
    "start_time": "2022-11-28T12:33:11.263Z"
   },
   {
    "duration": 13,
    "start_time": "2022-11-28T12:33:14.044Z"
   },
   {
    "duration": 8,
    "start_time": "2022-11-28T13:01:09.861Z"
   },
   {
    "duration": 8,
    "start_time": "2022-11-28T13:01:23.595Z"
   },
   {
    "duration": 11,
    "start_time": "2022-11-28T13:01:30.847Z"
   },
   {
    "duration": 12,
    "start_time": "2022-11-28T13:01:32.746Z"
   },
   {
    "duration": 5,
    "start_time": "2022-11-28T13:07:34.302Z"
   },
   {
    "duration": 8,
    "start_time": "2022-11-28T13:34:57.954Z"
   },
   {
    "duration": 967,
    "start_time": "2022-11-28T13:35:18.284Z"
   },
   {
    "duration": 6,
    "start_time": "2022-11-28T13:35:32.289Z"
   },
   {
    "duration": 7,
    "start_time": "2022-11-28T13:35:34.368Z"
   },
   {
    "duration": 39,
    "start_time": "2022-11-28T13:35:38.748Z"
   },
   {
    "duration": 6,
    "start_time": "2022-11-28T13:36:25.346Z"
   },
   {
    "duration": 9,
    "start_time": "2022-11-28T13:46:46.367Z"
   },
   {
    "duration": 10,
    "start_time": "2022-11-28T13:47:05.690Z"
   },
   {
    "duration": 5,
    "start_time": "2022-11-28T13:47:19.747Z"
   },
   {
    "duration": 117,
    "start_time": "2022-11-28T13:47:22.024Z"
   },
   {
    "duration": 6,
    "start_time": "2022-11-28T13:47:50.531Z"
   },
   {
    "duration": 161,
    "start_time": "2022-11-28T13:48:05.096Z"
   },
   {
    "duration": 134,
    "start_time": "2022-11-28T13:49:16.005Z"
   },
   {
    "duration": 157,
    "start_time": "2022-11-28T13:50:48.563Z"
   },
   {
    "duration": 145,
    "start_time": "2022-11-28T13:51:02.051Z"
   },
   {
    "duration": 9,
    "start_time": "2022-11-28T14:38:26.517Z"
   },
   {
    "duration": 3,
    "start_time": "2022-11-28T14:38:59.803Z"
   },
   {
    "duration": 9,
    "start_time": "2022-11-28T14:39:01.810Z"
   },
   {
    "duration": 9,
    "start_time": "2022-11-28T14:39:13.263Z"
   },
   {
    "duration": 2,
    "start_time": "2022-11-28T14:39:17.776Z"
   },
   {
    "duration": 13,
    "start_time": "2022-11-28T14:39:18.843Z"
   },
   {
    "duration": 13,
    "start_time": "2022-11-28T14:41:16.543Z"
   },
   {
    "duration": 6,
    "start_time": "2022-11-28T14:41:27.330Z"
   },
   {
    "duration": 10,
    "start_time": "2022-11-28T14:41:35.040Z"
   },
   {
    "duration": 13,
    "start_time": "2022-11-28T14:42:35.400Z"
   },
   {
    "duration": 23,
    "start_time": "2022-11-28T14:43:09.555Z"
   },
   {
    "duration": 10,
    "start_time": "2022-11-28T14:43:27.989Z"
   },
   {
    "duration": 3,
    "start_time": "2022-11-28T14:43:33.427Z"
   },
   {
    "duration": 117,
    "start_time": "2022-11-28T14:43:33.433Z"
   },
   {
    "duration": 13,
    "start_time": "2022-11-28T14:43:33.551Z"
   },
   {
    "duration": 16,
    "start_time": "2022-11-28T14:43:33.566Z"
   },
   {
    "duration": 5,
    "start_time": "2022-11-28T14:43:33.584Z"
   },
   {
    "duration": 17,
    "start_time": "2022-11-28T14:43:33.592Z"
   },
   {
    "duration": 29,
    "start_time": "2022-11-28T14:43:33.611Z"
   },
   {
    "duration": 18,
    "start_time": "2022-11-28T14:43:33.642Z"
   },
   {
    "duration": 2116,
    "start_time": "2022-11-28T14:43:33.663Z"
   },
   {
    "duration": 24,
    "start_time": "2022-11-28T14:43:35.781Z"
   },
   {
    "duration": 5,
    "start_time": "2022-11-28T14:43:35.806Z"
   },
   {
    "duration": 55,
    "start_time": "2022-11-28T14:43:35.813Z"
   },
   {
    "duration": 25,
    "start_time": "2022-11-28T14:43:35.871Z"
   },
   {
    "duration": 20,
    "start_time": "2022-11-28T14:43:35.899Z"
   },
   {
    "duration": 26,
    "start_time": "2022-11-28T14:43:35.921Z"
   },
   {
    "duration": 27,
    "start_time": "2022-11-28T14:43:35.949Z"
   },
   {
    "duration": 26,
    "start_time": "2022-11-28T14:43:35.979Z"
   },
   {
    "duration": 25,
    "start_time": "2022-11-28T14:43:36.007Z"
   },
   {
    "duration": 159,
    "start_time": "2022-11-28T14:43:36.034Z"
   },
   {
    "duration": 3,
    "start_time": "2022-11-28T14:43:36.194Z"
   },
   {
    "duration": 11,
    "start_time": "2022-11-28T14:43:40.354Z"
   },
   {
    "duration": 12,
    "start_time": "2022-11-28T14:43:54.970Z"
   },
   {
    "duration": 2,
    "start_time": "2022-11-28T14:44:45.593Z"
   },
   {
    "duration": 11,
    "start_time": "2022-11-28T14:44:47.703Z"
   },
   {
    "duration": 16,
    "start_time": "2022-11-28T14:44:57.479Z"
   },
   {
    "duration": 13,
    "start_time": "2022-11-28T14:45:11.130Z"
   },
   {
    "duration": 17,
    "start_time": "2022-11-28T14:46:00.388Z"
   },
   {
    "duration": 15,
    "start_time": "2022-11-28T14:46:08.183Z"
   },
   {
    "duration": 4,
    "start_time": "2022-11-28T14:46:40.288Z"
   },
   {
    "duration": 39,
    "start_time": "2022-11-28T14:46:40.295Z"
   },
   {
    "duration": 14,
    "start_time": "2022-11-28T14:46:40.336Z"
   },
   {
    "duration": 14,
    "start_time": "2022-11-28T14:46:40.351Z"
   },
   {
    "duration": 9,
    "start_time": "2022-11-28T14:46:40.367Z"
   },
   {
    "duration": 16,
    "start_time": "2022-11-28T14:46:40.378Z"
   },
   {
    "duration": 4,
    "start_time": "2022-11-28T14:46:40.396Z"
   },
   {
    "duration": 175,
    "start_time": "2022-11-28T14:46:40.402Z"
   },
   {
    "duration": 2065,
    "start_time": "2022-11-28T14:46:40.579Z"
   },
   {
    "duration": 21,
    "start_time": "2022-11-28T14:46:42.646Z"
   },
   {
    "duration": 4,
    "start_time": "2022-11-28T14:46:42.669Z"
   },
   {
    "duration": 18,
    "start_time": "2022-11-28T14:46:42.675Z"
   },
   {
    "duration": 11,
    "start_time": "2022-11-28T14:46:42.695Z"
   },
   {
    "duration": 28,
    "start_time": "2022-11-28T14:46:42.709Z"
   },
   {
    "duration": 7,
    "start_time": "2022-11-28T14:46:42.740Z"
   },
   {
    "duration": 7,
    "start_time": "2022-11-28T14:46:42.750Z"
   },
   {
    "duration": 10,
    "start_time": "2022-11-28T14:46:42.759Z"
   },
   {
    "duration": 10,
    "start_time": "2022-11-28T14:46:42.771Z"
   },
   {
    "duration": 165,
    "start_time": "2022-11-28T14:46:42.783Z"
   },
   {
    "duration": 7,
    "start_time": "2022-11-28T14:47:25.295Z"
   },
   {
    "duration": 5,
    "start_time": "2022-11-28T14:47:26.839Z"
   },
   {
    "duration": 4,
    "start_time": "2022-11-28T14:47:28.235Z"
   },
   {
    "duration": 6,
    "start_time": "2022-11-28T14:47:59.058Z"
   },
   {
    "duration": 9,
    "start_time": "2022-11-28T14:48:41.399Z"
   },
   {
    "duration": 3,
    "start_time": "2022-11-28T14:48:57.959Z"
   },
   {
    "duration": 38,
    "start_time": "2022-11-28T14:48:57.964Z"
   },
   {
    "duration": 12,
    "start_time": "2022-11-28T14:48:58.004Z"
   },
   {
    "duration": 14,
    "start_time": "2022-11-28T14:48:58.018Z"
   },
   {
    "duration": 4,
    "start_time": "2022-11-28T14:48:58.034Z"
   },
   {
    "duration": 15,
    "start_time": "2022-11-28T14:48:58.039Z"
   },
   {
    "duration": 4,
    "start_time": "2022-11-28T14:48:58.055Z"
   },
   {
    "duration": 18,
    "start_time": "2022-11-28T14:48:58.060Z"
   },
   {
    "duration": 2146,
    "start_time": "2022-11-28T14:48:58.080Z"
   },
   {
    "duration": 27,
    "start_time": "2022-11-28T14:49:00.228Z"
   },
   {
    "duration": 5,
    "start_time": "2022-11-28T14:49:00.258Z"
   },
   {
    "duration": 17,
    "start_time": "2022-11-28T14:49:00.265Z"
   },
   {
    "duration": 22,
    "start_time": "2022-11-28T14:49:00.283Z"
   },
   {
    "duration": 7,
    "start_time": "2022-11-28T14:49:00.307Z"
   },
   {
    "duration": 17,
    "start_time": "2022-11-28T14:49:00.315Z"
   },
   {
    "duration": 15,
    "start_time": "2022-11-28T14:49:00.334Z"
   },
   {
    "duration": 13,
    "start_time": "2022-11-28T14:49:00.351Z"
   },
   {
    "duration": 19,
    "start_time": "2022-11-28T14:49:00.366Z"
   },
   {
    "duration": 156,
    "start_time": "2022-11-28T14:49:00.386Z"
   },
   {
    "duration": 16,
    "start_time": "2022-11-28T14:49:07.909Z"
   },
   {
    "duration": 5,
    "start_time": "2022-11-28T14:49:44.114Z"
   },
   {
    "duration": 3,
    "start_time": "2022-11-28T14:50:08.653Z"
   },
   {
    "duration": 8,
    "start_time": "2022-11-28T14:50:09.618Z"
   },
   {
    "duration": 13,
    "start_time": "2022-11-28T14:50:10.992Z"
   },
   {
    "duration": 17,
    "start_time": "2022-11-28T14:50:12.712Z"
   },
   {
    "duration": 16,
    "start_time": "2022-11-28T14:51:11.025Z"
   },
   {
    "duration": 17,
    "start_time": "2022-11-28T14:54:26.755Z"
   },
   {
    "duration": 13,
    "start_time": "2022-11-28T14:57:20.755Z"
   },
   {
    "duration": 2,
    "start_time": "2022-11-28T14:58:03.781Z"
   },
   {
    "duration": 13,
    "start_time": "2022-11-28T14:58:06.454Z"
   },
   {
    "duration": 17,
    "start_time": "2022-11-28T14:58:16.246Z"
   },
   {
    "duration": 13,
    "start_time": "2022-11-28T15:01:07.315Z"
   },
   {
    "duration": 175,
    "start_time": "2022-11-28T15:09:43.722Z"
   },
   {
    "duration": 3,
    "start_time": "2022-11-28T15:09:53.582Z"
   },
   {
    "duration": 499,
    "start_time": "2022-11-28T15:10:59.539Z"
   },
   {
    "duration": 20,
    "start_time": "2022-11-28T15:23:54.028Z"
   },
   {
    "duration": 9,
    "start_time": "2022-11-28T15:24:10.272Z"
   },
   {
    "duration": 6,
    "start_time": "2022-11-28T15:24:35.527Z"
   },
   {
    "duration": 6,
    "start_time": "2022-11-28T15:24:56.630Z"
   },
   {
    "duration": 6,
    "start_time": "2022-11-28T15:25:32.609Z"
   },
   {
    "duration": 452,
    "start_time": "2022-11-28T15:26:07.691Z"
   },
   {
    "duration": 5,
    "start_time": "2022-11-28T15:26:09.424Z"
   },
   {
    "duration": 6,
    "start_time": "2022-11-28T15:26:10.405Z"
   },
   {
    "duration": 9,
    "start_time": "2022-11-28T15:26:44.430Z"
   },
   {
    "duration": 14,
    "start_time": "2022-11-28T15:27:04.160Z"
   },
   {
    "duration": 6,
    "start_time": "2022-11-28T15:40:29.589Z"
   },
   {
    "duration": 1514,
    "start_time": "2022-11-28T19:12:20.829Z"
   },
   {
    "duration": 83,
    "start_time": "2022-11-28T19:12:22.345Z"
   },
   {
    "duration": 18,
    "start_time": "2022-11-28T19:12:22.430Z"
   },
   {
    "duration": 12,
    "start_time": "2022-11-28T19:12:22.450Z"
   },
   {
    "duration": 5,
    "start_time": "2022-11-28T19:12:22.464Z"
   },
   {
    "duration": 18,
    "start_time": "2022-11-28T19:12:22.470Z"
   },
   {
    "duration": 3,
    "start_time": "2022-11-28T19:12:22.490Z"
   },
   {
    "duration": 33,
    "start_time": "2022-11-28T19:12:22.495Z"
   },
   {
    "duration": 2138,
    "start_time": "2022-11-28T19:12:22.530Z"
   },
   {
    "duration": 17,
    "start_time": "2022-11-28T19:12:24.669Z"
   },
   {
    "duration": 10,
    "start_time": "2022-11-28T19:12:24.688Z"
   },
   {
    "duration": 41,
    "start_time": "2022-11-28T19:12:24.700Z"
   },
   {
    "duration": 36,
    "start_time": "2022-11-28T19:12:24.743Z"
   },
   {
    "duration": 11,
    "start_time": "2022-11-28T19:12:24.781Z"
   },
   {
    "duration": 20,
    "start_time": "2022-11-28T19:12:24.794Z"
   },
   {
    "duration": 41,
    "start_time": "2022-11-28T19:12:24.815Z"
   },
   {
    "duration": 15,
    "start_time": "2022-11-28T19:12:24.858Z"
   },
   {
    "duration": 29,
    "start_time": "2022-11-28T19:12:24.874Z"
   },
   {
    "duration": 153,
    "start_time": "2022-11-28T19:12:24.904Z"
   },
   {
    "duration": 3,
    "start_time": "2022-11-28T19:12:25.058Z"
   },
   {
    "duration": 23,
    "start_time": "2022-11-28T19:12:25.063Z"
   },
   {
    "duration": 17,
    "start_time": "2022-11-28T19:12:25.087Z"
   },
   {
    "duration": 40,
    "start_time": "2022-11-28T19:12:25.106Z"
   },
   {
    "duration": 12,
    "start_time": "2022-11-28T19:12:25.147Z"
   },
   {
    "duration": 62,
    "start_time": "2022-11-28T19:12:25.160Z"
   },
   {
    "duration": 129,
    "start_time": "2022-11-28T19:12:25.224Z"
   },
   {
    "duration": 197,
    "start_time": "2022-11-28T19:12:25.355Z"
   },
   {
    "duration": 25,
    "start_time": "2022-11-28T19:12:33.414Z"
   },
   {
    "duration": 60,
    "start_time": "2022-11-28T19:12:54.306Z"
   },
   {
    "duration": 271,
    "start_time": "2022-11-28T19:13:00.363Z"
   },
   {
    "duration": 97,
    "start_time": "2022-11-28T19:13:48.628Z"
   },
   {
    "duration": 11,
    "start_time": "2022-11-28T19:14:08.333Z"
   },
   {
    "duration": 4,
    "start_time": "2022-11-28T19:15:38.932Z"
   },
   {
    "duration": 12,
    "start_time": "2022-11-28T19:16:11.487Z"
   },
   {
    "duration": 5,
    "start_time": "2022-11-28T19:17:21.863Z"
   },
   {
    "duration": 3,
    "start_time": "2022-11-28T19:20:55.207Z"
   },
   {
    "duration": 3,
    "start_time": "2022-11-28T19:20:59.129Z"
   },
   {
    "duration": 10,
    "start_time": "2022-11-28T19:20:59.134Z"
   },
   {
    "duration": 3,
    "start_time": "2022-11-28T19:20:59.146Z"
   },
   {
    "duration": 12,
    "start_time": "2022-11-28T19:20:59.150Z"
   },
   {
    "duration": 15,
    "start_time": "2022-11-28T19:20:59.164Z"
   },
   {
    "duration": 141,
    "start_time": "2022-11-28T19:20:59.180Z"
   },
   {
    "duration": 114,
    "start_time": "2022-11-28T19:20:59.322Z"
   },
   {
    "duration": 184,
    "start_time": "2022-11-28T19:20:59.442Z"
   },
   {
    "duration": 18,
    "start_time": "2022-11-28T19:20:59.628Z"
   },
   {
    "duration": 3,
    "start_time": "2022-11-28T19:21:42.975Z"
   },
   {
    "duration": 7,
    "start_time": "2022-11-28T19:21:44.701Z"
   },
   {
    "duration": 2,
    "start_time": "2022-11-28T19:21:45.642Z"
   },
   {
    "duration": 13,
    "start_time": "2022-11-28T19:21:46.735Z"
   },
   {
    "duration": 13,
    "start_time": "2022-11-28T19:21:48.728Z"
   },
   {
    "duration": 125,
    "start_time": "2022-11-28T19:21:50.509Z"
   },
   {
    "duration": 7,
    "start_time": "2022-11-28T19:21:51.998Z"
   },
   {
    "duration": 6,
    "start_time": "2022-11-28T19:21:53.117Z"
   },
   {
    "duration": 17,
    "start_time": "2022-11-28T19:21:54.815Z"
   },
   {
    "duration": 17,
    "start_time": "2022-11-28T19:28:20.172Z"
   },
   {
    "duration": 18,
    "start_time": "2022-11-28T19:28:40.993Z"
   },
   {
    "duration": 73,
    "start_time": "2022-11-28T19:29:58.645Z"
   },
   {
    "duration": 5,
    "start_time": "2022-11-28T19:29:59.878Z"
   },
   {
    "duration": 6,
    "start_time": "2022-11-28T19:30:00.886Z"
   },
   {
    "duration": 16,
    "start_time": "2022-11-28T19:30:02.390Z"
   },
   {
    "duration": 13,
    "start_time": "2022-11-28T19:31:27.036Z"
   },
   {
    "duration": 5,
    "start_time": "2022-11-28T19:32:20.541Z"
   },
   {
    "duration": 8,
    "start_time": "2022-11-28T19:32:22.028Z"
   },
   {
    "duration": 15,
    "start_time": "2022-11-28T19:32:23.776Z"
   },
   {
    "duration": 284,
    "start_time": "2022-11-28T19:50:33.061Z"
   },
   {
    "duration": 44,
    "start_time": "2022-11-28T19:50:34.785Z"
   },
   {
    "duration": 5,
    "start_time": "2022-11-28T19:50:36.032Z"
   },
   {
    "duration": 95,
    "start_time": "2022-11-28T19:50:37.732Z"
   },
   {
    "duration": 3,
    "start_time": "2022-11-28T20:01:17.911Z"
   },
   {
    "duration": 5,
    "start_time": "2022-11-28T20:02:26.531Z"
   },
   {
    "duration": 7,
    "start_time": "2022-11-28T20:02:27.638Z"
   },
   {
    "duration": 5,
    "start_time": "2022-11-28T20:02:29.393Z"
   },
   {
    "duration": 1718,
    "start_time": "2022-11-30T07:35:02.144Z"
   },
   {
    "duration": 172,
    "start_time": "2022-11-30T07:35:03.864Z"
   },
   {
    "duration": 22,
    "start_time": "2022-11-30T07:35:04.038Z"
   },
   {
    "duration": 21,
    "start_time": "2022-11-30T07:35:04.063Z"
   },
   {
    "duration": 9,
    "start_time": "2022-11-30T07:35:04.087Z"
   },
   {
    "duration": 30,
    "start_time": "2022-11-30T07:35:04.099Z"
   },
   {
    "duration": 27,
    "start_time": "2022-11-30T07:35:04.131Z"
   },
   {
    "duration": 18,
    "start_time": "2022-11-30T07:35:04.160Z"
   },
   {
    "duration": 2297,
    "start_time": "2022-11-30T07:35:04.179Z"
   },
   {
    "duration": 21,
    "start_time": "2022-11-30T07:35:06.478Z"
   },
   {
    "duration": 7,
    "start_time": "2022-11-30T07:35:06.500Z"
   },
   {
    "duration": 36,
    "start_time": "2022-11-30T07:35:06.509Z"
   },
   {
    "duration": 23,
    "start_time": "2022-11-30T07:35:06.547Z"
   },
   {
    "duration": 49,
    "start_time": "2022-11-30T07:35:06.573Z"
   },
   {
    "duration": 14,
    "start_time": "2022-11-30T07:35:06.624Z"
   },
   {
    "duration": 9,
    "start_time": "2022-11-30T07:35:06.640Z"
   },
   {
    "duration": 8,
    "start_time": "2022-11-30T07:35:06.652Z"
   },
   {
    "duration": 16,
    "start_time": "2022-11-30T07:35:06.661Z"
   },
   {
    "duration": 153,
    "start_time": "2022-11-30T07:35:06.679Z"
   },
   {
    "duration": 3,
    "start_time": "2022-11-30T07:35:06.834Z"
   },
   {
    "duration": 16,
    "start_time": "2022-11-30T07:35:06.839Z"
   },
   {
    "duration": 5,
    "start_time": "2022-11-30T07:35:06.856Z"
   },
   {
    "duration": 43,
    "start_time": "2022-11-30T07:35:06.863Z"
   },
   {
    "duration": 26,
    "start_time": "2022-11-30T07:35:06.908Z"
   },
   {
    "duration": 51,
    "start_time": "2022-11-30T07:35:06.936Z"
   },
   {
    "duration": 197,
    "start_time": "2022-11-30T07:35:06.988Z"
   },
   {
    "duration": 193,
    "start_time": "2022-11-30T07:35:07.187Z"
   },
   {
    "duration": 43,
    "start_time": "2022-11-30T07:35:07.381Z"
   },
   {
    "duration": 197,
    "start_time": "2022-11-30T07:35:07.425Z"
   },
   {
    "duration": 41,
    "start_time": "2022-11-30T07:35:07.623Z"
   },
   {
    "duration": 48,
    "start_time": "2022-11-30T07:35:07.666Z"
   },
   {
    "duration": 37,
    "start_time": "2022-11-30T07:35:07.715Z"
   },
   {
    "duration": 336,
    "start_time": "2022-11-30T07:35:07.753Z"
   },
   {
    "duration": 47,
    "start_time": "2022-11-30T07:35:08.092Z"
   },
   {
    "duration": 7,
    "start_time": "2022-11-30T07:35:08.140Z"
   },
   {
    "duration": 130,
    "start_time": "2022-11-30T07:35:08.148Z"
   },
   {
    "duration": 4,
    "start_time": "2022-11-30T07:35:08.280Z"
   },
   {
    "duration": 13,
    "start_time": "2022-11-30T07:35:08.286Z"
   },
   {
    "duration": 116,
    "start_time": "2022-11-30T07:41:18.808Z"
   },
   {
    "duration": 17,
    "start_time": "2022-11-30T07:48:09.440Z"
   },
   {
    "duration": 17,
    "start_time": "2022-11-30T07:48:51.612Z"
   },
   {
    "duration": 16,
    "start_time": "2022-11-30T07:48:59.770Z"
   },
   {
    "duration": 6,
    "start_time": "2022-11-30T07:49:48.350Z"
   },
   {
    "duration": 7,
    "start_time": "2022-11-30T07:49:59.728Z"
   },
   {
    "duration": 4,
    "start_time": "2022-11-30T07:55:22.799Z"
   },
   {
    "duration": 114,
    "start_time": "2022-11-30T07:59:30.760Z"
   },
   {
    "duration": 4,
    "start_time": "2022-11-30T07:59:47.487Z"
   },
   {
    "duration": 15,
    "start_time": "2022-11-30T07:59:50.709Z"
   },
   {
    "duration": 3,
    "start_time": "2022-11-30T08:00:32.735Z"
   },
   {
    "duration": 14,
    "start_time": "2022-11-30T08:00:34.891Z"
   },
   {
    "duration": 5,
    "start_time": "2022-11-30T08:02:20.095Z"
   },
   {
    "duration": 15,
    "start_time": "2022-11-30T08:02:21.797Z"
   },
   {
    "duration": 4,
    "start_time": "2022-11-30T08:02:46.171Z"
   },
   {
    "duration": 8,
    "start_time": "2022-11-30T08:02:59.058Z"
   },
   {
    "duration": 4,
    "start_time": "2022-11-30T08:03:13.088Z"
   },
   {
    "duration": 9,
    "start_time": "2022-11-30T08:03:15.585Z"
   },
   {
    "duration": 9,
    "start_time": "2022-11-30T08:03:29.445Z"
   },
   {
    "duration": 4,
    "start_time": "2022-11-30T08:03:31.828Z"
   },
   {
    "duration": 140,
    "start_time": "2022-11-30T08:04:25.902Z"
   },
   {
    "duration": 16,
    "start_time": "2022-11-30T08:04:47.921Z"
   },
   {
    "duration": 9,
    "start_time": "2022-11-30T08:04:54.456Z"
   },
   {
    "duration": 122,
    "start_time": "2022-11-30T08:04:56.478Z"
   },
   {
    "duration": 136,
    "start_time": "2022-11-30T08:05:02.006Z"
   },
   {
    "duration": 10,
    "start_time": "2022-11-30T08:05:06.844Z"
   },
   {
    "duration": 143,
    "start_time": "2022-11-30T08:05:09.070Z"
   },
   {
    "duration": 270,
    "start_time": "2022-11-30T08:05:11.865Z"
   },
   {
    "duration": 130,
    "start_time": "2022-11-30T08:06:14.188Z"
   },
   {
    "duration": 10,
    "start_time": "2022-11-30T08:06:18.233Z"
   },
   {
    "duration": 5,
    "start_time": "2022-11-30T08:23:03.126Z"
   },
   {
    "duration": 8,
    "start_time": "2022-11-30T08:23:46.881Z"
   },
   {
    "duration": 117,
    "start_time": "2022-11-30T08:24:03.061Z"
   },
   {
    "duration": 5,
    "start_time": "2022-11-30T09:43:15.669Z"
   },
   {
    "duration": 5,
    "start_time": "2022-11-30T09:43:18.425Z"
   },
   {
    "duration": 4,
    "start_time": "2022-11-30T09:43:40.293Z"
   },
   {
    "duration": 5,
    "start_time": "2022-11-30T09:43:42.347Z"
   },
   {
    "duration": 4,
    "start_time": "2022-11-30T09:45:15.458Z"
   },
   {
    "duration": 6,
    "start_time": "2022-11-30T09:45:16.304Z"
   },
   {
    "duration": 4,
    "start_time": "2022-11-30T09:52:07.305Z"
   },
   {
    "duration": 7,
    "start_time": "2022-11-30T09:52:09.224Z"
   },
   {
    "duration": 4,
    "start_time": "2022-11-30T09:52:10.524Z"
   },
   {
    "duration": 5,
    "start_time": "2022-11-30T09:52:11.723Z"
   },
   {
    "duration": 9,
    "start_time": "2022-11-30T09:54:40.850Z"
   },
   {
    "duration": 8,
    "start_time": "2022-11-30T09:54:42.322Z"
   },
   {
    "duration": 6,
    "start_time": "2022-11-30T09:54:43.712Z"
   },
   {
    "duration": 13,
    "start_time": "2022-11-30T09:54:46.006Z"
   },
   {
    "duration": 11,
    "start_time": "2022-11-30T09:55:06.230Z"
   },
   {
    "duration": 5,
    "start_time": "2022-11-30T09:55:09.619Z"
   },
   {
    "duration": 5,
    "start_time": "2022-11-30T09:55:11.275Z"
   },
   {
    "duration": 13,
    "start_time": "2022-11-30T09:55:12.916Z"
   },
   {
    "duration": 11,
    "start_time": "2022-11-30T09:56:54.323Z"
   },
   {
    "duration": 6,
    "start_time": "2022-11-30T09:56:55.409Z"
   },
   {
    "duration": 5,
    "start_time": "2022-11-30T09:56:56.121Z"
   },
   {
    "duration": 15,
    "start_time": "2022-11-30T09:57:42.299Z"
   },
   {
    "duration": 7,
    "start_time": "2022-11-30T09:59:41.315Z"
   },
   {
    "duration": 6,
    "start_time": "2022-11-30T09:59:42.326Z"
   },
   {
    "duration": 6,
    "start_time": "2022-11-30T09:59:44.744Z"
   },
   {
    "duration": 12,
    "start_time": "2022-11-30T09:59:48.463Z"
   },
   {
    "duration": 11,
    "start_time": "2022-11-30T10:10:48.297Z"
   },
   {
    "duration": 5,
    "start_time": "2022-11-30T10:11:24.657Z"
   },
   {
    "duration": 5,
    "start_time": "2022-11-30T10:11:50.858Z"
   },
   {
    "duration": 13,
    "start_time": "2022-11-30T10:13:11.687Z"
   },
   {
    "duration": 344,
    "start_time": "2022-11-30T10:46:39.623Z"
   },
   {
    "duration": 53,
    "start_time": "2022-11-30T10:46:54.327Z"
   },
   {
    "duration": 7,
    "start_time": "2022-11-30T10:47:00.626Z"
   },
   {
    "duration": 120,
    "start_time": "2022-11-30T10:47:35.504Z"
   },
   {
    "duration": 175,
    "start_time": "2022-11-30T10:47:54.996Z"
   },
   {
    "duration": 227,
    "start_time": "2022-11-30T10:52:25.138Z"
   },
   {
    "duration": 39,
    "start_time": "2022-11-30T10:52:35.472Z"
   },
   {
    "duration": 5,
    "start_time": "2022-11-30T10:52:38.133Z"
   },
   {
    "duration": 67,
    "start_time": "2022-11-30T10:52:55.222Z"
   },
   {
    "duration": 258,
    "start_time": "2022-11-30T10:55:47.715Z"
   },
   {
    "duration": 44,
    "start_time": "2022-11-30T10:55:49.030Z"
   },
   {
    "duration": 6,
    "start_time": "2022-11-30T10:55:49.966Z"
   },
   {
    "duration": 89,
    "start_time": "2022-11-30T10:55:51.293Z"
   },
   {
    "duration": 14,
    "start_time": "2022-11-30T11:18:52.421Z"
   },
   {
    "duration": 16,
    "start_time": "2022-11-30T11:24:46.288Z"
   },
   {
    "duration": 17,
    "start_time": "2022-11-30T11:26:08.398Z"
   },
   {
    "duration": 5,
    "start_time": "2022-11-30T11:26:09.399Z"
   },
   {
    "duration": 6,
    "start_time": "2022-11-30T11:26:10.886Z"
   },
   {
    "duration": 11,
    "start_time": "2022-11-30T11:26:27.727Z"
   },
   {
    "duration": 169,
    "start_time": "2022-11-30T11:27:11.074Z"
   },
   {
    "duration": 39,
    "start_time": "2022-11-30T11:27:12.864Z"
   },
   {
    "duration": 5,
    "start_time": "2022-11-30T11:27:15.852Z"
   },
   {
    "duration": 65,
    "start_time": "2022-11-30T11:28:16.836Z"
   },
   {
    "duration": 10,
    "start_time": "2022-11-30T11:31:49.896Z"
   },
   {
    "duration": 5,
    "start_time": "2022-11-30T11:31:51.271Z"
   },
   {
    "duration": 6,
    "start_time": "2022-11-30T11:31:52.513Z"
   },
   {
    "duration": 11,
    "start_time": "2022-11-30T11:32:04.181Z"
   },
   {
    "duration": 14,
    "start_time": "2022-11-30T11:32:17.284Z"
   },
   {
    "duration": 4,
    "start_time": "2022-11-30T11:32:56.188Z"
   },
   {
    "duration": 6,
    "start_time": "2022-11-30T11:32:57.098Z"
   },
   {
    "duration": 12,
    "start_time": "2022-11-30T11:32:58.499Z"
   },
   {
    "duration": 38808,
    "start_time": "2022-11-30T12:20:11.268Z"
   },
   {
    "duration": 9,
    "start_time": "2022-11-30T12:20:56.785Z"
   },
   {
    "duration": 8550,
    "start_time": "2022-11-30T12:22:33.419Z"
   },
   {
    "duration": 10,
    "start_time": "2022-11-30T12:23:05.460Z"
   },
   {
    "duration": 50098,
    "start_time": "2022-11-30T12:23:25.312Z"
   },
   {
    "duration": 8,
    "start_time": "2022-11-30T12:24:24.820Z"
   },
   {
    "duration": 3,
    "start_time": "2022-11-30T12:32:01.242Z"
   },
   {
    "duration": 145,
    "start_time": "2022-11-30T12:32:02.361Z"
   },
   {
    "duration": 35,
    "start_time": "2022-11-30T12:32:04.105Z"
   },
   {
    "duration": 8,
    "start_time": "2022-11-30T12:32:05.356Z"
   },
   {
    "duration": 25,
    "start_time": "2022-11-30T12:35:43.888Z"
   },
   {
    "duration": 3,
    "start_time": "2022-11-30T12:36:11.126Z"
   },
   {
    "duration": 24,
    "start_time": "2022-11-30T12:36:12.748Z"
   },
   {
    "duration": 46,
    "start_time": "2022-11-30T12:36:57.423Z"
   },
   {
    "duration": 7,
    "start_time": "2022-11-30T12:36:59.709Z"
   },
   {
    "duration": 44,
    "start_time": "2022-11-30T13:45:25.170Z"
   },
   {
    "duration": 47,
    "start_time": "2022-11-30T13:45:36.618Z"
   },
   {
    "duration": 43,
    "start_time": "2022-11-30T13:46:12.148Z"
   },
   {
    "duration": 6,
    "start_time": "2022-11-30T13:46:15.438Z"
   },
   {
    "duration": 4,
    "start_time": "2022-11-30T13:48:27.083Z"
   },
   {
    "duration": 132,
    "start_time": "2022-11-30T13:48:27.089Z"
   },
   {
    "duration": 13,
    "start_time": "2022-11-30T13:48:27.223Z"
   },
   {
    "duration": 17,
    "start_time": "2022-11-30T13:48:27.238Z"
   },
   {
    "duration": 6,
    "start_time": "2022-11-30T13:48:27.257Z"
   },
   {
    "duration": 17,
    "start_time": "2022-11-30T13:48:27.265Z"
   },
   {
    "duration": 3,
    "start_time": "2022-11-30T13:48:27.284Z"
   },
   {
    "duration": 18,
    "start_time": "2022-11-30T13:48:27.289Z"
   },
   {
    "duration": 2335,
    "start_time": "2022-11-30T13:48:27.309Z"
   },
   {
    "duration": 33,
    "start_time": "2022-11-30T13:48:29.646Z"
   },
   {
    "duration": 6,
    "start_time": "2022-11-30T13:48:29.680Z"
   },
   {
    "duration": 16,
    "start_time": "2022-11-30T13:48:29.687Z"
   },
   {
    "duration": 9,
    "start_time": "2022-11-30T13:48:29.706Z"
   },
   {
    "duration": 8,
    "start_time": "2022-11-30T13:48:29.716Z"
   },
   {
    "duration": 6,
    "start_time": "2022-11-30T13:48:29.726Z"
   },
   {
    "duration": 8,
    "start_time": "2022-11-30T13:48:29.733Z"
   },
   {
    "duration": 13,
    "start_time": "2022-11-30T13:48:29.742Z"
   },
   {
    "duration": 6,
    "start_time": "2022-11-30T13:48:29.778Z"
   },
   {
    "duration": 135,
    "start_time": "2022-11-30T13:48:29.785Z"
   },
   {
    "duration": 4,
    "start_time": "2022-11-30T13:48:29.922Z"
   },
   {
    "duration": 30,
    "start_time": "2022-11-30T13:48:29.927Z"
   },
   {
    "duration": 9,
    "start_time": "2022-11-30T13:48:29.959Z"
   },
   {
    "duration": 31,
    "start_time": "2022-11-30T13:48:29.969Z"
   },
   {
    "duration": 13,
    "start_time": "2022-11-30T13:48:30.002Z"
   },
   {
    "duration": 19,
    "start_time": "2022-11-30T13:48:30.017Z"
   },
   {
    "duration": 21,
    "start_time": "2022-11-30T13:48:30.038Z"
   },
   {
    "duration": 106,
    "start_time": "2022-11-30T13:48:30.078Z"
   },
   {
    "duration": 98,
    "start_time": "2022-11-30T13:48:30.186Z"
   },
   {
    "duration": 203,
    "start_time": "2022-11-30T13:48:30.286Z"
   },
   {
    "duration": 16,
    "start_time": "2022-11-30T13:48:30.491Z"
   },
   {
    "duration": 24,
    "start_time": "2022-11-30T13:48:30.508Z"
   },
   {
    "duration": 57,
    "start_time": "2022-11-30T13:48:30.536Z"
   },
   {
    "duration": 298,
    "start_time": "2022-11-30T13:48:30.595Z"
   },
   {
    "duration": 47,
    "start_time": "2022-11-30T13:48:30.894Z"
   },
   {
    "duration": 6,
    "start_time": "2022-11-30T13:48:30.943Z"
   },
   {
    "duration": 119,
    "start_time": "2022-11-30T13:48:30.951Z"
   },
   {
    "duration": 8,
    "start_time": "2022-11-30T13:48:31.072Z"
   },
   {
    "duration": 23,
    "start_time": "2022-11-30T13:48:31.083Z"
   },
   {
    "duration": 141,
    "start_time": "2022-11-30T13:48:31.107Z"
   },
   {
    "duration": 4,
    "start_time": "2022-11-30T13:48:31.249Z"
   },
   {
    "duration": 42,
    "start_time": "2022-11-30T13:48:31.254Z"
   },
   {
    "duration": 166,
    "start_time": "2022-11-30T13:48:31.298Z"
   },
   {
    "duration": 13,
    "start_time": "2022-11-30T13:48:31.465Z"
   },
   {
    "duration": 11,
    "start_time": "2022-11-30T13:48:31.480Z"
   },
   {
    "duration": 260,
    "start_time": "2022-11-30T13:48:31.493Z"
   },
   {
    "duration": 5,
    "start_time": "2022-11-30T13:48:31.754Z"
   },
   {
    "duration": 33,
    "start_time": "2022-11-30T13:48:31.760Z"
   },
   {
    "duration": 26,
    "start_time": "2022-11-30T13:48:31.795Z"
   },
   {
    "duration": 31,
    "start_time": "2022-11-30T13:48:31.822Z"
   },
   {
    "duration": 19,
    "start_time": "2022-11-30T13:48:31.855Z"
   },
   {
    "duration": 7,
    "start_time": "2022-11-30T13:48:31.875Z"
   },
   {
    "duration": 100,
    "start_time": "2022-11-30T13:48:31.884Z"
   },
   {
    "duration": 103,
    "start_time": "2022-11-30T13:48:31.986Z"
   },
   {
    "duration": 92,
    "start_time": "2022-11-30T13:48:32.091Z"
   },
   {
    "duration": 92,
    "start_time": "2022-11-30T13:48:32.186Z"
   },
   {
    "duration": 9,
    "start_time": "2022-11-30T13:48:32.281Z"
   },
   {
    "duration": 99,
    "start_time": "2022-11-30T13:48:32.380Z"
   },
   {
    "duration": 98,
    "start_time": "2022-11-30T13:48:32.482Z"
   },
   {
    "duration": 5,
    "start_time": "2022-11-30T13:48:32.581Z"
   },
   {
    "duration": 94,
    "start_time": "2022-11-30T13:48:32.588Z"
   },
   {
    "duration": 110,
    "start_time": "2022-11-30T13:48:32.684Z"
   },
   {
    "duration": 183,
    "start_time": "2022-11-30T13:48:32.796Z"
   },
   {
    "duration": 5,
    "start_time": "2022-11-30T13:48:32.980Z"
   },
   {
    "duration": 11,
    "start_time": "2022-11-30T13:48:32.986Z"
   },
   {
    "duration": 14,
    "start_time": "2022-11-30T13:48:32.999Z"
   },
   {
    "duration": 10,
    "start_time": "2022-11-30T13:48:33.015Z"
   },
   {
    "duration": 6,
    "start_time": "2022-11-30T13:48:33.027Z"
   },
   {
    "duration": 10,
    "start_time": "2022-11-30T13:48:33.035Z"
   },
   {
    "duration": 41,
    "start_time": "2022-11-30T13:48:33.046Z"
   },
   {
    "duration": 15,
    "start_time": "2022-11-30T13:48:33.088Z"
   },
   {
    "duration": 5,
    "start_time": "2022-11-30T13:48:33.105Z"
   },
   {
    "duration": 12,
    "start_time": "2022-11-30T13:48:33.111Z"
   },
   {
    "duration": 11,
    "start_time": "2022-11-30T13:48:33.124Z"
   },
   {
    "duration": 355,
    "start_time": "2022-11-30T13:48:33.137Z"
   },
   {
    "duration": 43,
    "start_time": "2022-11-30T13:48:33.494Z"
   },
   {
    "duration": 6,
    "start_time": "2022-11-30T13:48:33.539Z"
   },
   {
    "duration": 132,
    "start_time": "2022-11-30T13:48:33.546Z"
   },
   {
    "duration": 172,
    "start_time": "2022-11-30T13:48:33.680Z"
   },
   {
    "duration": 47,
    "start_time": "2022-11-30T13:48:33.853Z"
   },
   {
    "duration": 8,
    "start_time": "2022-11-30T13:48:33.902Z"
   },
   {
    "duration": 102,
    "start_time": "2022-11-30T13:48:33.912Z"
   },
   {
    "duration": 291,
    "start_time": "2022-11-30T13:48:34.018Z"
   },
   {
    "duration": 41,
    "start_time": "2022-11-30T13:48:34.311Z"
   },
   {
    "duration": 5,
    "start_time": "2022-11-30T13:48:34.354Z"
   },
   {
    "duration": 98,
    "start_time": "2022-11-30T13:48:34.360Z"
   },
   {
    "duration": 50031,
    "start_time": "2022-11-30T13:48:34.460Z"
   },
   {
    "duration": 8,
    "start_time": "2022-11-30T13:49:24.493Z"
   },
   {
    "duration": 3,
    "start_time": "2022-11-30T13:49:24.503Z"
   },
   {
    "duration": 152,
    "start_time": "2022-11-30T13:49:24.510Z"
   },
   {
    "duration": 43,
    "start_time": "2022-11-30T13:49:24.663Z"
   },
   {
    "duration": 29,
    "start_time": "2022-11-30T13:49:24.707Z"
   },
   {
    "duration": 6,
    "start_time": "2022-11-30T13:49:24.738Z"
   },
   {
    "duration": 39,
    "start_time": "2022-11-30T13:49:24.745Z"
   },
   {
    "duration": 4,
    "start_time": "2022-11-30T13:49:24.786Z"
   },
   {
    "duration": 42,
    "start_time": "2022-11-30T13:49:39.767Z"
   },
   {
    "duration": 30,
    "start_time": "2022-11-30T13:49:41.412Z"
   },
   {
    "duration": 7,
    "start_time": "2022-11-30T13:49:42.421Z"
   },
   {
    "duration": 6,
    "start_time": "2022-11-30T13:49:43.638Z"
   },
   {
    "duration": 43,
    "start_time": "2022-11-30T13:50:21.353Z"
   },
   {
    "duration": 4,
    "start_time": "2022-11-30T13:57:13.098Z"
   },
   {
    "duration": 24,
    "start_time": "2022-11-30T14:01:46.411Z"
   },
   {
    "duration": 10,
    "start_time": "2022-11-30T14:01:47.616Z"
   },
   {
    "duration": 3,
    "start_time": "2022-11-30T14:01:57.561Z"
   },
   {
    "duration": 4,
    "start_time": "2022-11-30T14:02:03.445Z"
   },
   {
    "duration": 50,
    "start_time": "2022-11-30T14:12:09.133Z"
   },
   {
    "duration": 3,
    "start_time": "2022-11-30T14:12:09.959Z"
   },
   {
    "duration": 5,
    "start_time": "2022-11-30T14:12:11.155Z"
   },
   {
    "duration": 3,
    "start_time": "2022-11-30T14:13:21.043Z"
   },
   {
    "duration": 49,
    "start_time": "2022-11-30T14:15:52.190Z"
   },
   {
    "duration": 7,
    "start_time": "2022-11-30T14:17:33.120Z"
   },
   {
    "duration": 119,
    "start_time": "2022-11-30T14:26:39.214Z"
   },
   {
    "duration": 119,
    "start_time": "2022-11-30T14:28:12.722Z"
   },
   {
    "duration": 127,
    "start_time": "2022-11-30T14:28:23.734Z"
   },
   {
    "duration": 111,
    "start_time": "2022-11-30T14:30:34.268Z"
   },
   {
    "duration": 120,
    "start_time": "2022-11-30T14:32:56.404Z"
   },
   {
    "duration": 121,
    "start_time": "2022-11-30T14:33:37.154Z"
   },
   {
    "duration": 137,
    "start_time": "2022-11-30T14:34:05.931Z"
   },
   {
    "duration": 140,
    "start_time": "2022-11-30T14:34:26.016Z"
   },
   {
    "duration": 136,
    "start_time": "2022-11-30T14:35:36.866Z"
   },
   {
    "duration": 4,
    "start_time": "2022-11-30T14:38:41.876Z"
   },
   {
    "duration": 41,
    "start_time": "2022-11-30T14:38:41.882Z"
   },
   {
    "duration": 14,
    "start_time": "2022-11-30T14:38:41.925Z"
   },
   {
    "duration": 14,
    "start_time": "2022-11-30T14:38:41.941Z"
   },
   {
    "duration": 25,
    "start_time": "2022-11-30T14:38:41.956Z"
   },
   {
    "duration": 19,
    "start_time": "2022-11-30T14:38:41.983Z"
   },
   {
    "duration": 9,
    "start_time": "2022-11-30T14:38:42.004Z"
   },
   {
    "duration": 17,
    "start_time": "2022-11-30T14:38:42.014Z"
   },
   {
    "duration": 1984,
    "start_time": "2022-11-30T14:38:42.033Z"
   },
   {
    "duration": 24,
    "start_time": "2022-11-30T14:38:44.020Z"
   },
   {
    "duration": 5,
    "start_time": "2022-11-30T14:38:44.046Z"
   },
   {
    "duration": 36,
    "start_time": "2022-11-30T14:38:44.053Z"
   },
   {
    "duration": 12,
    "start_time": "2022-11-30T14:38:44.091Z"
   },
   {
    "duration": 16,
    "start_time": "2022-11-30T14:38:44.105Z"
   },
   {
    "duration": 11,
    "start_time": "2022-11-30T14:38:44.123Z"
   },
   {
    "duration": 9,
    "start_time": "2022-11-30T14:38:44.137Z"
   },
   {
    "duration": 11,
    "start_time": "2022-11-30T14:38:44.148Z"
   },
   {
    "duration": 20,
    "start_time": "2022-11-30T14:38:44.160Z"
   },
   {
    "duration": 133,
    "start_time": "2022-11-30T14:38:44.181Z"
   },
   {
    "duration": 4,
    "start_time": "2022-11-30T14:38:44.315Z"
   },
   {
    "duration": 14,
    "start_time": "2022-11-30T14:38:44.321Z"
   },
   {
    "duration": 6,
    "start_time": "2022-11-30T14:38:44.337Z"
   },
   {
    "duration": 35,
    "start_time": "2022-11-30T14:38:44.344Z"
   },
   {
    "duration": 12,
    "start_time": "2022-11-30T14:38:44.380Z"
   },
   {
    "duration": 14,
    "start_time": "2022-11-30T14:38:44.394Z"
   },
   {
    "duration": 16,
    "start_time": "2022-11-30T14:38:44.409Z"
   },
   {
    "duration": 109,
    "start_time": "2022-11-30T14:38:44.480Z"
   },
   {
    "duration": 60,
    "start_time": "2022-11-30T14:38:44.721Z"
   },
   {
    "duration": 110,
    "start_time": "2022-11-30T14:38:44.784Z"
   },
   {
    "duration": 4,
    "start_time": "2022-11-30T14:38:44.896Z"
   },
   {
    "duration": 8,
    "start_time": "2022-11-30T14:38:44.901Z"
   },
   {
    "duration": 10,
    "start_time": "2022-11-30T14:38:44.911Z"
   },
   {
    "duration": 293,
    "start_time": "2022-11-30T14:38:44.923Z"
   },
   {
    "duration": 42,
    "start_time": "2022-11-30T14:38:45.218Z"
   },
   {
    "duration": 21,
    "start_time": "2022-11-30T14:38:45.262Z"
   },
   {
    "duration": 96,
    "start_time": "2022-11-30T14:38:45.285Z"
   },
   {
    "duration": 4,
    "start_time": "2022-11-30T14:38:45.383Z"
   },
   {
    "duration": 7,
    "start_time": "2022-11-30T14:38:45.389Z"
   },
   {
    "duration": 141,
    "start_time": "2022-11-30T14:38:45.397Z"
   },
   {
    "duration": 3,
    "start_time": "2022-11-30T14:38:45.540Z"
   },
   {
    "duration": 12,
    "start_time": "2022-11-30T14:38:45.545Z"
   },
   {
    "duration": 146,
    "start_time": "2022-11-30T14:38:45.559Z"
   },
   {
    "duration": 4,
    "start_time": "2022-11-30T14:38:45.706Z"
   },
   {
    "duration": 16,
    "start_time": "2022-11-30T14:38:45.712Z"
   },
   {
    "duration": 155,
    "start_time": "2022-11-30T14:38:45.729Z"
   },
   {
    "duration": 5,
    "start_time": "2022-11-30T14:38:45.886Z"
   },
   {
    "duration": 12,
    "start_time": "2022-11-30T14:38:45.893Z"
   },
   {
    "duration": 6,
    "start_time": "2022-11-30T14:38:45.907Z"
   },
   {
    "duration": 7,
    "start_time": "2022-11-30T14:38:45.915Z"
   },
   {
    "duration": 11,
    "start_time": "2022-11-30T14:38:45.924Z"
   },
   {
    "duration": 45,
    "start_time": "2022-11-30T14:38:45.937Z"
   },
   {
    "duration": 108,
    "start_time": "2022-11-30T14:38:45.983Z"
   },
   {
    "duration": 43,
    "start_time": "2022-11-30T14:38:46.093Z"
   },
   {
    "duration": 145,
    "start_time": "2022-11-30T14:38:46.139Z"
   },
   {
    "duration": 32,
    "start_time": "2022-11-30T14:38:46.286Z"
   },
   {
    "duration": 167,
    "start_time": "2022-11-30T14:38:46.321Z"
   },
   {
    "duration": 26,
    "start_time": "2022-11-30T14:38:46.490Z"
   },
   {
    "duration": 116,
    "start_time": "2022-11-30T14:38:46.579Z"
   },
   {
    "duration": 15,
    "start_time": "2022-11-30T14:38:46.697Z"
   },
   {
    "duration": 68,
    "start_time": "2022-11-30T14:38:46.714Z"
   },
   {
    "duration": 128,
    "start_time": "2022-11-30T14:38:46.784Z"
   },
   {
    "duration": 177,
    "start_time": "2022-11-30T14:38:46.914Z"
   },
   {
    "duration": 38,
    "start_time": "2022-11-30T14:38:47.092Z"
   },
   {
    "duration": 20,
    "start_time": "2022-11-30T14:38:47.131Z"
   },
   {
    "duration": 42,
    "start_time": "2022-11-30T14:38:47.153Z"
   },
   {
    "duration": 35,
    "start_time": "2022-11-30T14:38:47.197Z"
   },
   {
    "duration": 22,
    "start_time": "2022-11-30T14:38:47.234Z"
   },
   {
    "duration": 27,
    "start_time": "2022-11-30T14:38:47.258Z"
   },
   {
    "duration": 36,
    "start_time": "2022-11-30T14:38:47.287Z"
   },
   {
    "duration": 31,
    "start_time": "2022-11-30T14:38:47.324Z"
   },
   {
    "duration": 14,
    "start_time": "2022-11-30T14:38:47.356Z"
   },
   {
    "duration": 21,
    "start_time": "2022-11-30T14:38:47.372Z"
   },
   {
    "duration": 22,
    "start_time": "2022-11-30T14:38:47.394Z"
   },
   {
    "duration": 349,
    "start_time": "2022-11-30T14:38:47.418Z"
   },
   {
    "duration": 47,
    "start_time": "2022-11-30T14:38:47.769Z"
   },
   {
    "duration": 6,
    "start_time": "2022-11-30T14:38:47.818Z"
   },
   {
    "duration": 131,
    "start_time": "2022-11-30T14:38:47.826Z"
   },
   {
    "duration": 176,
    "start_time": "2022-11-30T14:38:47.959Z"
   },
   {
    "duration": 45,
    "start_time": "2022-11-30T14:38:48.137Z"
   },
   {
    "duration": 5,
    "start_time": "2022-11-30T14:38:48.184Z"
   },
   {
    "duration": 89,
    "start_time": "2022-11-30T14:38:48.190Z"
   },
   {
    "duration": 262,
    "start_time": "2022-11-30T14:38:48.283Z"
   },
   {
    "duration": 50,
    "start_time": "2022-11-30T14:38:48.547Z"
   },
   {
    "duration": 5,
    "start_time": "2022-11-30T14:38:48.599Z"
   },
   {
    "duration": 124,
    "start_time": "2022-11-30T14:38:48.605Z"
   },
   {
    "duration": 50125,
    "start_time": "2022-11-30T14:38:48.731Z"
   },
   {
    "duration": 20,
    "start_time": "2022-11-30T14:39:38.858Z"
   },
   {
    "duration": 3,
    "start_time": "2022-11-30T14:39:38.880Z"
   },
   {
    "duration": 178,
    "start_time": "2022-11-30T14:39:38.885Z"
   },
   {
    "duration": 44,
    "start_time": "2022-11-30T14:39:39.064Z"
   },
   {
    "duration": 6,
    "start_time": "2022-11-30T14:39:39.109Z"
   },
   {
    "duration": 57,
    "start_time": "2022-11-30T14:39:39.117Z"
   },
   {
    "duration": 45,
    "start_time": "2022-11-30T14:39:39.175Z"
   },
   {
    "duration": 41,
    "start_time": "2022-11-30T14:39:39.222Z"
   },
   {
    "duration": 3,
    "start_time": "2022-11-30T14:39:39.277Z"
   },
   {
    "duration": 144,
    "start_time": "2022-11-30T14:39:39.282Z"
   },
   {
    "duration": 4,
    "start_time": "2022-11-30T15:05:40.529Z"
   },
   {
    "duration": 46,
    "start_time": "2022-11-30T15:05:40.536Z"
   },
   {
    "duration": 13,
    "start_time": "2022-11-30T15:05:40.583Z"
   },
   {
    "duration": 16,
    "start_time": "2022-11-30T15:05:40.597Z"
   },
   {
    "duration": 5,
    "start_time": "2022-11-30T15:05:40.615Z"
   },
   {
    "duration": 17,
    "start_time": "2022-11-30T15:05:40.621Z"
   },
   {
    "duration": 40,
    "start_time": "2022-11-30T15:05:40.639Z"
   },
   {
    "duration": 14,
    "start_time": "2022-11-30T15:05:40.680Z"
   },
   {
    "duration": 2139,
    "start_time": "2022-11-30T15:05:40.695Z"
   },
   {
    "duration": 21,
    "start_time": "2022-11-30T15:05:42.836Z"
   },
   {
    "duration": 19,
    "start_time": "2022-11-30T15:05:42.860Z"
   },
   {
    "duration": 16,
    "start_time": "2022-11-30T15:05:42.881Z"
   },
   {
    "duration": 11,
    "start_time": "2022-11-30T15:05:42.899Z"
   },
   {
    "duration": 10,
    "start_time": "2022-11-30T15:05:42.912Z"
   },
   {
    "duration": 17,
    "start_time": "2022-11-30T15:05:42.924Z"
   },
   {
    "duration": 12,
    "start_time": "2022-11-30T15:05:42.942Z"
   },
   {
    "duration": 9,
    "start_time": "2022-11-30T15:05:42.956Z"
   },
   {
    "duration": 6,
    "start_time": "2022-11-30T15:05:42.979Z"
   },
   {
    "duration": 155,
    "start_time": "2022-11-30T15:05:42.988Z"
   },
   {
    "duration": 3,
    "start_time": "2022-11-30T15:05:43.145Z"
   },
   {
    "duration": 40,
    "start_time": "2022-11-30T15:05:43.149Z"
   },
   {
    "duration": 25,
    "start_time": "2022-11-30T15:05:43.190Z"
   },
   {
    "duration": 57,
    "start_time": "2022-11-30T15:05:43.217Z"
   },
   {
    "duration": 13,
    "start_time": "2022-11-30T15:05:43.276Z"
   },
   {
    "duration": 44,
    "start_time": "2022-11-30T15:05:43.291Z"
   },
   {
    "duration": 35,
    "start_time": "2022-11-30T15:05:43.337Z"
   },
   {
    "duration": 109,
    "start_time": "2022-11-30T15:05:43.373Z"
   },
   {
    "duration": 109,
    "start_time": "2022-11-30T15:05:43.484Z"
   },
   {
    "duration": 196,
    "start_time": "2022-11-30T15:05:43.597Z"
   },
   {
    "duration": 27,
    "start_time": "2022-11-30T15:05:43.794Z"
   },
   {
    "duration": 35,
    "start_time": "2022-11-30T15:05:43.822Z"
   },
   {
    "duration": 35,
    "start_time": "2022-11-30T15:05:43.859Z"
   },
   {
    "duration": 354,
    "start_time": "2022-11-30T15:05:43.897Z"
   },
   {
    "duration": 57,
    "start_time": "2022-11-30T15:05:44.253Z"
   },
   {
    "duration": 6,
    "start_time": "2022-11-30T15:05:44.312Z"
   },
   {
    "duration": 112,
    "start_time": "2022-11-30T15:05:44.319Z"
   },
   {
    "duration": 4,
    "start_time": "2022-11-30T15:05:44.433Z"
   },
   {
    "duration": 34,
    "start_time": "2022-11-30T15:05:44.438Z"
   },
   {
    "duration": 162,
    "start_time": "2022-11-30T15:05:44.474Z"
   },
   {
    "duration": 4,
    "start_time": "2022-11-30T15:05:44.638Z"
   },
   {
    "duration": 34,
    "start_time": "2022-11-30T15:05:44.644Z"
   },
   {
    "duration": 161,
    "start_time": "2022-11-30T15:05:44.680Z"
   },
   {
    "duration": 5,
    "start_time": "2022-11-30T15:05:44.843Z"
   },
   {
    "duration": 39,
    "start_time": "2022-11-30T15:05:44.850Z"
   },
   {
    "duration": 157,
    "start_time": "2022-11-30T15:05:44.891Z"
   },
   {
    "duration": 4,
    "start_time": "2022-11-30T15:05:45.050Z"
   },
   {
    "duration": 43,
    "start_time": "2022-11-30T15:05:45.056Z"
   },
   {
    "duration": 23,
    "start_time": "2022-11-30T15:05:45.101Z"
   },
   {
    "duration": 41,
    "start_time": "2022-11-30T15:05:45.126Z"
   },
   {
    "duration": 40,
    "start_time": "2022-11-30T15:05:45.169Z"
   },
   {
    "duration": 39,
    "start_time": "2022-11-30T15:05:45.211Z"
   },
   {
    "duration": 140,
    "start_time": "2022-11-30T15:05:45.252Z"
   },
   {
    "duration": 84,
    "start_time": "2022-11-30T15:05:45.394Z"
   },
   {
    "duration": 134,
    "start_time": "2022-11-30T15:05:45.480Z"
   },
   {
    "duration": 27,
    "start_time": "2022-11-30T15:05:45.616Z"
   },
   {
    "duration": 137,
    "start_time": "2022-11-30T15:05:45.645Z"
   },
   {
    "duration": 29,
    "start_time": "2022-11-30T15:05:45.785Z"
   },
   {
    "duration": 106,
    "start_time": "2022-11-30T15:05:45.877Z"
   },
   {
    "duration": 35,
    "start_time": "2022-11-30T15:05:45.985Z"
   },
   {
    "duration": 67,
    "start_time": "2022-11-30T15:05:46.022Z"
   },
   {
    "duration": 146,
    "start_time": "2022-11-30T15:05:46.091Z"
   },
   {
    "duration": 114,
    "start_time": "2022-11-30T15:05:46.278Z"
   },
   {
    "duration": 6,
    "start_time": "2022-11-30T15:05:46.394Z"
   },
   {
    "duration": 196,
    "start_time": "2022-11-30T15:05:46.403Z"
   },
   {
    "duration": 14,
    "start_time": "2022-11-30T15:05:46.602Z"
   },
   {
    "duration": 12,
    "start_time": "2022-11-30T15:05:46.618Z"
   },
   {
    "duration": 5,
    "start_time": "2022-11-30T15:05:46.677Z"
   },
   {
    "duration": 11,
    "start_time": "2022-11-30T15:05:46.684Z"
   },
   {
    "duration": 18,
    "start_time": "2022-11-30T15:05:46.696Z"
   },
   {
    "duration": 17,
    "start_time": "2022-11-30T15:05:46.716Z"
   },
   {
    "duration": 5,
    "start_time": "2022-11-30T15:05:46.777Z"
   },
   {
    "duration": 14,
    "start_time": "2022-11-30T15:05:46.784Z"
   },
   {
    "duration": 22,
    "start_time": "2022-11-30T15:05:46.800Z"
   },
   {
    "duration": 440,
    "start_time": "2022-11-30T15:05:46.823Z"
   },
   {
    "duration": 51,
    "start_time": "2022-11-30T15:05:47.265Z"
   },
   {
    "duration": 5,
    "start_time": "2022-11-30T15:05:47.318Z"
   },
   {
    "duration": 118,
    "start_time": "2022-11-30T15:05:47.325Z"
   },
   {
    "duration": 187,
    "start_time": "2022-11-30T15:05:47.445Z"
   },
   {
    "duration": 45,
    "start_time": "2022-11-30T15:05:47.633Z"
   },
   {
    "duration": 5,
    "start_time": "2022-11-30T15:05:47.680Z"
   },
   {
    "duration": 69,
    "start_time": "2022-11-30T15:05:47.687Z"
   },
   {
    "duration": 287,
    "start_time": "2022-11-30T15:05:47.758Z"
   },
   {
    "duration": 52,
    "start_time": "2022-11-30T15:05:48.051Z"
   },
   {
    "duration": 6,
    "start_time": "2022-11-30T15:05:48.105Z"
   },
   {
    "duration": 104,
    "start_time": "2022-11-30T15:05:48.113Z"
   },
   {
    "duration": 50756,
    "start_time": "2022-11-30T15:05:48.219Z"
   },
   {
    "duration": 9,
    "start_time": "2022-11-30T15:06:38.978Z"
   },
   {
    "duration": 25,
    "start_time": "2022-11-30T15:06:38.988Z"
   },
   {
    "duration": 161,
    "start_time": "2022-11-30T15:06:39.015Z"
   },
   {
    "duration": 45,
    "start_time": "2022-11-30T15:06:39.178Z"
   },
   {
    "duration": 7,
    "start_time": "2022-11-30T15:06:39.224Z"
   },
   {
    "duration": 59,
    "start_time": "2022-11-30T15:06:39.232Z"
   },
   {
    "duration": 51,
    "start_time": "2022-11-30T15:06:39.292Z"
   },
   {
    "duration": 59,
    "start_time": "2022-11-30T15:06:39.345Z"
   },
   {
    "duration": 2,
    "start_time": "2022-11-30T15:06:39.406Z"
   },
   {
    "duration": 158,
    "start_time": "2022-11-30T15:06:39.409Z"
   },
   {
    "duration": 1650,
    "start_time": "2022-12-01T08:59:32.107Z"
   },
   {
    "duration": 155,
    "start_time": "2022-12-01T08:59:33.759Z"
   },
   {
    "duration": 20,
    "start_time": "2022-12-01T08:59:33.916Z"
   },
   {
    "duration": 21,
    "start_time": "2022-12-01T08:59:33.938Z"
   },
   {
    "duration": 27,
    "start_time": "2022-12-01T08:59:33.961Z"
   },
   {
    "duration": 22,
    "start_time": "2022-12-01T08:59:33.990Z"
   },
   {
    "duration": 14,
    "start_time": "2022-12-01T08:59:34.014Z"
   },
   {
    "duration": 28,
    "start_time": "2022-12-01T08:59:34.030Z"
   },
   {
    "duration": 2136,
    "start_time": "2022-12-01T08:59:34.060Z"
   },
   {
    "duration": 19,
    "start_time": "2022-12-01T08:59:36.198Z"
   },
   {
    "duration": 3,
    "start_time": "2022-12-01T08:59:36.219Z"
   },
   {
    "duration": 15,
    "start_time": "2022-12-01T08:59:36.224Z"
   },
   {
    "duration": 10,
    "start_time": "2022-12-01T08:59:36.241Z"
   },
   {
    "duration": 5,
    "start_time": "2022-12-01T08:59:36.252Z"
   },
   {
    "duration": 20,
    "start_time": "2022-12-01T08:59:36.258Z"
   },
   {
    "duration": 5,
    "start_time": "2022-12-01T08:59:36.279Z"
   },
   {
    "duration": 12,
    "start_time": "2022-12-01T08:59:36.286Z"
   },
   {
    "duration": 9,
    "start_time": "2022-12-01T08:59:36.299Z"
   },
   {
    "duration": 147,
    "start_time": "2022-12-01T08:59:36.310Z"
   },
   {
    "duration": 3,
    "start_time": "2022-12-01T08:59:36.459Z"
   },
   {
    "duration": 16,
    "start_time": "2022-12-01T08:59:36.464Z"
   },
   {
    "duration": 7,
    "start_time": "2022-12-01T08:59:36.482Z"
   },
   {
    "duration": 31,
    "start_time": "2022-12-01T08:59:36.491Z"
   },
   {
    "duration": 13,
    "start_time": "2022-12-01T08:59:36.523Z"
   },
   {
    "duration": 16,
    "start_time": "2022-12-01T08:59:36.537Z"
   },
   {
    "duration": 28,
    "start_time": "2022-12-01T08:59:36.555Z"
   },
   {
    "duration": 6,
    "start_time": "2022-12-01T08:59:36.584Z"
   },
   {
    "duration": 110,
    "start_time": "2022-12-01T08:59:36.682Z"
   },
   {
    "duration": 196,
    "start_time": "2022-12-01T08:59:36.794Z"
   },
   {
    "duration": 5,
    "start_time": "2022-12-01T08:59:36.992Z"
   },
   {
    "duration": 7,
    "start_time": "2022-12-01T08:59:36.998Z"
   },
   {
    "duration": 11,
    "start_time": "2022-12-01T08:59:37.007Z"
   },
   {
    "duration": 285,
    "start_time": "2022-12-01T08:59:37.019Z"
   },
   {
    "duration": 43,
    "start_time": "2022-12-01T08:59:37.306Z"
   },
   {
    "duration": 5,
    "start_time": "2022-12-01T08:59:37.351Z"
   },
   {
    "duration": 102,
    "start_time": "2022-12-01T08:59:37.357Z"
   },
   {
    "duration": 4,
    "start_time": "2022-12-01T08:59:37.461Z"
   },
   {
    "duration": 6,
    "start_time": "2022-12-01T08:59:37.478Z"
   },
   {
    "duration": 143,
    "start_time": "2022-12-01T08:59:37.485Z"
   },
   {
    "duration": 4,
    "start_time": "2022-12-01T08:59:37.630Z"
   },
   {
    "duration": 20,
    "start_time": "2022-12-01T08:59:37.635Z"
   },
   {
    "duration": 127,
    "start_time": "2022-12-01T08:59:37.657Z"
   },
   {
    "duration": 4,
    "start_time": "2022-12-01T08:59:37.786Z"
   },
   {
    "duration": 14,
    "start_time": "2022-12-01T08:59:37.791Z"
   },
   {
    "duration": 126,
    "start_time": "2022-12-01T08:59:37.807Z"
   },
   {
    "duration": 110,
    "start_time": "2022-12-01T08:59:37.935Z"
   },
   {
    "duration": 0,
    "start_time": "2022-12-01T08:59:38.048Z"
   },
   {
    "duration": 0,
    "start_time": "2022-12-01T08:59:38.049Z"
   },
   {
    "duration": 0,
    "start_time": "2022-12-01T08:59:38.050Z"
   },
   {
    "duration": 0,
    "start_time": "2022-12-01T08:59:38.051Z"
   },
   {
    "duration": 0,
    "start_time": "2022-12-01T08:59:38.052Z"
   },
   {
    "duration": 0,
    "start_time": "2022-12-01T08:59:38.053Z"
   },
   {
    "duration": 0,
    "start_time": "2022-12-01T08:59:38.055Z"
   },
   {
    "duration": 0,
    "start_time": "2022-12-01T08:59:38.055Z"
   },
   {
    "duration": 0,
    "start_time": "2022-12-01T08:59:38.056Z"
   },
   {
    "duration": 0,
    "start_time": "2022-12-01T08:59:38.058Z"
   },
   {
    "duration": 0,
    "start_time": "2022-12-01T08:59:38.058Z"
   },
   {
    "duration": 0,
    "start_time": "2022-12-01T08:59:38.060Z"
   },
   {
    "duration": 0,
    "start_time": "2022-12-01T08:59:38.077Z"
   },
   {
    "duration": 0,
    "start_time": "2022-12-01T08:59:38.079Z"
   },
   {
    "duration": 0,
    "start_time": "2022-12-01T08:59:38.080Z"
   },
   {
    "duration": 0,
    "start_time": "2022-12-01T08:59:38.081Z"
   },
   {
    "duration": 0,
    "start_time": "2022-12-01T08:59:38.082Z"
   },
   {
    "duration": 0,
    "start_time": "2022-12-01T08:59:38.083Z"
   },
   {
    "duration": 0,
    "start_time": "2022-12-01T08:59:38.084Z"
   },
   {
    "duration": 0,
    "start_time": "2022-12-01T08:59:38.085Z"
   },
   {
    "duration": 0,
    "start_time": "2022-12-01T08:59:38.086Z"
   },
   {
    "duration": 0,
    "start_time": "2022-12-01T08:59:38.087Z"
   },
   {
    "duration": 0,
    "start_time": "2022-12-01T08:59:38.088Z"
   },
   {
    "duration": 0,
    "start_time": "2022-12-01T08:59:38.089Z"
   },
   {
    "duration": 0,
    "start_time": "2022-12-01T08:59:38.090Z"
   },
   {
    "duration": 0,
    "start_time": "2022-12-01T08:59:38.091Z"
   },
   {
    "duration": 0,
    "start_time": "2022-12-01T08:59:38.092Z"
   },
   {
    "duration": 0,
    "start_time": "2022-12-01T08:59:38.093Z"
   },
   {
    "duration": 0,
    "start_time": "2022-12-01T08:59:38.095Z"
   },
   {
    "duration": 0,
    "start_time": "2022-12-01T08:59:38.096Z"
   },
   {
    "duration": 0,
    "start_time": "2022-12-01T08:59:38.096Z"
   },
   {
    "duration": 0,
    "start_time": "2022-12-01T08:59:38.097Z"
   },
   {
    "duration": 0,
    "start_time": "2022-12-01T08:59:38.098Z"
   },
   {
    "duration": 0,
    "start_time": "2022-12-01T08:59:38.099Z"
   },
   {
    "duration": 0,
    "start_time": "2022-12-01T08:59:38.100Z"
   },
   {
    "duration": 0,
    "start_time": "2022-12-01T08:59:38.102Z"
   },
   {
    "duration": 0,
    "start_time": "2022-12-01T08:59:38.103Z"
   },
   {
    "duration": 0,
    "start_time": "2022-12-01T08:59:38.104Z"
   },
   {
    "duration": 0,
    "start_time": "2022-12-01T08:59:38.105Z"
   },
   {
    "duration": 0,
    "start_time": "2022-12-01T08:59:38.106Z"
   },
   {
    "duration": 0,
    "start_time": "2022-12-01T08:59:38.107Z"
   },
   {
    "duration": 0,
    "start_time": "2022-12-01T08:59:38.108Z"
   },
   {
    "duration": 0,
    "start_time": "2022-12-01T08:59:38.110Z"
   },
   {
    "duration": 0,
    "start_time": "2022-12-01T08:59:38.111Z"
   },
   {
    "duration": 0,
    "start_time": "2022-12-01T08:59:38.112Z"
   },
   {
    "duration": 0,
    "start_time": "2022-12-01T08:59:38.113Z"
   },
   {
    "duration": 0,
    "start_time": "2022-12-01T08:59:38.114Z"
   },
   {
    "duration": 0,
    "start_time": "2022-12-01T08:59:38.178Z"
   },
   {
    "duration": 0,
    "start_time": "2022-12-01T08:59:38.179Z"
   },
   {
    "duration": 0,
    "start_time": "2022-12-01T08:59:38.180Z"
   },
   {
    "duration": 1555,
    "start_time": "2022-12-01T10:37:06.483Z"
   },
   {
    "duration": 97,
    "start_time": "2022-12-01T10:37:08.040Z"
   },
   {
    "duration": 17,
    "start_time": "2022-12-01T10:37:08.139Z"
   },
   {
    "duration": 23,
    "start_time": "2022-12-01T10:37:08.158Z"
   },
   {
    "duration": 6,
    "start_time": "2022-12-01T10:37:08.183Z"
   },
   {
    "duration": 21,
    "start_time": "2022-12-01T10:37:08.190Z"
   },
   {
    "duration": 7,
    "start_time": "2022-12-01T10:37:08.213Z"
   },
   {
    "duration": 19,
    "start_time": "2022-12-01T10:37:08.222Z"
   },
   {
    "duration": 2312,
    "start_time": "2022-12-01T10:37:08.243Z"
   },
   {
    "duration": 21,
    "start_time": "2022-12-01T10:37:10.558Z"
   },
   {
    "duration": 4,
    "start_time": "2022-12-01T10:37:10.580Z"
   },
   {
    "duration": 17,
    "start_time": "2022-12-01T10:37:10.586Z"
   },
   {
    "duration": 10,
    "start_time": "2022-12-01T10:37:10.605Z"
   },
   {
    "duration": 7,
    "start_time": "2022-12-01T10:37:10.616Z"
   },
   {
    "duration": 10,
    "start_time": "2022-12-01T10:37:10.624Z"
   },
   {
    "duration": 12,
    "start_time": "2022-12-01T10:37:10.636Z"
   },
   {
    "duration": 8,
    "start_time": "2022-12-01T10:37:10.649Z"
   },
   {
    "duration": 7,
    "start_time": "2022-12-01T10:37:10.659Z"
   },
   {
    "duration": 243,
    "start_time": "2022-12-01T10:37:13.146Z"
   },
   {
    "duration": 25694,
    "start_time": "2022-12-01T10:37:20.136Z"
   },
   {
    "duration": 6,
    "start_time": "2022-12-01T10:41:34.175Z"
   },
   {
    "duration": 74,
    "start_time": "2022-12-01T10:41:34.184Z"
   },
   {
    "duration": 21,
    "start_time": "2022-12-01T10:41:34.260Z"
   },
   {
    "duration": 19,
    "start_time": "2022-12-01T10:41:34.284Z"
   },
   {
    "duration": 9,
    "start_time": "2022-12-01T10:41:34.305Z"
   },
   {
    "duration": 21,
    "start_time": "2022-12-01T10:41:34.316Z"
   },
   {
    "duration": 9,
    "start_time": "2022-12-01T10:41:34.339Z"
   },
   {
    "duration": 19,
    "start_time": "2022-12-01T10:41:34.350Z"
   },
   {
    "duration": 2287,
    "start_time": "2022-12-01T10:41:34.371Z"
   },
   {
    "duration": 26,
    "start_time": "2022-12-01T10:41:36.662Z"
   },
   {
    "duration": 25,
    "start_time": "2022-12-01T10:41:36.690Z"
   },
   {
    "duration": 30,
    "start_time": "2022-12-01T10:41:36.717Z"
   },
   {
    "duration": 17,
    "start_time": "2022-12-01T10:41:36.750Z"
   },
   {
    "duration": 7,
    "start_time": "2022-12-01T10:41:36.769Z"
   },
   {
    "duration": 8,
    "start_time": "2022-12-01T10:41:36.778Z"
   },
   {
    "duration": 8,
    "start_time": "2022-12-01T10:41:36.788Z"
   },
   {
    "duration": 20,
    "start_time": "2022-12-01T10:41:36.798Z"
   },
   {
    "duration": 12,
    "start_time": "2022-12-01T10:41:36.821Z"
   },
   {
    "duration": 0,
    "start_time": "2022-12-01T10:42:11.903Z"
   },
   {
    "duration": 0,
    "start_time": "2022-12-01T10:42:11.912Z"
   },
   {
    "duration": 0,
    "start_time": "2022-12-01T10:42:11.913Z"
   },
   {
    "duration": 0,
    "start_time": "2022-12-01T10:42:11.916Z"
   },
   {
    "duration": 0,
    "start_time": "2022-12-01T10:42:11.918Z"
   },
   {
    "duration": 0,
    "start_time": "2022-12-01T10:42:11.920Z"
   },
   {
    "duration": 0,
    "start_time": "2022-12-01T10:42:11.922Z"
   },
   {
    "duration": 0,
    "start_time": "2022-12-01T10:42:11.923Z"
   },
   {
    "duration": 0,
    "start_time": "2022-12-01T10:42:11.924Z"
   },
   {
    "duration": 0,
    "start_time": "2022-12-01T10:42:11.925Z"
   },
   {
    "duration": 0,
    "start_time": "2022-12-01T10:42:11.927Z"
   },
   {
    "duration": 0,
    "start_time": "2022-12-01T10:42:11.929Z"
   },
   {
    "duration": 0,
    "start_time": "2022-12-01T10:42:11.930Z"
   },
   {
    "duration": 0,
    "start_time": "2022-12-01T10:42:11.931Z"
   },
   {
    "duration": 0,
    "start_time": "2022-12-01T10:42:11.933Z"
   },
   {
    "duration": 0,
    "start_time": "2022-12-01T10:42:11.934Z"
   },
   {
    "duration": 0,
    "start_time": "2022-12-01T10:42:11.935Z"
   },
   {
    "duration": 0,
    "start_time": "2022-12-01T10:42:11.936Z"
   },
   {
    "duration": 0,
    "start_time": "2022-12-01T10:42:11.938Z"
   },
   {
    "duration": 0,
    "start_time": "2022-12-01T10:42:11.939Z"
   },
   {
    "duration": 0,
    "start_time": "2022-12-01T10:42:11.940Z"
   },
   {
    "duration": 0,
    "start_time": "2022-12-01T10:42:11.941Z"
   },
   {
    "duration": 0,
    "start_time": "2022-12-01T10:42:11.942Z"
   },
   {
    "duration": 0,
    "start_time": "2022-12-01T10:42:11.943Z"
   },
   {
    "duration": 0,
    "start_time": "2022-12-01T10:42:11.944Z"
   },
   {
    "duration": 0,
    "start_time": "2022-12-01T10:42:11.945Z"
   },
   {
    "duration": 0,
    "start_time": "2022-12-01T10:42:11.946Z"
   },
   {
    "duration": 0,
    "start_time": "2022-12-01T10:42:11.948Z"
   },
   {
    "duration": 131,
    "start_time": "2022-12-01T10:42:13.437Z"
   },
   {
    "duration": 5,
    "start_time": "2022-12-01T10:42:23.921Z"
   },
   {
    "duration": 54,
    "start_time": "2022-12-01T10:42:23.928Z"
   },
   {
    "duration": 14,
    "start_time": "2022-12-01T10:42:23.984Z"
   },
   {
    "duration": 40,
    "start_time": "2022-12-01T10:42:24.000Z"
   },
   {
    "duration": 10,
    "start_time": "2022-12-01T10:42:24.041Z"
   },
   {
    "duration": 31,
    "start_time": "2022-12-01T10:42:24.053Z"
   },
   {
    "duration": 22,
    "start_time": "2022-12-01T10:42:24.087Z"
   },
   {
    "duration": 38,
    "start_time": "2022-12-01T10:42:24.111Z"
   },
   {
    "duration": 2168,
    "start_time": "2022-12-01T10:42:24.151Z"
   },
   {
    "duration": 20,
    "start_time": "2022-12-01T10:42:26.323Z"
   },
   {
    "duration": 5,
    "start_time": "2022-12-01T10:42:26.345Z"
   },
   {
    "duration": 26,
    "start_time": "2022-12-01T10:42:26.353Z"
   },
   {
    "duration": 36,
    "start_time": "2022-12-01T10:42:26.382Z"
   },
   {
    "duration": 7,
    "start_time": "2022-12-01T10:42:26.420Z"
   },
   {
    "duration": 17,
    "start_time": "2022-12-01T10:42:26.429Z"
   },
   {
    "duration": 11,
    "start_time": "2022-12-01T10:42:26.448Z"
   },
   {
    "duration": 28,
    "start_time": "2022-12-01T10:42:26.461Z"
   },
   {
    "duration": 14,
    "start_time": "2022-12-01T10:42:26.491Z"
   },
   {
    "duration": 222,
    "start_time": "2022-12-01T10:42:26.507Z"
   },
   {
    "duration": 6,
    "start_time": "2022-12-01T10:42:26.733Z"
   },
   {
    "duration": 25,
    "start_time": "2022-12-01T10:42:26.741Z"
   },
   {
    "duration": 18,
    "start_time": "2022-12-01T10:42:26.768Z"
   },
   {
    "duration": 64,
    "start_time": "2022-12-01T10:42:26.788Z"
   },
   {
    "duration": 18,
    "start_time": "2022-12-01T10:42:26.854Z"
   },
   {
    "duration": 14,
    "start_time": "2022-12-01T10:42:26.875Z"
   },
   {
    "duration": 29,
    "start_time": "2022-12-01T10:42:26.892Z"
   },
   {
    "duration": 97,
    "start_time": "2022-12-01T10:42:26.922Z"
   },
   {
    "duration": 190,
    "start_time": "2022-12-01T10:42:27.023Z"
   },
   {
    "duration": 119,
    "start_time": "2022-12-01T10:42:27.215Z"
   },
   {
    "duration": 6,
    "start_time": "2022-12-01T10:42:27.336Z"
   },
   {
    "duration": 13,
    "start_time": "2022-12-01T10:42:27.344Z"
   },
   {
    "duration": 18,
    "start_time": "2022-12-01T10:42:27.359Z"
   },
   {
    "duration": 336,
    "start_time": "2022-12-01T10:42:27.379Z"
   },
   {
    "duration": 47,
    "start_time": "2022-12-01T10:42:27.717Z"
   },
   {
    "duration": 7,
    "start_time": "2022-12-01T10:42:27.766Z"
   },
   {
    "duration": 119,
    "start_time": "2022-12-01T10:42:27.774Z"
   },
   {
    "duration": 5,
    "start_time": "2022-12-01T10:42:27.894Z"
   },
   {
    "duration": 29,
    "start_time": "2022-12-01T10:42:27.901Z"
   },
   {
    "duration": 154,
    "start_time": "2022-12-01T10:42:27.933Z"
   },
   {
    "duration": 4,
    "start_time": "2022-12-01T10:42:28.089Z"
   },
   {
    "duration": 25,
    "start_time": "2022-12-01T10:42:28.095Z"
   },
   {
    "duration": 154,
    "start_time": "2022-12-01T10:42:28.122Z"
   },
   {
    "duration": 5,
    "start_time": "2022-12-01T10:42:28.277Z"
   },
   {
    "duration": 16,
    "start_time": "2022-12-01T10:42:28.284Z"
   },
   {
    "duration": 164,
    "start_time": "2022-12-01T10:42:28.302Z"
   },
   {
    "duration": 5,
    "start_time": "2022-12-01T10:42:30.705Z"
   },
   {
    "duration": 6,
    "start_time": "2022-12-01T10:42:33.225Z"
   },
   {
    "duration": 5,
    "start_time": "2022-12-01T10:46:00.692Z"
   },
   {
    "duration": 73,
    "start_time": "2022-12-01T10:46:00.700Z"
   },
   {
    "duration": 21,
    "start_time": "2022-12-01T10:46:00.775Z"
   },
   {
    "duration": 38,
    "start_time": "2022-12-01T10:46:00.799Z"
   },
   {
    "duration": 17,
    "start_time": "2022-12-01T10:46:00.839Z"
   },
   {
    "duration": 56,
    "start_time": "2022-12-01T10:46:00.858Z"
   },
   {
    "duration": 26,
    "start_time": "2022-12-01T10:46:00.916Z"
   },
   {
    "duration": 51,
    "start_time": "2022-12-01T10:46:00.944Z"
   },
   {
    "duration": 2249,
    "start_time": "2022-12-01T10:46:00.998Z"
   },
   {
    "duration": 21,
    "start_time": "2022-12-01T10:46:03.250Z"
   },
   {
    "duration": 5,
    "start_time": "2022-12-01T10:46:03.273Z"
   },
   {
    "duration": 32,
    "start_time": "2022-12-01T10:46:03.280Z"
   },
   {
    "duration": 11,
    "start_time": "2022-12-01T10:46:03.314Z"
   },
   {
    "duration": 9,
    "start_time": "2022-12-01T10:46:03.327Z"
   },
   {
    "duration": 9,
    "start_time": "2022-12-01T10:46:03.338Z"
   },
   {
    "duration": 9,
    "start_time": "2022-12-01T10:46:03.349Z"
   },
   {
    "duration": 8,
    "start_time": "2022-12-01T10:46:03.360Z"
   },
   {
    "duration": 12,
    "start_time": "2022-12-01T10:46:03.370Z"
   },
   {
    "duration": 172,
    "start_time": "2022-12-01T10:46:03.383Z"
   },
   {
    "duration": 4,
    "start_time": "2022-12-01T10:46:03.557Z"
   },
   {
    "duration": 12,
    "start_time": "2022-12-01T10:46:03.563Z"
   },
   {
    "duration": 11,
    "start_time": "2022-12-01T10:46:03.577Z"
   },
   {
    "duration": 54,
    "start_time": "2022-12-01T10:46:03.590Z"
   },
   {
    "duration": 14,
    "start_time": "2022-12-01T10:46:03.646Z"
   },
   {
    "duration": 12,
    "start_time": "2022-12-01T10:46:03.662Z"
   },
   {
    "duration": 47,
    "start_time": "2022-12-01T10:46:03.676Z"
   },
   {
    "duration": 9,
    "start_time": "2022-12-01T10:46:03.813Z"
   },
   {
    "duration": 91,
    "start_time": "2022-12-01T10:46:03.827Z"
   },
   {
    "duration": 102,
    "start_time": "2022-12-01T10:46:03.919Z"
   },
   {
    "duration": 6,
    "start_time": "2022-12-01T10:46:04.023Z"
   },
   {
    "duration": 8,
    "start_time": "2022-12-01T10:46:04.031Z"
   },
   {
    "duration": 12,
    "start_time": "2022-12-01T10:46:04.041Z"
   },
   {
    "duration": 343,
    "start_time": "2022-12-01T10:46:04.055Z"
   },
   {
    "duration": 53,
    "start_time": "2022-12-01T10:46:04.400Z"
   },
   {
    "duration": 7,
    "start_time": "2022-12-01T10:46:04.455Z"
   },
   {
    "duration": 114,
    "start_time": "2022-12-01T10:46:04.464Z"
   },
   {
    "duration": 5,
    "start_time": "2022-12-01T10:46:04.580Z"
   },
   {
    "duration": 27,
    "start_time": "2022-12-01T10:46:04.586Z"
   },
   {
    "duration": 149,
    "start_time": "2022-12-01T10:46:04.615Z"
   },
   {
    "duration": 4,
    "start_time": "2022-12-01T10:46:04.766Z"
   },
   {
    "duration": 12,
    "start_time": "2022-12-01T10:46:04.772Z"
   },
   {
    "duration": 168,
    "start_time": "2022-12-01T10:46:04.785Z"
   },
   {
    "duration": 5,
    "start_time": "2022-12-01T10:46:04.956Z"
   },
   {
    "duration": 28,
    "start_time": "2022-12-01T10:46:04.962Z"
   },
   {
    "duration": 145,
    "start_time": "2022-12-01T10:46:04.991Z"
   },
   {
    "duration": 4,
    "start_time": "2022-12-01T10:46:05.138Z"
   },
   {
    "duration": 12,
    "start_time": "2022-12-01T10:46:05.143Z"
   },
   {
    "duration": 9,
    "start_time": "2022-12-01T10:46:05.157Z"
   },
   {
    "duration": 14,
    "start_time": "2022-12-01T10:46:05.168Z"
   },
   {
    "duration": 0,
    "start_time": "2022-12-01T10:46:05.184Z"
   },
   {
    "duration": 0,
    "start_time": "2022-12-01T10:46:05.186Z"
   },
   {
    "duration": 0,
    "start_time": "2022-12-01T10:46:05.187Z"
   },
   {
    "duration": 0,
    "start_time": "2022-12-01T10:46:05.188Z"
   },
   {
    "duration": 0,
    "start_time": "2022-12-01T10:46:05.189Z"
   },
   {
    "duration": 0,
    "start_time": "2022-12-01T10:46:05.191Z"
   },
   {
    "duration": 0,
    "start_time": "2022-12-01T10:46:05.192Z"
   },
   {
    "duration": 0,
    "start_time": "2022-12-01T10:46:05.212Z"
   },
   {
    "duration": 0,
    "start_time": "2022-12-01T10:46:05.213Z"
   },
   {
    "duration": 0,
    "start_time": "2022-12-01T10:46:05.215Z"
   },
   {
    "duration": 0,
    "start_time": "2022-12-01T10:46:05.216Z"
   },
   {
    "duration": 0,
    "start_time": "2022-12-01T10:46:05.217Z"
   },
   {
    "duration": 0,
    "start_time": "2022-12-01T10:46:05.218Z"
   },
   {
    "duration": 0,
    "start_time": "2022-12-01T10:46:05.219Z"
   },
   {
    "duration": 0,
    "start_time": "2022-12-01T10:46:05.220Z"
   },
   {
    "duration": 0,
    "start_time": "2022-12-01T10:46:05.221Z"
   },
   {
    "duration": 0,
    "start_time": "2022-12-01T10:46:05.222Z"
   },
   {
    "duration": 0,
    "start_time": "2022-12-01T10:46:05.223Z"
   },
   {
    "duration": 0,
    "start_time": "2022-12-01T10:46:05.224Z"
   },
   {
    "duration": 0,
    "start_time": "2022-12-01T10:46:05.226Z"
   },
   {
    "duration": 0,
    "start_time": "2022-12-01T10:46:05.227Z"
   },
   {
    "duration": 0,
    "start_time": "2022-12-01T10:46:05.228Z"
   },
   {
    "duration": 0,
    "start_time": "2022-12-01T10:46:05.229Z"
   },
   {
    "duration": 0,
    "start_time": "2022-12-01T10:46:05.230Z"
   },
   {
    "duration": 0,
    "start_time": "2022-12-01T10:46:05.231Z"
   },
   {
    "duration": 0,
    "start_time": "2022-12-01T10:46:05.232Z"
   },
   {
    "duration": 0,
    "start_time": "2022-12-01T10:46:05.234Z"
   },
   {
    "duration": 0,
    "start_time": "2022-12-01T10:46:05.235Z"
   },
   {
    "duration": 0,
    "start_time": "2022-12-01T10:46:05.236Z"
   },
   {
    "duration": 0,
    "start_time": "2022-12-01T10:46:05.237Z"
   },
   {
    "duration": 0,
    "start_time": "2022-12-01T10:46:05.239Z"
   },
   {
    "duration": 0,
    "start_time": "2022-12-01T10:46:05.240Z"
   },
   {
    "duration": 0,
    "start_time": "2022-12-01T10:46:05.241Z"
   },
   {
    "duration": 0,
    "start_time": "2022-12-01T10:46:05.242Z"
   },
   {
    "duration": 1,
    "start_time": "2022-12-01T10:46:05.243Z"
   },
   {
    "duration": 0,
    "start_time": "2022-12-01T10:46:05.245Z"
   },
   {
    "duration": 0,
    "start_time": "2022-12-01T10:46:05.246Z"
   },
   {
    "duration": 0,
    "start_time": "2022-12-01T10:46:05.247Z"
   },
   {
    "duration": 0,
    "start_time": "2022-12-01T10:46:05.248Z"
   },
   {
    "duration": 0,
    "start_time": "2022-12-01T10:46:05.312Z"
   },
   {
    "duration": 0,
    "start_time": "2022-12-01T10:46:05.314Z"
   },
   {
    "duration": 0,
    "start_time": "2022-12-01T10:46:05.315Z"
   },
   {
    "duration": 0,
    "start_time": "2022-12-01T10:46:05.316Z"
   },
   {
    "duration": 0,
    "start_time": "2022-12-01T10:46:05.317Z"
   },
   {
    "duration": 0,
    "start_time": "2022-12-01T10:46:05.318Z"
   },
   {
    "duration": 0,
    "start_time": "2022-12-01T10:46:05.319Z"
   },
   {
    "duration": 0,
    "start_time": "2022-12-01T10:46:05.320Z"
   },
   {
    "duration": 10,
    "start_time": "2022-12-01T10:47:32.502Z"
   },
   {
    "duration": 14,
    "start_time": "2022-12-01T10:47:41.625Z"
   },
   {
    "duration": 6,
    "start_time": "2022-12-01T10:47:46.960Z"
   },
   {
    "duration": 14,
    "start_time": "2022-12-01T10:47:46.968Z"
   },
   {
    "duration": 5,
    "start_time": "2022-12-01T10:47:46.984Z"
   },
   {
    "duration": 29,
    "start_time": "2022-12-01T10:47:46.991Z"
   },
   {
    "duration": 100,
    "start_time": "2022-12-01T10:47:47.022Z"
   },
   {
    "duration": 188,
    "start_time": "2022-12-01T10:47:47.124Z"
   },
   {
    "duration": 11,
    "start_time": "2022-12-01T10:47:47.314Z"
   },
   {
    "duration": 193,
    "start_time": "2022-12-01T10:47:47.327Z"
   },
   {
    "duration": 12,
    "start_time": "2022-12-01T10:47:47.523Z"
   },
   {
    "duration": 176,
    "start_time": "2022-12-01T10:47:47.538Z"
   },
   {
    "duration": 8,
    "start_time": "2022-12-01T10:47:47.715Z"
   },
   {
    "duration": 91,
    "start_time": "2022-12-01T10:47:47.725Z"
   },
   {
    "duration": 105,
    "start_time": "2022-12-01T10:47:47.818Z"
   },
   {
    "duration": 104,
    "start_time": "2022-12-01T10:47:48.013Z"
   },
   {
    "duration": 6,
    "start_time": "2022-12-01T10:47:48.119Z"
   },
   {
    "duration": 9,
    "start_time": "2022-12-01T10:47:48.127Z"
   },
   {
    "duration": 15,
    "start_time": "2022-12-01T10:47:48.138Z"
   },
   {
    "duration": 11,
    "start_time": "2022-12-01T10:47:48.155Z"
   },
   {
    "duration": 48,
    "start_time": "2022-12-01T10:47:48.168Z"
   },
   {
    "duration": 19,
    "start_time": "2022-12-01T10:47:48.218Z"
   },
   {
    "duration": 13,
    "start_time": "2022-12-01T10:47:48.239Z"
   },
   {
    "duration": 20,
    "start_time": "2022-12-01T10:47:48.254Z"
   },
   {
    "duration": 5,
    "start_time": "2022-12-01T10:47:48.276Z"
   },
   {
    "duration": 7,
    "start_time": "2022-12-01T10:47:48.314Z"
   },
   {
    "duration": 16,
    "start_time": "2022-12-01T10:47:48.324Z"
   },
   {
    "duration": 423,
    "start_time": "2022-12-01T10:47:48.343Z"
   },
   {
    "duration": 59,
    "start_time": "2022-12-01T10:47:48.768Z"
   },
   {
    "duration": 6,
    "start_time": "2022-12-01T10:47:48.829Z"
   },
   {
    "duration": 142,
    "start_time": "2022-12-01T10:47:48.837Z"
   },
   {
    "duration": 219,
    "start_time": "2022-12-01T10:47:48.981Z"
   },
   {
    "duration": 52,
    "start_time": "2022-12-01T10:47:49.202Z"
   },
   {
    "duration": 5,
    "start_time": "2022-12-01T10:47:49.256Z"
   },
   {
    "duration": 100,
    "start_time": "2022-12-01T10:47:49.263Z"
   },
   {
    "duration": 300,
    "start_time": "2022-12-01T10:47:49.365Z"
   },
   {
    "duration": 57,
    "start_time": "2022-12-01T10:47:49.668Z"
   },
   {
    "duration": 7,
    "start_time": "2022-12-01T10:47:49.727Z"
   },
   {
    "duration": 111,
    "start_time": "2022-12-01T10:47:49.736Z"
   },
   {
    "duration": 6317,
    "start_time": "2022-12-01T10:47:49.849Z"
   },
   {
    "duration": 0,
    "start_time": "2022-12-01T10:47:56.168Z"
   },
   {
    "duration": 0,
    "start_time": "2022-12-01T10:47:56.169Z"
   },
   {
    "duration": 0,
    "start_time": "2022-12-01T10:47:56.171Z"
   },
   {
    "duration": 0,
    "start_time": "2022-12-01T10:47:56.175Z"
   },
   {
    "duration": 0,
    "start_time": "2022-12-01T10:47:56.177Z"
   },
   {
    "duration": 0,
    "start_time": "2022-12-01T10:47:56.178Z"
   },
   {
    "duration": 0,
    "start_time": "2022-12-01T10:47:56.179Z"
   },
   {
    "duration": 0,
    "start_time": "2022-12-01T10:47:56.180Z"
   },
   {
    "duration": 0,
    "start_time": "2022-12-01T10:47:56.182Z"
   },
   {
    "duration": 0,
    "start_time": "2022-12-01T10:47:56.215Z"
   },
   {
    "duration": 4,
    "start_time": "2022-12-01T10:47:58.080Z"
   },
   {
    "duration": 44,
    "start_time": "2022-12-01T10:47:58.087Z"
   },
   {
    "duration": 14,
    "start_time": "2022-12-01T10:47:58.133Z"
   },
   {
    "duration": 17,
    "start_time": "2022-12-01T10:47:58.148Z"
   },
   {
    "duration": 11,
    "start_time": "2022-12-01T10:47:58.167Z"
   },
   {
    "duration": 43,
    "start_time": "2022-12-01T10:47:58.180Z"
   },
   {
    "duration": 5,
    "start_time": "2022-12-01T10:47:58.224Z"
   },
   {
    "duration": 18,
    "start_time": "2022-12-01T10:47:58.230Z"
   },
   {
    "duration": 5847,
    "start_time": "2022-12-01T10:47:58.250Z"
   },
   {
    "duration": 30,
    "start_time": "2022-12-01T10:48:04.100Z"
   },
   {
    "duration": 6,
    "start_time": "2022-12-01T10:48:04.132Z"
   },
   {
    "duration": 27,
    "start_time": "2022-12-01T10:48:04.140Z"
   },
   {
    "duration": 28,
    "start_time": "2022-12-01T10:48:04.168Z"
   },
   {
    "duration": 15,
    "start_time": "2022-12-01T10:48:04.200Z"
   },
   {
    "duration": 16,
    "start_time": "2022-12-01T10:48:04.218Z"
   },
   {
    "duration": 22,
    "start_time": "2022-12-01T10:48:04.236Z"
   },
   {
    "duration": 10,
    "start_time": "2022-12-01T10:48:04.261Z"
   },
   {
    "duration": 12,
    "start_time": "2022-12-01T10:48:04.273Z"
   },
   {
    "duration": 194,
    "start_time": "2022-12-01T10:48:04.288Z"
   },
   {
    "duration": 5,
    "start_time": "2022-12-01T10:48:04.484Z"
   },
   {
    "duration": 24,
    "start_time": "2022-12-01T10:48:04.491Z"
   },
   {
    "duration": 9,
    "start_time": "2022-12-01T10:48:04.517Z"
   },
   {
    "duration": 49,
    "start_time": "2022-12-01T10:48:04.528Z"
   },
   {
    "duration": 34,
    "start_time": "2022-12-01T10:48:04.579Z"
   },
   {
    "duration": 49,
    "start_time": "2022-12-01T10:48:04.615Z"
   },
   {
    "duration": 61,
    "start_time": "2022-12-01T10:48:04.666Z"
   },
   {
    "duration": 196,
    "start_time": "2022-12-01T10:48:04.729Z"
   },
   {
    "duration": 185,
    "start_time": "2022-12-01T10:48:04.927Z"
   },
   {
    "duration": 21,
    "start_time": "2022-12-01T10:48:05.115Z"
   },
   {
    "duration": 11,
    "start_time": "2022-12-01T10:48:05.139Z"
   },
   {
    "duration": 28,
    "start_time": "2022-12-01T10:48:05.153Z"
   },
   {
    "duration": 31,
    "start_time": "2022-12-01T10:48:05.184Z"
   },
   {
    "duration": 364,
    "start_time": "2022-12-01T10:48:05.217Z"
   },
   {
    "duration": 58,
    "start_time": "2022-12-01T10:48:05.583Z"
   },
   {
    "duration": 7,
    "start_time": "2022-12-01T10:48:05.642Z"
   },
   {
    "duration": 163,
    "start_time": "2022-12-01T10:48:05.651Z"
   },
   {
    "duration": 4,
    "start_time": "2022-12-01T10:48:05.816Z"
   },
   {
    "duration": 73,
    "start_time": "2022-12-01T10:48:05.822Z"
   },
   {
    "duration": 164,
    "start_time": "2022-12-01T10:48:05.897Z"
   },
   {
    "duration": 5,
    "start_time": "2022-12-01T10:48:06.064Z"
   },
   {
    "duration": 12,
    "start_time": "2022-12-01T10:48:06.077Z"
   },
   {
    "duration": 161,
    "start_time": "2022-12-01T10:48:06.091Z"
   },
   {
    "duration": 4,
    "start_time": "2022-12-01T10:48:06.255Z"
   },
   {
    "duration": 54,
    "start_time": "2022-12-01T10:48:06.261Z"
   },
   {
    "duration": 155,
    "start_time": "2022-12-01T10:48:06.317Z"
   },
   {
    "duration": 5,
    "start_time": "2022-12-01T10:48:06.474Z"
   },
   {
    "duration": 38,
    "start_time": "2022-12-01T10:48:06.480Z"
   },
   {
    "duration": 27,
    "start_time": "2022-12-01T10:48:06.520Z"
   },
   {
    "duration": 54,
    "start_time": "2022-12-01T10:48:06.549Z"
   },
   {
    "duration": 50,
    "start_time": "2022-12-01T10:48:06.605Z"
   },
   {
    "duration": 22,
    "start_time": "2022-12-01T10:48:06.657Z"
   },
   {
    "duration": 136,
    "start_time": "2022-12-01T10:48:06.682Z"
   },
   {
    "duration": 97,
    "start_time": "2022-12-01T10:48:06.820Z"
   },
   {
    "duration": 124,
    "start_time": "2022-12-01T10:48:06.919Z"
   },
   {
    "duration": 7,
    "start_time": "2022-12-01T10:48:07.045Z"
   },
   {
    "duration": 185,
    "start_time": "2022-12-01T10:48:07.054Z"
   },
   {
    "duration": 27,
    "start_time": "2022-12-01T10:48:07.241Z"
   },
   {
    "duration": 164,
    "start_time": "2022-12-01T10:48:07.270Z"
   },
   {
    "duration": 7,
    "start_time": "2022-12-01T10:48:07.436Z"
   },
   {
    "duration": 168,
    "start_time": "2022-12-01T10:48:07.445Z"
   },
   {
    "duration": 27,
    "start_time": "2022-12-01T10:48:07.615Z"
   },
   {
    "duration": 170,
    "start_time": "2022-12-01T10:48:07.644Z"
   },
   {
    "duration": 6,
    "start_time": "2022-12-01T10:48:07.817Z"
   },
   {
    "duration": 13,
    "start_time": "2022-12-01T10:48:07.825Z"
   },
   {
    "duration": 16,
    "start_time": "2022-12-01T10:48:07.840Z"
   },
   {
    "duration": 14,
    "start_time": "2022-12-01T10:48:07.858Z"
   },
   {
    "duration": 40,
    "start_time": "2022-12-01T10:48:07.874Z"
   },
   {
    "duration": 14,
    "start_time": "2022-12-01T10:48:07.916Z"
   },
   {
    "duration": 188,
    "start_time": "2022-12-01T10:48:07.932Z"
   },
   {
    "duration": 17,
    "start_time": "2022-12-01T10:48:08.122Z"
   },
   {
    "duration": 5,
    "start_time": "2022-12-01T10:48:08.141Z"
   },
   {
    "duration": 25,
    "start_time": "2022-12-01T10:48:08.148Z"
   },
   {
    "duration": 44,
    "start_time": "2022-12-01T10:48:08.175Z"
   },
   {
    "duration": 505,
    "start_time": "2022-12-01T10:48:08.222Z"
   },
   {
    "duration": 52,
    "start_time": "2022-12-01T10:48:08.729Z"
   },
   {
    "duration": 8,
    "start_time": "2022-12-01T10:48:08.783Z"
   },
   {
    "duration": 128,
    "start_time": "2022-12-01T10:48:08.811Z"
   },
   {
    "duration": 232,
    "start_time": "2022-12-01T10:48:08.941Z"
   },
   {
    "duration": 56,
    "start_time": "2022-12-01T10:48:09.175Z"
   },
   {
    "duration": 9,
    "start_time": "2022-12-01T10:48:09.233Z"
   },
   {
    "duration": 105,
    "start_time": "2022-12-01T10:48:09.244Z"
   },
   {
    "duration": 317,
    "start_time": "2022-12-01T10:48:09.352Z"
   },
   {
    "duration": 56,
    "start_time": "2022-12-01T10:48:09.671Z"
   },
   {
    "duration": 8,
    "start_time": "2022-12-01T10:48:09.730Z"
   },
   {
    "duration": 111,
    "start_time": "2022-12-01T10:48:09.739Z"
   },
   {
    "duration": 57092,
    "start_time": "2022-12-01T10:48:09.852Z"
   },
   {
    "duration": 18,
    "start_time": "2022-12-01T10:49:06.946Z"
   },
   {
    "duration": 43,
    "start_time": "2022-12-01T10:49:06.966Z"
   },
   {
    "duration": 205,
    "start_time": "2022-12-01T10:49:07.010Z"
   },
   {
    "duration": 51,
    "start_time": "2022-12-01T10:49:07.217Z"
   },
   {
    "duration": 8,
    "start_time": "2022-12-01T10:49:07.271Z"
   },
   {
    "duration": 72,
    "start_time": "2022-12-01T10:49:07.281Z"
   },
   {
    "duration": 80,
    "start_time": "2022-12-01T10:49:07.355Z"
   },
   {
    "duration": 65,
    "start_time": "2022-12-01T10:49:07.437Z"
   },
   {
    "duration": 3,
    "start_time": "2022-12-01T10:49:07.504Z"
   },
   {
    "duration": 174,
    "start_time": "2022-12-01T10:49:07.509Z"
   },
   {
    "duration": 9,
    "start_time": "2022-12-01T10:55:02.556Z"
   },
   {
    "duration": 15199,
    "start_time": "2022-12-01T10:59:51.161Z"
   },
   {
    "duration": 16775,
    "start_time": "2022-12-01T11:00:25.842Z"
   },
   {
    "duration": 16156,
    "start_time": "2022-12-01T11:02:07.672Z"
   },
   {
    "duration": 224,
    "start_time": "2022-12-01T11:07:20.830Z"
   },
   {
    "duration": 206,
    "start_time": "2022-12-01T11:07:43.674Z"
   },
   {
    "duration": 188,
    "start_time": "2022-12-01T11:08:05.469Z"
   },
   {
    "duration": 143,
    "start_time": "2022-12-01T11:18:20.579Z"
   },
   {
    "duration": 201,
    "start_time": "2022-12-01T11:18:36.020Z"
   },
   {
    "duration": 4,
    "start_time": "2022-12-01T11:18:40.475Z"
   },
   {
    "duration": 7,
    "start_time": "2022-12-01T11:18:54.537Z"
   },
   {
    "duration": 13,
    "start_time": "2022-12-01T11:19:12.111Z"
   },
   {
    "duration": 11,
    "start_time": "2022-12-01T11:19:19.210Z"
   },
   {
    "duration": 6,
    "start_time": "2022-12-01T11:19:57.801Z"
   },
   {
    "duration": 6,
    "start_time": "2022-12-01T11:22:24.262Z"
   },
   {
    "duration": 5,
    "start_time": "2022-12-01T11:22:31.469Z"
   },
   {
    "duration": 14,
    "start_time": "2022-12-01T11:22:51.919Z"
   },
   {
    "duration": 16718,
    "start_time": "2022-12-01T11:24:45.832Z"
   },
   {
    "duration": 7,
    "start_time": "2022-12-01T12:02:34.706Z"
   },
   {
    "duration": 140,
    "start_time": "2022-12-01T12:03:27.381Z"
   },
   {
    "duration": 143,
    "start_time": "2022-12-01T12:03:40.665Z"
   },
   {
    "duration": 151,
    "start_time": "2022-12-01T12:05:35.120Z"
   },
   {
    "duration": 275,
    "start_time": "2022-12-01T12:06:52.994Z"
   },
   {
    "duration": 261,
    "start_time": "2022-12-01T12:07:31.831Z"
   },
   {
    "duration": 151,
    "start_time": "2022-12-01T12:08:21.389Z"
   },
   {
    "duration": 4,
    "start_time": "2022-12-01T12:41:32.818Z"
   },
   {
    "duration": 22,
    "start_time": "2022-12-01T12:42:08.523Z"
   },
   {
    "duration": 14,
    "start_time": "2022-12-01T12:42:14.647Z"
   },
   {
    "duration": 5,
    "start_time": "2022-12-01T12:42:45.055Z"
   },
   {
    "duration": 13,
    "start_time": "2022-12-01T12:42:45.994Z"
   },
   {
    "duration": 4,
    "start_time": "2022-12-01T12:43:07.522Z"
   },
   {
    "duration": 55,
    "start_time": "2022-12-01T12:43:07.528Z"
   },
   {
    "duration": 15,
    "start_time": "2022-12-01T12:43:07.584Z"
   },
   {
    "duration": 27,
    "start_time": "2022-12-01T12:43:07.601Z"
   },
   {
    "duration": 5,
    "start_time": "2022-12-01T12:43:07.630Z"
   },
   {
    "duration": 15,
    "start_time": "2022-12-01T12:43:07.636Z"
   },
   {
    "duration": 5,
    "start_time": "2022-12-01T12:43:28.775Z"
   },
   {
    "duration": 52,
    "start_time": "2022-12-01T12:43:28.781Z"
   },
   {
    "duration": 14,
    "start_time": "2022-12-01T12:43:28.834Z"
   },
   {
    "duration": 24,
    "start_time": "2022-12-01T12:43:28.850Z"
   },
   {
    "duration": 8,
    "start_time": "2022-12-01T12:43:28.876Z"
   },
   {
    "duration": 42,
    "start_time": "2022-12-01T12:43:28.885Z"
   },
   {
    "duration": 7,
    "start_time": "2022-12-01T12:43:28.929Z"
   },
   {
    "duration": 19,
    "start_time": "2022-12-01T12:43:28.937Z"
   },
   {
    "duration": 3754,
    "start_time": "2022-12-01T12:43:28.958Z"
   },
   {
    "duration": 4,
    "start_time": "2022-12-01T12:43:39.637Z"
   },
   {
    "duration": 14,
    "start_time": "2022-12-01T12:43:40.627Z"
   },
   {
    "duration": 822,
    "start_time": "2022-12-01T12:45:31.684Z"
   },
   {
    "duration": 20,
    "start_time": "2022-12-01T12:45:54.816Z"
   },
   {
    "duration": 7,
    "start_time": "2022-12-01T13:37:28.748Z"
   },
   {
    "duration": 7,
    "start_time": "2022-12-01T13:37:31.532Z"
   },
   {
    "duration": 6,
    "start_time": "2022-12-01T13:37:38.895Z"
   },
   {
    "duration": 6,
    "start_time": "2022-12-01T13:38:36.088Z"
   },
   {
    "duration": 5,
    "start_time": "2022-12-01T13:38:38.240Z"
   },
   {
    "duration": 6,
    "start_time": "2022-12-01T13:38:40.617Z"
   },
   {
    "duration": 6,
    "start_time": "2022-12-01T13:38:52.105Z"
   },
   {
    "duration": 4,
    "start_time": "2022-12-01T13:41:14.398Z"
   },
   {
    "duration": 55,
    "start_time": "2022-12-01T13:41:14.405Z"
   },
   {
    "duration": 13,
    "start_time": "2022-12-01T13:41:14.462Z"
   },
   {
    "duration": 35,
    "start_time": "2022-12-01T13:41:14.478Z"
   },
   {
    "duration": 12,
    "start_time": "2022-12-01T13:41:14.515Z"
   },
   {
    "duration": 34,
    "start_time": "2022-12-01T13:41:14.529Z"
   },
   {
    "duration": 28,
    "start_time": "2022-12-01T13:41:14.564Z"
   },
   {
    "duration": 27,
    "start_time": "2022-12-01T13:41:14.594Z"
   },
   {
    "duration": 2336,
    "start_time": "2022-12-01T13:41:14.623Z"
   },
   {
    "duration": 22,
    "start_time": "2022-12-01T13:41:16.961Z"
   },
   {
    "duration": 5,
    "start_time": "2022-12-01T13:41:16.985Z"
   },
   {
    "duration": 28,
    "start_time": "2022-12-01T13:41:16.992Z"
   },
   {
    "duration": 12,
    "start_time": "2022-12-01T13:41:17.022Z"
   },
   {
    "duration": 9,
    "start_time": "2022-12-01T13:41:17.035Z"
   },
   {
    "duration": 7,
    "start_time": "2022-12-01T13:41:17.046Z"
   },
   {
    "duration": 9,
    "start_time": "2022-12-01T13:41:17.055Z"
   },
   {
    "duration": 7,
    "start_time": "2022-12-01T13:41:19.865Z"
   },
   {
    "duration": 6,
    "start_time": "2022-12-01T13:41:22.474Z"
   },
   {
    "duration": 151,
    "start_time": "2022-12-01T13:41:25.081Z"
   },
   {
    "duration": 3,
    "start_time": "2022-12-01T13:41:28.486Z"
   },
   {
    "duration": 4,
    "start_time": "2022-12-01T13:42:32.975Z"
   },
   {
    "duration": 12,
    "start_time": "2022-12-01T13:42:44.360Z"
   },
   {
    "duration": 14,
    "start_time": "2022-12-01T13:43:03.954Z"
   },
   {
    "duration": 3,
    "start_time": "2022-12-01T13:46:11.072Z"
   },
   {
    "duration": 0,
    "start_time": "2022-12-01T13:46:12.159Z"
   },
   {
    "duration": 15,
    "start_time": "2022-12-01T13:46:13.728Z"
   },
   {
    "duration": 3,
    "start_time": "2022-12-01T13:46:22.410Z"
   },
   {
    "duration": 8,
    "start_time": "2022-12-01T13:46:27.656Z"
   },
   {
    "duration": 4,
    "start_time": "2022-12-01T13:46:28.982Z"
   },
   {
    "duration": 29,
    "start_time": "2022-12-01T13:46:30.181Z"
   },
   {
    "duration": 13,
    "start_time": "2022-12-01T13:46:31.611Z"
   },
   {
    "duration": 12,
    "start_time": "2022-12-01T13:48:13.481Z"
   },
   {
    "duration": 19,
    "start_time": "2022-12-01T13:48:17.176Z"
   },
   {
    "duration": 7,
    "start_time": "2022-12-01T13:48:47.499Z"
   },
   {
    "duration": 6,
    "start_time": "2022-12-01T13:48:48.712Z"
   },
   {
    "duration": 100,
    "start_time": "2022-12-01T13:48:51.013Z"
   },
   {
    "duration": 35,
    "start_time": "2022-12-01T13:50:13.845Z"
   },
   {
    "duration": 6,
    "start_time": "2022-12-01T13:50:15.427Z"
   },
   {
    "duration": 7,
    "start_time": "2022-12-01T13:50:17.125Z"
   },
   {
    "duration": 14,
    "start_time": "2022-12-01T13:50:43.201Z"
   },
   {
    "duration": 702,
    "start_time": "2022-12-01T13:51:04.167Z"
   },
   {
    "duration": 68,
    "start_time": "2022-12-01T13:51:06.505Z"
   },
   {
    "duration": 7,
    "start_time": "2022-12-01T13:51:07.893Z"
   },
   {
    "duration": 173,
    "start_time": "2022-12-01T13:51:09.925Z"
   },
   {
    "duration": 5,
    "start_time": "2022-12-01T13:51:56.703Z"
   },
   {
    "duration": 5,
    "start_time": "2022-12-01T13:51:58.429Z"
   },
   {
    "duration": 5,
    "start_time": "2022-12-01T13:52:21.395Z"
   },
   {
    "duration": 157,
    "start_time": "2022-12-01T13:52:36.113Z"
   },
   {
    "duration": 125,
    "start_time": "2022-12-01T13:52:56.709Z"
   },
   {
    "duration": 266,
    "start_time": "2022-12-01T13:53:08.910Z"
   },
   {
    "duration": 4,
    "start_time": "2022-12-01T13:53:31.585Z"
   },
   {
    "duration": 11,
    "start_time": "2022-12-01T13:53:32.775Z"
   },
   {
    "duration": 102,
    "start_time": "2022-12-01T13:53:58.479Z"
   },
   {
    "duration": 4,
    "start_time": "2022-12-01T13:54:14.150Z"
   },
   {
    "duration": 11,
    "start_time": "2022-12-01T13:54:15.989Z"
   },
   {
    "duration": 110,
    "start_time": "2022-12-01T13:54:38.941Z"
   },
   {
    "duration": 5,
    "start_time": "2022-12-01T13:55:08.776Z"
   },
   {
    "duration": 6,
    "start_time": "2022-12-01T13:55:10.947Z"
   },
   {
    "duration": 4,
    "start_time": "2022-12-01T13:56:12.701Z"
   },
   {
    "duration": 6,
    "start_time": "2022-12-01T13:56:14.579Z"
   },
   {
    "duration": 6,
    "start_time": "2022-12-01T13:56:22.487Z"
   },
   {
    "duration": 5,
    "start_time": "2022-12-01T13:56:28.892Z"
   },
   {
    "duration": 6,
    "start_time": "2022-12-01T13:56:30.551Z"
   },
   {
    "duration": 25,
    "start_time": "2022-12-01T13:56:35.265Z"
   },
   {
    "duration": 8,
    "start_time": "2022-12-01T13:56:36.720Z"
   },
   {
    "duration": 7,
    "start_time": "2022-12-01T13:56:37.797Z"
   },
   {
    "duration": 24,
    "start_time": "2022-12-01T13:56:41.989Z"
   },
   {
    "duration": 4,
    "start_time": "2022-12-01T13:58:43.303Z"
   },
   {
    "duration": 26,
    "start_time": "2022-12-01T13:59:35.361Z"
   },
   {
    "duration": 15,
    "start_time": "2022-12-01T13:59:36.579Z"
   },
   {
    "duration": 7,
    "start_time": "2022-12-01T13:59:38.403Z"
   },
   {
    "duration": 88,
    "start_time": "2022-12-01T13:59:39.924Z"
   },
   {
    "duration": 12,
    "start_time": "2022-12-01T13:59:45.959Z"
   },
   {
    "duration": 7,
    "start_time": "2022-12-01T13:59:47.995Z"
   },
   {
    "duration": 7,
    "start_time": "2022-12-01T13:59:49.413Z"
   },
   {
    "duration": 18,
    "start_time": "2022-12-01T13:59:51.263Z"
   },
   {
    "duration": 19,
    "start_time": "2022-12-01T14:00:19.863Z"
   },
   {
    "duration": 6,
    "start_time": "2022-12-01T14:00:21.916Z"
   },
   {
    "duration": 6,
    "start_time": "2022-12-01T14:00:23.069Z"
   },
   {
    "duration": 103,
    "start_time": "2022-12-01T14:00:26.010Z"
   },
   {
    "duration": 21,
    "start_time": "2022-12-01T14:00:41.387Z"
   },
   {
    "duration": 9,
    "start_time": "2022-12-01T14:00:49.967Z"
   },
   {
    "duration": 8,
    "start_time": "2022-12-01T14:00:50.967Z"
   },
   {
    "duration": 63,
    "start_time": "2022-12-01T14:00:52.052Z"
   },
   {
    "duration": 89,
    "start_time": "2022-12-01T14:06:38.892Z"
   },
   {
    "duration": 39,
    "start_time": "2022-12-01T14:07:33.326Z"
   },
   {
    "duration": 6,
    "start_time": "2022-12-01T14:07:35.620Z"
   },
   {
    "duration": 7,
    "start_time": "2022-12-01T14:07:37.078Z"
   },
   {
    "duration": 18,
    "start_time": "2022-12-01T14:07:43.332Z"
   },
   {
    "duration": 18,
    "start_time": "2022-12-01T14:07:45.971Z"
   },
   {
    "duration": 5,
    "start_time": "2022-12-01T14:07:47.417Z"
   },
   {
    "duration": 6,
    "start_time": "2022-12-01T14:07:48.938Z"
   },
   {
    "duration": 12,
    "start_time": "2022-12-01T14:07:51.141Z"
   },
   {
    "duration": 35,
    "start_time": "2022-12-01T14:07:53.733Z"
   },
   {
    "duration": 6,
    "start_time": "2022-12-01T14:07:54.791Z"
   },
   {
    "duration": 8,
    "start_time": "2022-12-01T14:07:56.260Z"
   },
   {
    "duration": 14,
    "start_time": "2022-12-01T14:07:58.636Z"
   },
   {
    "duration": 989,
    "start_time": "2022-12-01T14:13:18.133Z"
   },
   {
    "duration": 60,
    "start_time": "2022-12-01T14:13:20.959Z"
   },
   {
    "duration": 7,
    "start_time": "2022-12-01T14:13:22.296Z"
   },
   {
    "duration": 238,
    "start_time": "2022-12-01T14:13:24.837Z"
   },
   {
    "duration": 340,
    "start_time": "2022-12-01T14:13:26.963Z"
   },
   {
    "duration": 57,
    "start_time": "2022-12-01T14:13:28.299Z"
   },
   {
    "duration": 9,
    "start_time": "2022-12-01T14:13:30.020Z"
   },
   {
    "duration": 115,
    "start_time": "2022-12-01T14:13:33.125Z"
   },
   {
    "duration": 758,
    "start_time": "2022-12-01T14:13:34.968Z"
   },
   {
    "duration": 59,
    "start_time": "2022-12-01T14:13:37.707Z"
   },
   {
    "duration": 7,
    "start_time": "2022-12-01T14:13:39.155Z"
   },
   {
    "duration": 187,
    "start_time": "2022-12-01T14:13:41.287Z"
   },
   {
    "duration": 113338,
    "start_time": "2022-12-01T14:15:57.091Z"
   },
   {
    "duration": 51,
    "start_time": "2022-12-01T14:37:59.651Z"
   },
   {
    "duration": 1678,
    "start_time": "2022-12-01T14:38:06.587Z"
   },
   {
    "duration": 90,
    "start_time": "2022-12-01T14:38:08.268Z"
   },
   {
    "duration": 17,
    "start_time": "2022-12-01T14:38:08.360Z"
   },
   {
    "duration": 14,
    "start_time": "2022-12-01T14:38:08.379Z"
   },
   {
    "duration": 5,
    "start_time": "2022-12-01T14:38:08.396Z"
   },
   {
    "duration": 34,
    "start_time": "2022-12-01T14:38:08.403Z"
   },
   {
    "duration": 4,
    "start_time": "2022-12-01T14:38:08.439Z"
   },
   {
    "duration": 15,
    "start_time": "2022-12-01T14:38:08.445Z"
   },
   {
    "duration": 2263,
    "start_time": "2022-12-01T14:38:08.461Z"
   },
   {
    "duration": 20,
    "start_time": "2022-12-01T14:38:10.727Z"
   },
   {
    "duration": 4,
    "start_time": "2022-12-01T14:38:10.749Z"
   },
   {
    "duration": 19,
    "start_time": "2022-12-01T14:38:10.755Z"
   },
   {
    "duration": 10,
    "start_time": "2022-12-01T14:38:10.776Z"
   },
   {
    "duration": 6,
    "start_time": "2022-12-01T14:38:10.788Z"
   },
   {
    "duration": 20,
    "start_time": "2022-12-01T14:38:10.796Z"
   },
   {
    "duration": 6,
    "start_time": "2022-12-01T14:38:10.818Z"
   },
   {
    "duration": 8,
    "start_time": "2022-12-01T14:38:10.826Z"
   },
   {
    "duration": 11,
    "start_time": "2022-12-01T14:38:10.835Z"
   },
   {
    "duration": 145,
    "start_time": "2022-12-01T14:38:10.847Z"
   },
   {
    "duration": 3,
    "start_time": "2022-12-01T14:38:10.994Z"
   },
   {
    "duration": 9,
    "start_time": "2022-12-01T14:38:11.013Z"
   },
   {
    "duration": 4,
    "start_time": "2022-12-01T14:38:11.023Z"
   },
   {
    "duration": 26,
    "start_time": "2022-12-01T14:38:11.029Z"
   },
   {
    "duration": 11,
    "start_time": "2022-12-01T14:38:11.057Z"
   },
   {
    "duration": 42,
    "start_time": "2022-12-01T14:38:11.070Z"
   },
   {
    "duration": 9,
    "start_time": "2022-12-01T14:38:11.114Z"
   },
   {
    "duration": 92,
    "start_time": "2022-12-01T14:38:11.125Z"
   },
   {
    "duration": 107,
    "start_time": "2022-12-01T14:38:11.222Z"
   },
   {
    "duration": 217,
    "start_time": "2022-12-01T14:38:11.331Z"
   },
   {
    "duration": 5,
    "start_time": "2022-12-01T14:38:11.550Z"
   },
   {
    "duration": 12,
    "start_time": "2022-12-01T14:38:11.556Z"
   },
   {
    "duration": 13,
    "start_time": "2022-12-01T14:38:11.570Z"
   },
   {
    "duration": 728,
    "start_time": "2022-12-01T14:38:11.585Z"
   },
   {
    "duration": 56,
    "start_time": "2022-12-01T14:38:12.315Z"
   },
   {
    "duration": 6,
    "start_time": "2022-12-01T14:38:12.373Z"
   },
   {
    "duration": 192,
    "start_time": "2022-12-01T14:38:12.381Z"
   },
   {
    "duration": 4,
    "start_time": "2022-12-01T14:38:12.575Z"
   },
   {
    "duration": 9,
    "start_time": "2022-12-01T14:38:12.581Z"
   },
   {
    "duration": 126,
    "start_time": "2022-12-01T14:38:12.591Z"
   },
   {
    "duration": 4,
    "start_time": "2022-12-01T14:38:12.719Z"
   },
   {
    "duration": 15,
    "start_time": "2022-12-01T14:38:12.724Z"
   },
   {
    "duration": 115,
    "start_time": "2022-12-01T14:38:12.741Z"
   },
   {
    "duration": 4,
    "start_time": "2022-12-01T14:38:12.858Z"
   },
   {
    "duration": 14,
    "start_time": "2022-12-01T14:38:12.864Z"
   },
   {
    "duration": 117,
    "start_time": "2022-12-01T14:38:12.880Z"
   },
   {
    "duration": 14,
    "start_time": "2022-12-01T14:38:12.998Z"
   },
   {
    "duration": 6,
    "start_time": "2022-12-01T14:38:13.014Z"
   },
   {
    "duration": 6,
    "start_time": "2022-12-01T14:38:13.021Z"
   },
   {
    "duration": 10,
    "start_time": "2022-12-01T14:38:13.028Z"
   },
   {
    "duration": 26,
    "start_time": "2022-12-01T14:38:13.040Z"
   },
   {
    "duration": 46,
    "start_time": "2022-12-01T14:38:13.067Z"
   },
   {
    "duration": 101,
    "start_time": "2022-12-01T14:38:13.115Z"
   },
   {
    "duration": 99,
    "start_time": "2022-12-01T14:38:13.218Z"
   },
   {
    "duration": 103,
    "start_time": "2022-12-01T14:38:13.319Z"
   },
   {
    "duration": 5,
    "start_time": "2022-12-01T14:38:13.424Z"
   },
   {
    "duration": 187,
    "start_time": "2022-12-01T14:38:13.431Z"
   },
   {
    "duration": 91,
    "start_time": "2022-12-01T14:38:13.620Z"
   },
   {
    "duration": 114,
    "start_time": "2022-12-01T14:38:13.714Z"
   },
   {
    "duration": 8,
    "start_time": "2022-12-01T14:38:13.830Z"
   },
   {
    "duration": 177,
    "start_time": "2022-12-01T14:38:13.840Z"
   },
   {
    "duration": 36,
    "start_time": "2022-12-01T14:38:14.018Z"
   },
   {
    "duration": 125,
    "start_time": "2022-12-01T14:38:14.114Z"
   },
   {
    "duration": 5,
    "start_time": "2022-12-01T14:38:14.241Z"
   },
   {
    "duration": 14,
    "start_time": "2022-12-01T14:38:14.247Z"
   },
   {
    "duration": 14,
    "start_time": "2022-12-01T14:38:14.263Z"
   },
   {
    "duration": 38,
    "start_time": "2022-12-01T14:38:14.278Z"
   },
   {
    "duration": 5,
    "start_time": "2022-12-01T14:38:14.318Z"
   },
   {
    "duration": 9,
    "start_time": "2022-12-01T14:38:14.324Z"
   },
   {
    "duration": 13,
    "start_time": "2022-12-01T14:38:14.335Z"
   },
   {
    "duration": 62,
    "start_time": "2022-12-01T14:38:14.350Z"
   },
   {
    "duration": 6,
    "start_time": "2022-12-01T14:38:14.414Z"
   },
   {
    "duration": 9,
    "start_time": "2022-12-01T14:38:14.422Z"
   },
   {
    "duration": 14,
    "start_time": "2022-12-01T14:38:14.433Z"
   },
   {
    "duration": 997,
    "start_time": "2022-12-01T14:38:14.449Z"
   },
   {
    "duration": 68,
    "start_time": "2022-12-01T14:38:15.448Z"
   },
   {
    "duration": 6,
    "start_time": "2022-12-01T14:38:15.518Z"
   },
   {
    "duration": 251,
    "start_time": "2022-12-01T14:38:15.525Z"
   },
   {
    "duration": 355,
    "start_time": "2022-12-01T14:38:15.778Z"
   },
   {
    "duration": 56,
    "start_time": "2022-12-01T14:38:16.134Z"
   },
   {
    "duration": 21,
    "start_time": "2022-12-01T14:38:16.192Z"
   },
   {
    "duration": 130,
    "start_time": "2022-12-01T14:38:16.216Z"
   },
   {
    "duration": 743,
    "start_time": "2022-12-01T14:38:16.353Z"
   },
   {
    "duration": 64,
    "start_time": "2022-12-01T14:38:17.097Z"
   },
   {
    "duration": 5,
    "start_time": "2022-12-01T14:38:17.163Z"
   },
   {
    "duration": 185,
    "start_time": "2022-12-01T14:38:17.170Z"
   },
   {
    "duration": 113319,
    "start_time": "2022-12-01T14:38:21.172Z"
   },
   {
    "duration": 11,
    "start_time": "2022-12-01T14:44:10.284Z"
   },
   {
    "duration": 3,
    "start_time": "2022-12-01T14:44:37.860Z"
   },
   {
    "duration": 1445,
    "start_time": "2022-12-01T14:44:39.073Z"
   },
   {
    "duration": 90,
    "start_time": "2022-12-01T14:44:42.151Z"
   },
   {
    "duration": 6,
    "start_time": "2022-12-01T14:44:43.975Z"
   },
   {
    "duration": 98,
    "start_time": "2022-12-01T14:44:48.798Z"
   },
   {
    "duration": 90,
    "start_time": "2022-12-01T14:45:08.581Z"
   },
   {
    "duration": 95,
    "start_time": "2022-12-01T14:45:10.100Z"
   },
   {
    "duration": 3,
    "start_time": "2022-12-01T14:45:11.384Z"
   },
   {
    "duration": 155,
    "start_time": "2022-12-01T14:45:13.164Z"
   },
   {
    "duration": 4,
    "start_time": "2022-12-01T14:46:39.071Z"
   },
   {
    "duration": 57,
    "start_time": "2022-12-01T14:46:39.077Z"
   },
   {
    "duration": 14,
    "start_time": "2022-12-01T14:46:39.136Z"
   },
   {
    "duration": 14,
    "start_time": "2022-12-01T14:46:39.152Z"
   },
   {
    "duration": 5,
    "start_time": "2022-12-01T14:46:39.168Z"
   },
   {
    "duration": 40,
    "start_time": "2022-12-01T14:46:39.174Z"
   },
   {
    "duration": 3,
    "start_time": "2022-12-01T14:46:39.216Z"
   },
   {
    "duration": 15,
    "start_time": "2022-12-01T14:46:39.221Z"
   },
   {
    "duration": 2336,
    "start_time": "2022-12-01T14:46:39.237Z"
   },
   {
    "duration": 19,
    "start_time": "2022-12-01T14:46:41.575Z"
   },
   {
    "duration": 19,
    "start_time": "2022-12-01T14:46:41.597Z"
   },
   {
    "duration": 18,
    "start_time": "2022-12-01T14:46:41.617Z"
   },
   {
    "duration": 11,
    "start_time": "2022-12-01T14:46:41.637Z"
   },
   {
    "duration": 6,
    "start_time": "2022-12-01T14:46:41.650Z"
   },
   {
    "duration": 7,
    "start_time": "2022-12-01T14:46:41.657Z"
   },
   {
    "duration": 6,
    "start_time": "2022-12-01T14:46:41.666Z"
   },
   {
    "duration": 41,
    "start_time": "2022-12-01T14:46:41.674Z"
   },
   {
    "duration": 7,
    "start_time": "2022-12-01T14:46:41.717Z"
   },
   {
    "duration": 141,
    "start_time": "2022-12-01T14:46:41.726Z"
   },
   {
    "duration": 2,
    "start_time": "2022-12-01T14:46:41.870Z"
   },
   {
    "duration": 20,
    "start_time": "2022-12-01T14:46:41.874Z"
   },
   {
    "duration": 7,
    "start_time": "2022-12-01T14:46:41.896Z"
   },
   {
    "duration": 28,
    "start_time": "2022-12-01T14:46:41.906Z"
   },
   {
    "duration": 14,
    "start_time": "2022-12-01T14:46:41.936Z"
   },
   {
    "duration": 18,
    "start_time": "2022-12-01T14:46:41.952Z"
   },
   {
    "duration": 43,
    "start_time": "2022-12-01T14:46:41.972Z"
   },
   {
    "duration": 94,
    "start_time": "2022-12-01T14:46:42.018Z"
   },
   {
    "duration": 14,
    "start_time": "2022-12-01T14:46:42.114Z"
   },
   {
    "duration": 118,
    "start_time": "2022-12-01T14:46:42.211Z"
   },
   {
    "duration": 5,
    "start_time": "2022-12-01T14:46:42.330Z"
   },
   {
    "duration": 13,
    "start_time": "2022-12-01T14:46:42.337Z"
   },
   {
    "duration": 20,
    "start_time": "2022-12-01T14:46:42.352Z"
   },
   {
    "duration": 672,
    "start_time": "2022-12-01T14:46:42.374Z"
   },
   {
    "duration": 68,
    "start_time": "2022-12-01T14:46:43.048Z"
   },
   {
    "duration": 7,
    "start_time": "2022-12-01T14:46:43.118Z"
   },
   {
    "duration": 186,
    "start_time": "2022-12-01T14:46:43.127Z"
   },
   {
    "duration": 4,
    "start_time": "2022-12-01T14:46:43.314Z"
   },
   {
    "duration": 8,
    "start_time": "2022-12-01T14:46:43.320Z"
   },
   {
    "duration": 126,
    "start_time": "2022-12-01T14:46:43.330Z"
   },
   {
    "duration": 4,
    "start_time": "2022-12-01T14:46:43.458Z"
   },
   {
    "duration": 16,
    "start_time": "2022-12-01T14:46:43.464Z"
   },
   {
    "duration": 113,
    "start_time": "2022-12-01T14:46:43.482Z"
   },
   {
    "duration": 4,
    "start_time": "2022-12-01T14:46:43.597Z"
   },
   {
    "duration": 11,
    "start_time": "2022-12-01T14:46:43.612Z"
   },
   {
    "duration": 116,
    "start_time": "2022-12-01T14:46:43.625Z"
   },
   {
    "duration": 5,
    "start_time": "2022-12-01T14:46:43.743Z"
   },
   {
    "duration": 8,
    "start_time": "2022-12-01T14:46:43.749Z"
   },
   {
    "duration": 4,
    "start_time": "2022-12-01T14:46:43.759Z"
   },
   {
    "duration": 6,
    "start_time": "2022-12-01T14:46:43.765Z"
   },
   {
    "duration": 47,
    "start_time": "2022-12-01T14:46:43.773Z"
   },
   {
    "duration": 14,
    "start_time": "2022-12-01T14:46:43.822Z"
   },
   {
    "duration": 10,
    "start_time": "2022-12-01T14:46:43.913Z"
   },
   {
    "duration": 189,
    "start_time": "2022-12-01T14:46:43.924Z"
   },
   {
    "duration": 109,
    "start_time": "2022-12-01T14:46:44.115Z"
   },
   {
    "duration": 6,
    "start_time": "2022-12-01T14:46:44.225Z"
   },
   {
    "duration": 186,
    "start_time": "2022-12-01T14:46:44.233Z"
   },
   {
    "duration": 94,
    "start_time": "2022-12-01T14:46:44.421Z"
   },
   {
    "duration": 112,
    "start_time": "2022-12-01T14:46:44.518Z"
   },
   {
    "duration": 6,
    "start_time": "2022-12-01T14:46:44.632Z"
   },
   {
    "duration": 72,
    "start_time": "2022-12-01T14:46:44.640Z"
   },
   {
    "duration": 106,
    "start_time": "2022-12-01T14:46:44.714Z"
   },
   {
    "duration": 201,
    "start_time": "2022-12-01T14:46:44.822Z"
   },
   {
    "duration": 6,
    "start_time": "2022-12-01T14:46:45.025Z"
   },
   {
    "duration": 7,
    "start_time": "2022-12-01T14:46:45.032Z"
   },
   {
    "duration": 14,
    "start_time": "2022-12-01T14:46:45.041Z"
   },
   {
    "duration": 18,
    "start_time": "2022-12-01T14:46:45.056Z"
   },
   {
    "duration": 5,
    "start_time": "2022-12-01T14:46:45.075Z"
   },
   {
    "duration": 10,
    "start_time": "2022-12-01T14:46:45.082Z"
   },
   {
    "duration": 23,
    "start_time": "2022-12-01T14:46:45.093Z"
   },
   {
    "duration": 35,
    "start_time": "2022-12-01T14:46:45.118Z"
   },
   {
    "duration": 5,
    "start_time": "2022-12-01T14:46:45.155Z"
   },
   {
    "duration": 11,
    "start_time": "2022-12-01T14:46:45.162Z"
   },
   {
    "duration": 16,
    "start_time": "2022-12-01T14:46:45.174Z"
   },
   {
    "duration": 1173,
    "start_time": "2022-12-01T14:46:45.192Z"
   },
   {
    "duration": 71,
    "start_time": "2022-12-01T14:46:46.367Z"
   },
   {
    "duration": 7,
    "start_time": "2022-12-01T14:46:46.441Z"
   },
   {
    "duration": 269,
    "start_time": "2022-12-01T14:46:46.450Z"
   },
   {
    "duration": 360,
    "start_time": "2022-12-01T14:46:46.722Z"
   },
   {
    "duration": 58,
    "start_time": "2022-12-01T14:46:47.084Z"
   },
   {
    "duration": 6,
    "start_time": "2022-12-01T14:46:47.143Z"
   },
   {
    "duration": 128,
    "start_time": "2022-12-01T14:46:47.151Z"
   },
   {
    "duration": 725,
    "start_time": "2022-12-01T14:46:47.281Z"
   },
   {
    "duration": 56,
    "start_time": "2022-12-01T14:46:48.013Z"
   },
   {
    "duration": 6,
    "start_time": "2022-12-01T14:46:48.071Z"
   },
   {
    "duration": 198,
    "start_time": "2022-12-01T14:46:48.079Z"
   },
   {
    "duration": 116198,
    "start_time": "2022-12-01T14:46:48.279Z"
   },
   {
    "duration": 10,
    "start_time": "2022-12-01T14:48:44.479Z"
   },
   {
    "duration": 21,
    "start_time": "2022-12-01T14:48:44.491Z"
   },
   {
    "duration": 1718,
    "start_time": "2022-12-01T14:48:44.514Z"
   },
   {
    "duration": 93,
    "start_time": "2022-12-01T14:48:46.233Z"
   },
   {
    "duration": 6,
    "start_time": "2022-12-01T14:48:46.328Z"
   },
   {
    "duration": 107,
    "start_time": "2022-12-01T14:48:46.335Z"
   },
   {
    "duration": 106,
    "start_time": "2022-12-01T14:48:46.443Z"
   },
   {
    "duration": 114,
    "start_time": "2022-12-01T14:48:46.551Z"
   },
   {
    "duration": 4,
    "start_time": "2022-12-01T14:48:46.667Z"
   },
   {
    "duration": 191,
    "start_time": "2022-12-01T14:48:46.672Z"
   },
   {
    "duration": 1692,
    "start_time": "2022-12-02T04:42:39.818Z"
   },
   {
    "duration": 105,
    "start_time": "2022-12-02T04:42:41.512Z"
   },
   {
    "duration": 14,
    "start_time": "2022-12-02T04:42:41.619Z"
   },
   {
    "duration": 13,
    "start_time": "2022-12-02T04:42:41.634Z"
   },
   {
    "duration": 5,
    "start_time": "2022-12-02T04:42:41.649Z"
   },
   {
    "duration": 16,
    "start_time": "2022-12-02T04:42:41.655Z"
   },
   {
    "duration": 4,
    "start_time": "2022-12-02T04:42:41.673Z"
   },
   {
    "duration": 24,
    "start_time": "2022-12-02T04:42:41.679Z"
   },
   {
    "duration": 2001,
    "start_time": "2022-12-02T04:42:41.705Z"
   },
   {
    "duration": 17,
    "start_time": "2022-12-02T04:42:43.709Z"
   },
   {
    "duration": 4,
    "start_time": "2022-12-02T04:42:43.727Z"
   },
   {
    "duration": 23,
    "start_time": "2022-12-02T04:42:43.732Z"
   },
   {
    "duration": 10,
    "start_time": "2022-12-02T04:42:43.757Z"
   },
   {
    "duration": 35,
    "start_time": "2022-12-02T04:42:43.769Z"
   },
   {
    "duration": 25,
    "start_time": "2022-12-02T04:42:43.805Z"
   },
   {
    "duration": 11,
    "start_time": "2022-12-02T04:42:43.832Z"
   },
   {
    "duration": 20,
    "start_time": "2022-12-02T04:42:43.844Z"
   },
   {
    "duration": 11,
    "start_time": "2022-12-02T04:42:43.866Z"
   },
   {
    "duration": 121,
    "start_time": "2022-12-02T04:42:43.878Z"
   },
   {
    "duration": 2,
    "start_time": "2022-12-02T04:42:44.001Z"
   },
   {
    "duration": 312,
    "start_time": "2022-12-02T04:42:44.005Z"
   },
   {
    "duration": 3,
    "start_time": "2022-12-02T04:42:44.318Z"
   },
   {
    "duration": 25,
    "start_time": "2022-12-02T04:42:44.323Z"
   },
   {
    "duration": 10,
    "start_time": "2022-12-02T04:42:44.350Z"
   },
   {
    "duration": 28,
    "start_time": "2022-12-02T04:42:44.362Z"
   },
   {
    "duration": 6,
    "start_time": "2022-12-02T04:42:44.392Z"
   },
   {
    "duration": 207,
    "start_time": "2022-12-02T04:42:44.400Z"
   },
   {
    "duration": 17,
    "start_time": "2022-12-02T04:42:44.613Z"
   },
   {
    "duration": 213,
    "start_time": "2022-12-02T04:42:44.631Z"
   },
   {
    "duration": 4,
    "start_time": "2022-12-02T04:42:44.846Z"
   },
   {
    "duration": 22,
    "start_time": "2022-12-02T04:42:44.852Z"
   },
   {
    "duration": 38,
    "start_time": "2022-12-02T04:42:44.876Z"
   },
   {
    "duration": 658,
    "start_time": "2022-12-02T04:42:44.917Z"
   },
   {
    "duration": 59,
    "start_time": "2022-12-02T04:42:45.577Z"
   },
   {
    "duration": 5,
    "start_time": "2022-12-02T04:42:45.639Z"
   },
   {
    "duration": 160,
    "start_time": "2022-12-02T04:42:45.646Z"
   },
   {
    "duration": 4,
    "start_time": "2022-12-02T04:42:45.808Z"
   },
   {
    "duration": 277,
    "start_time": "2022-12-02T04:42:45.813Z"
   },
   {
    "duration": 99,
    "start_time": "2022-12-02T04:42:46.092Z"
   },
   {
    "duration": 5,
    "start_time": "2022-12-02T04:42:46.193Z"
   },
   {
    "duration": 17,
    "start_time": "2022-12-02T04:42:46.199Z"
   },
   {
    "duration": 92,
    "start_time": "2022-12-02T04:42:46.217Z"
   },
   {
    "duration": 4,
    "start_time": "2022-12-02T04:42:46.311Z"
   },
   {
    "duration": 14,
    "start_time": "2022-12-02T04:42:46.317Z"
   },
   {
    "duration": 116,
    "start_time": "2022-12-02T04:42:46.332Z"
   },
   {
    "duration": 5,
    "start_time": "2022-12-02T04:42:46.450Z"
   },
   {
    "duration": 7,
    "start_time": "2022-12-02T04:42:46.457Z"
   },
   {
    "duration": 7,
    "start_time": "2022-12-02T04:42:46.466Z"
   },
   {
    "duration": 9,
    "start_time": "2022-12-02T04:42:46.474Z"
   },
   {
    "duration": 30,
    "start_time": "2022-12-02T04:42:46.498Z"
   },
   {
    "duration": 6,
    "start_time": "2022-12-02T04:42:46.530Z"
   },
   {
    "duration": 109,
    "start_time": "2022-12-02T04:42:46.597Z"
   },
   {
    "duration": 92,
    "start_time": "2022-12-02T04:42:46.707Z"
   },
   {
    "duration": 110,
    "start_time": "2022-12-02T04:42:46.800Z"
   },
   {
    "duration": 6,
    "start_time": "2022-12-02T04:42:46.911Z"
   },
   {
    "duration": 85,
    "start_time": "2022-12-02T04:42:46.919Z"
   },
   {
    "duration": 123,
    "start_time": "2022-12-02T04:42:47.007Z"
   },
   {
    "duration": 113,
    "start_time": "2022-12-02T04:42:47.198Z"
   },
   {
    "duration": 6,
    "start_time": "2022-12-02T04:42:47.312Z"
   },
   {
    "duration": 185,
    "start_time": "2022-12-02T04:42:47.320Z"
   },
   {
    "duration": 15,
    "start_time": "2022-12-02T04:42:47.506Z"
   },
   {
    "duration": 123,
    "start_time": "2022-12-02T04:42:47.599Z"
   },
   {
    "duration": 4,
    "start_time": "2022-12-02T04:42:47.724Z"
   },
   {
    "duration": 11,
    "start_time": "2022-12-02T04:42:47.729Z"
   },
   {
    "duration": 12,
    "start_time": "2022-12-02T04:42:47.741Z"
   },
   {
    "duration": 14,
    "start_time": "2022-12-02T04:42:47.754Z"
   },
   {
    "duration": 27,
    "start_time": "2022-12-02T04:42:47.770Z"
   },
   {
    "duration": 6,
    "start_time": "2022-12-02T04:42:47.798Z"
   },
   {
    "duration": 11,
    "start_time": "2022-12-02T04:42:47.805Z"
   },
   {
    "duration": 30,
    "start_time": "2022-12-02T04:42:47.817Z"
   },
   {
    "duration": 4,
    "start_time": "2022-12-02T04:42:47.848Z"
   },
   {
    "duration": 13,
    "start_time": "2022-12-02T04:42:47.854Z"
   },
   {
    "duration": 38,
    "start_time": "2022-12-02T04:42:47.868Z"
   },
   {
    "duration": 838,
    "start_time": "2022-12-02T04:42:47.908Z"
   },
   {
    "duration": 54,
    "start_time": "2022-12-02T04:42:48.747Z"
   },
   {
    "duration": 6,
    "start_time": "2022-12-02T04:42:48.803Z"
   },
   {
    "duration": 214,
    "start_time": "2022-12-02T04:42:48.810Z"
   },
   {
    "duration": 304,
    "start_time": "2022-12-02T04:42:49.025Z"
   },
   {
    "duration": 42,
    "start_time": "2022-12-02T04:42:49.331Z"
   },
   {
    "duration": 5,
    "start_time": "2022-12-02T04:42:49.374Z"
   },
   {
    "duration": 103,
    "start_time": "2022-12-02T04:42:49.380Z"
   },
   {
    "duration": 611,
    "start_time": "2022-12-02T04:42:49.497Z"
   },
   {
    "duration": 51,
    "start_time": "2022-12-02T04:42:50.110Z"
   },
   {
    "duration": 5,
    "start_time": "2022-12-02T04:42:50.163Z"
   },
   {
    "duration": 157,
    "start_time": "2022-12-02T04:42:50.169Z"
   },
   {
    "duration": 95385,
    "start_time": "2022-12-02T04:42:50.328Z"
   },
   {
    "duration": 9,
    "start_time": "2022-12-02T04:44:25.715Z"
   },
   {
    "duration": 4,
    "start_time": "2022-12-02T04:44:25.726Z"
   },
   {
    "duration": 1249,
    "start_time": "2022-12-02T04:44:25.731Z"
   },
   {
    "duration": 79,
    "start_time": "2022-12-02T04:44:26.981Z"
   },
   {
    "duration": 5,
    "start_time": "2022-12-02T04:44:27.061Z"
   },
   {
    "duration": 78,
    "start_time": "2022-12-02T04:44:27.068Z"
   },
   {
    "duration": 83,
    "start_time": "2022-12-02T04:44:27.147Z"
   },
   {
    "duration": 73,
    "start_time": "2022-12-02T04:44:27.231Z"
   },
   {
    "duration": 2,
    "start_time": "2022-12-02T04:44:27.306Z"
   },
   {
    "duration": 128,
    "start_time": "2022-12-02T04:44:27.310Z"
   },
   {
    "duration": 53,
    "start_time": "2022-12-02T06:01:06.475Z"
   },
   {
    "duration": 47,
    "start_time": "2022-12-02T06:20:22.117Z"
   },
   {
    "duration": 1535,
    "start_time": "2022-12-02T06:20:25.916Z"
   },
   {
    "duration": 102,
    "start_time": "2022-12-02T06:20:27.453Z"
   },
   {
    "duration": 17,
    "start_time": "2022-12-02T06:20:27.556Z"
   },
   {
    "duration": 13,
    "start_time": "2022-12-02T06:20:27.574Z"
   },
   {
    "duration": 4,
    "start_time": "2022-12-02T06:20:27.589Z"
   },
   {
    "duration": 30,
    "start_time": "2022-12-02T06:20:27.595Z"
   },
   {
    "duration": 3,
    "start_time": "2022-12-02T06:20:27.626Z"
   },
   {
    "duration": 14,
    "start_time": "2022-12-02T06:20:27.631Z"
   },
   {
    "duration": 2161,
    "start_time": "2022-12-02T06:20:27.647Z"
   },
   {
    "duration": 17,
    "start_time": "2022-12-02T06:20:42.065Z"
   },
   {
    "duration": 1589,
    "start_time": "2022-12-02T22:26:09.645Z"
   },
   {
    "duration": 96,
    "start_time": "2022-12-02T22:26:11.236Z"
   },
   {
    "duration": 18,
    "start_time": "2022-12-02T22:26:11.334Z"
   },
   {
    "duration": 14,
    "start_time": "2022-12-02T22:26:11.354Z"
   },
   {
    "duration": 5,
    "start_time": "2022-12-02T22:26:11.371Z"
   },
   {
    "duration": 34,
    "start_time": "2022-12-02T22:26:11.378Z"
   },
   {
    "duration": 4,
    "start_time": "2022-12-02T22:26:11.414Z"
   },
   {
    "duration": 18,
    "start_time": "2022-12-02T22:26:11.420Z"
   },
   {
    "duration": 2408,
    "start_time": "2022-12-02T22:26:11.440Z"
   },
   {
    "duration": 17,
    "start_time": "2022-12-02T22:26:13.851Z"
   },
   {
    "duration": 4,
    "start_time": "2022-12-02T22:26:13.870Z"
   },
   {
    "duration": 17,
    "start_time": "2022-12-02T22:26:13.876Z"
   },
   {
    "duration": 12,
    "start_time": "2022-12-02T22:26:13.895Z"
   },
   {
    "duration": 6,
    "start_time": "2022-12-02T22:26:13.909Z"
   },
   {
    "duration": 11,
    "start_time": "2022-12-02T22:26:13.917Z"
   },
   {
    "duration": 6,
    "start_time": "2022-12-02T22:26:13.930Z"
   },
   {
    "duration": 8,
    "start_time": "2022-12-02T22:26:13.937Z"
   },
   {
    "duration": 8,
    "start_time": "2022-12-02T22:26:13.947Z"
   },
   {
    "duration": 163,
    "start_time": "2022-12-02T22:26:13.957Z"
   },
   {
    "duration": 3,
    "start_time": "2022-12-02T22:26:14.123Z"
   },
   {
    "duration": 12,
    "start_time": "2022-12-02T22:26:14.128Z"
   },
   {
    "duration": 4,
    "start_time": "2022-12-02T22:26:14.141Z"
   },
   {
    "duration": 34,
    "start_time": "2022-12-02T22:26:14.147Z"
   },
   {
    "duration": 44,
    "start_time": "2022-12-02T22:26:14.184Z"
   },
   {
    "duration": 25,
    "start_time": "2022-12-02T22:26:14.229Z"
   },
   {
    "duration": 57,
    "start_time": "2022-12-02T22:26:14.256Z"
   },
   {
    "duration": 7,
    "start_time": "2022-12-02T22:26:14.316Z"
   },
   {
    "duration": 103,
    "start_time": "2022-12-02T22:26:14.414Z"
   },
   {
    "duration": 131,
    "start_time": "2022-12-02T22:26:14.519Z"
   },
   {
    "duration": 5,
    "start_time": "2022-12-02T22:26:14.652Z"
   },
   {
    "duration": 8,
    "start_time": "2022-12-02T22:26:14.659Z"
   },
   {
    "duration": 15,
    "start_time": "2022-12-02T22:26:14.668Z"
   },
   {
    "duration": 719,
    "start_time": "2022-12-02T22:26:14.684Z"
   },
   {
    "duration": 58,
    "start_time": "2022-12-02T22:26:15.405Z"
   },
   {
    "duration": 6,
    "start_time": "2022-12-02T22:26:15.464Z"
   },
   {
    "duration": 197,
    "start_time": "2022-12-02T22:26:15.472Z"
   },
   {
    "duration": 5,
    "start_time": "2022-12-02T22:26:15.671Z"
   },
   {
    "duration": 16,
    "start_time": "2022-12-02T22:26:15.678Z"
   },
   {
    "duration": 120,
    "start_time": "2022-12-02T22:26:15.695Z"
   },
   {
    "duration": 4,
    "start_time": "2022-12-02T22:26:15.817Z"
   },
   {
    "duration": 15,
    "start_time": "2022-12-02T22:26:15.822Z"
   },
   {
    "duration": 119,
    "start_time": "2022-12-02T22:26:15.839Z"
   },
   {
    "duration": 5,
    "start_time": "2022-12-02T22:26:15.959Z"
   },
   {
    "duration": 12,
    "start_time": "2022-12-02T22:26:15.966Z"
   },
   {
    "duration": 124,
    "start_time": "2022-12-02T22:26:15.980Z"
   },
   {
    "duration": 8,
    "start_time": "2022-12-02T22:26:16.106Z"
   },
   {
    "duration": 7,
    "start_time": "2022-12-02T22:26:16.115Z"
   },
   {
    "duration": 11,
    "start_time": "2022-12-02T22:26:16.124Z"
   },
   {
    "duration": 13,
    "start_time": "2022-12-02T22:26:16.136Z"
   },
   {
    "duration": 30,
    "start_time": "2022-12-02T22:26:16.150Z"
   },
   {
    "duration": 38,
    "start_time": "2022-12-02T22:26:16.182Z"
   },
   {
    "duration": 106,
    "start_time": "2022-12-02T22:26:16.222Z"
   },
   {
    "duration": 183,
    "start_time": "2022-12-02T22:26:16.330Z"
   },
   {
    "duration": 15,
    "start_time": "2022-12-02T22:26:16.515Z"
   },
   {
    "duration": 11,
    "start_time": "2022-12-02T22:26:16.532Z"
   },
   {
    "duration": 81,
    "start_time": "2022-12-02T22:26:16.545Z"
   },
   {
    "duration": 14,
    "start_time": "2022-12-02T22:26:16.713Z"
   },
   {
    "duration": 197,
    "start_time": "2022-12-02T22:26:16.728Z"
   },
   {
    "duration": 6,
    "start_time": "2022-12-02T22:26:16.927Z"
   },
   {
    "duration": 82,
    "start_time": "2022-12-02T22:26:16.935Z"
   },
   {
    "duration": 107,
    "start_time": "2022-12-02T22:26:17.019Z"
   },
   {
    "duration": 220,
    "start_time": "2022-12-02T22:26:17.128Z"
   },
   {
    "duration": 5,
    "start_time": "2022-12-02T22:26:17.350Z"
   },
   {
    "duration": 14,
    "start_time": "2022-12-02T22:26:17.356Z"
   },
   {
    "duration": 14,
    "start_time": "2022-12-02T22:26:17.371Z"
   },
   {
    "duration": 39,
    "start_time": "2022-12-02T22:26:17.387Z"
   },
   {
    "duration": 5,
    "start_time": "2022-12-02T22:26:17.427Z"
   },
   {
    "duration": 8,
    "start_time": "2022-12-02T22:26:17.434Z"
   },
   {
    "duration": 12,
    "start_time": "2022-12-02T22:26:17.443Z"
   },
   {
    "duration": 57,
    "start_time": "2022-12-02T22:26:17.456Z"
   },
   {
    "duration": 6,
    "start_time": "2022-12-02T22:26:17.515Z"
   },
   {
    "duration": 13,
    "start_time": "2022-12-02T22:26:17.523Z"
   },
   {
    "duration": 15,
    "start_time": "2022-12-02T22:26:17.537Z"
   },
   {
    "duration": 954,
    "start_time": "2022-12-02T22:26:17.554Z"
   },
   {
    "duration": 58,
    "start_time": "2022-12-02T22:26:18.510Z"
   },
   {
    "duration": 5,
    "start_time": "2022-12-02T22:26:18.570Z"
   },
   {
    "duration": 254,
    "start_time": "2022-12-02T22:26:18.577Z"
   },
   {
    "duration": 354,
    "start_time": "2022-12-02T22:26:18.833Z"
   },
   {
    "duration": 56,
    "start_time": "2022-12-02T22:26:19.189Z"
   },
   {
    "duration": 6,
    "start_time": "2022-12-02T22:26:19.247Z"
   },
   {
    "duration": 132,
    "start_time": "2022-12-02T22:26:19.255Z"
   },
   {
    "duration": 691,
    "start_time": "2022-12-02T22:26:19.393Z"
   },
   {
    "duration": 63,
    "start_time": "2022-12-02T22:26:20.086Z"
   },
   {
    "duration": 6,
    "start_time": "2022-12-02T22:26:20.150Z"
   },
   {
    "duration": 189,
    "start_time": "2022-12-02T22:26:20.158Z"
   },
   {
    "duration": 108557,
    "start_time": "2022-12-02T22:26:20.349Z"
   },
   {
    "duration": 12,
    "start_time": "2022-12-02T22:28:08.907Z"
   },
   {
    "duration": 3,
    "start_time": "2022-12-02T22:28:08.921Z"
   },
   {
    "duration": 1398,
    "start_time": "2022-12-02T22:28:08.926Z"
   },
   {
    "duration": 88,
    "start_time": "2022-12-02T22:28:10.325Z"
   },
   {
    "duration": 5,
    "start_time": "2022-12-02T22:28:10.415Z"
   },
   {
    "duration": 95,
    "start_time": "2022-12-02T22:28:10.422Z"
   },
   {
    "duration": 97,
    "start_time": "2022-12-02T22:28:10.519Z"
   },
   {
    "duration": 85,
    "start_time": "2022-12-02T22:28:10.617Z"
   },
   {
    "duration": 10,
    "start_time": "2022-12-02T22:28:10.703Z"
   },
   {
    "duration": 151,
    "start_time": "2022-12-02T22:28:10.714Z"
   },
   {
    "duration": 1675,
    "start_time": "2022-12-03T21:25:55.791Z"
   },
   {
    "duration": 164,
    "start_time": "2022-12-03T21:25:57.468Z"
   },
   {
    "duration": 18,
    "start_time": "2022-12-03T21:25:57.634Z"
   },
   {
    "duration": 14,
    "start_time": "2022-12-03T21:25:57.655Z"
   },
   {
    "duration": 5,
    "start_time": "2022-12-03T21:25:57.671Z"
   },
   {
    "duration": 15,
    "start_time": "2022-12-03T21:25:57.678Z"
   },
   {
    "duration": 6,
    "start_time": "2022-12-03T21:25:57.695Z"
   },
   {
    "duration": 48,
    "start_time": "2022-12-03T21:25:57.703Z"
   },
   {
    "duration": 2417,
    "start_time": "2022-12-03T21:25:57.753Z"
   },
   {
    "duration": 8,
    "start_time": "2022-12-03T21:26:03.249Z"
   },
   {
    "duration": 16,
    "start_time": "2022-12-03T21:26:04.768Z"
   },
   {
    "duration": 4,
    "start_time": "2022-12-03T21:38:37.622Z"
   },
   {
    "duration": 77,
    "start_time": "2022-12-03T21:38:37.629Z"
   },
   {
    "duration": 14,
    "start_time": "2022-12-03T21:38:37.708Z"
   },
   {
    "duration": 20,
    "start_time": "2022-12-03T21:38:37.725Z"
   },
   {
    "duration": 6,
    "start_time": "2022-12-03T21:38:37.748Z"
   },
   {
    "duration": 17,
    "start_time": "2022-12-03T21:38:37.756Z"
   },
   {
    "duration": 3,
    "start_time": "2022-12-03T21:38:37.775Z"
   },
   {
    "duration": 16,
    "start_time": "2022-12-03T21:38:37.781Z"
   },
   {
    "duration": 2469,
    "start_time": "2022-12-03T21:38:37.799Z"
   },
   {
    "duration": 10,
    "start_time": "2022-12-03T21:38:40.270Z"
   },
   {
    "duration": 20,
    "start_time": "2022-12-03T21:38:40.282Z"
   },
   {
    "duration": 15,
    "start_time": "2022-12-03T21:38:40.303Z"
   },
   {
    "duration": 5,
    "start_time": "2022-12-03T21:40:46.866Z"
   },
   {
    "duration": 7,
    "start_time": "2022-12-03T21:40:57.564Z"
   },
   {
    "duration": 6,
    "start_time": "2022-12-03T21:40:59.975Z"
   },
   {
    "duration": 6,
    "start_time": "2022-12-03T21:41:01.668Z"
   },
   {
    "duration": 4,
    "start_time": "2022-12-03T21:42:55.312Z"
   },
   {
    "duration": 18,
    "start_time": "2022-12-03T21:43:01.734Z"
   },
   {
    "duration": 5,
    "start_time": "2022-12-03T21:43:16.080Z"
   },
   {
    "duration": 42,
    "start_time": "2022-12-03T21:43:16.087Z"
   },
   {
    "duration": 15,
    "start_time": "2022-12-03T21:43:16.131Z"
   },
   {
    "duration": 19,
    "start_time": "2022-12-03T21:43:16.150Z"
   },
   {
    "duration": 5,
    "start_time": "2022-12-03T21:43:16.171Z"
   },
   {
    "duration": 16,
    "start_time": "2022-12-03T21:43:16.177Z"
   },
   {
    "duration": 4,
    "start_time": "2022-12-03T21:43:16.194Z"
   },
   {
    "duration": 51,
    "start_time": "2022-12-03T21:43:16.200Z"
   },
   {
    "duration": 2326,
    "start_time": "2022-12-03T21:43:16.253Z"
   },
   {
    "duration": 6,
    "start_time": "2022-12-03T21:43:18.582Z"
   },
   {
    "duration": 22,
    "start_time": "2022-12-03T21:43:18.589Z"
   },
   {
    "duration": 41,
    "start_time": "2022-12-03T21:43:18.612Z"
   },
   {
    "duration": 121,
    "start_time": "2022-12-03T21:43:18.655Z"
   },
   {
    "duration": 0,
    "start_time": "2022-12-03T21:43:18.778Z"
   },
   {
    "duration": 0,
    "start_time": "2022-12-03T21:43:18.779Z"
   },
   {
    "duration": 0,
    "start_time": "2022-12-03T21:43:18.780Z"
   },
   {
    "duration": 0,
    "start_time": "2022-12-03T21:43:18.781Z"
   },
   {
    "duration": 4,
    "start_time": "2022-12-03T21:43:43.128Z"
   },
   {
    "duration": 54,
    "start_time": "2022-12-03T21:43:43.135Z"
   },
   {
    "duration": 14,
    "start_time": "2022-12-03T21:43:43.190Z"
   },
   {
    "duration": 15,
    "start_time": "2022-12-03T21:43:43.207Z"
   },
   {
    "duration": 6,
    "start_time": "2022-12-03T21:43:43.224Z"
   },
   {
    "duration": 19,
    "start_time": "2022-12-03T21:43:43.232Z"
   },
   {
    "duration": 4,
    "start_time": "2022-12-03T21:43:43.253Z"
   },
   {
    "duration": 15,
    "start_time": "2022-12-03T21:43:43.259Z"
   },
   {
    "duration": 2390,
    "start_time": "2022-12-03T21:43:43.276Z"
   },
   {
    "duration": 5,
    "start_time": "2022-12-03T21:43:45.669Z"
   },
   {
    "duration": 19,
    "start_time": "2022-12-03T21:43:45.676Z"
   },
   {
    "duration": 12,
    "start_time": "2022-12-03T21:43:45.696Z"
   },
   {
    "duration": 41,
    "start_time": "2022-12-03T21:43:45.710Z"
   },
   {
    "duration": 0,
    "start_time": "2022-12-03T21:43:45.753Z"
   },
   {
    "duration": 0,
    "start_time": "2022-12-03T21:43:45.754Z"
   },
   {
    "duration": 0,
    "start_time": "2022-12-03T21:43:45.756Z"
   },
   {
    "duration": 0,
    "start_time": "2022-12-03T21:43:45.757Z"
   },
   {
    "duration": 4,
    "start_time": "2022-12-03T21:44:09.822Z"
   },
   {
    "duration": 46,
    "start_time": "2022-12-03T21:44:09.830Z"
   },
   {
    "duration": 15,
    "start_time": "2022-12-03T21:44:09.878Z"
   },
   {
    "duration": 13,
    "start_time": "2022-12-03T21:44:09.895Z"
   },
   {
    "duration": 4,
    "start_time": "2022-12-03T21:44:09.910Z"
   },
   {
    "duration": 33,
    "start_time": "2022-12-03T21:44:09.915Z"
   },
   {
    "duration": 4,
    "start_time": "2022-12-03T21:44:09.951Z"
   },
   {
    "duration": 17,
    "start_time": "2022-12-03T21:44:09.956Z"
   },
   {
    "duration": 2390,
    "start_time": "2022-12-03T21:44:09.976Z"
   },
   {
    "duration": 5,
    "start_time": "2022-12-03T21:44:12.368Z"
   },
   {
    "duration": 19,
    "start_time": "2022-12-03T21:44:12.375Z"
   },
   {
    "duration": 14,
    "start_time": "2022-12-03T21:44:12.396Z"
   },
   {
    "duration": 15,
    "start_time": "2022-12-03T21:44:12.436Z"
   },
   {
    "duration": 10,
    "start_time": "2022-12-03T21:44:12.453Z"
   },
   {
    "duration": 8,
    "start_time": "2022-12-03T21:44:12.464Z"
   },
   {
    "duration": 7,
    "start_time": "2022-12-03T21:44:12.474Z"
   },
   {
    "duration": 6,
    "start_time": "2022-12-03T21:44:15.652Z"
   },
   {
    "duration": 9,
    "start_time": "2022-12-03T21:44:22.378Z"
   },
   {
    "duration": 32,
    "start_time": "2022-12-03T21:44:38.758Z"
   },
   {
    "duration": 7,
    "start_time": "2022-12-03T21:44:46.160Z"
   },
   {
    "duration": 130,
    "start_time": "2022-12-03T21:44:48.318Z"
   },
   {
    "duration": 3,
    "start_time": "2022-12-03T21:44:53.185Z"
   },
   {
    "duration": 11,
    "start_time": "2022-12-03T21:44:55.779Z"
   },
   {
    "duration": 4,
    "start_time": "2022-12-03T21:44:57.504Z"
   },
   {
    "duration": 31,
    "start_time": "2022-12-03T21:44:58.857Z"
   },
   {
    "duration": 18,
    "start_time": "2022-12-03T21:44:59.957Z"
   },
   {
    "duration": 23,
    "start_time": "2022-12-03T21:45:02.451Z"
   },
   {
    "duration": 12,
    "start_time": "2022-12-03T21:46:14.714Z"
   },
   {
    "duration": 8,
    "start_time": "2022-12-03T21:46:15.953Z"
   },
   {
    "duration": 84,
    "start_time": "2022-12-03T21:46:17.862Z"
   },
   {
    "duration": 42,
    "start_time": "2022-12-03T21:46:22.234Z"
   },
   {
    "duration": 5,
    "start_time": "2022-12-03T21:46:24.030Z"
   },
   {
    "duration": 6,
    "start_time": "2022-12-03T21:46:25.916Z"
   },
   {
    "duration": 25,
    "start_time": "2022-12-03T21:46:29.430Z"
   },
   {
    "duration": 3,
    "start_time": "2022-12-03T21:52:22.962Z"
   },
   {
    "duration": 18,
    "start_time": "2022-12-03T21:52:29.956Z"
   },
   {
    "duration": 18,
    "start_time": "2022-12-03T21:54:17.927Z"
   },
   {
    "duration": 12,
    "start_time": "2022-12-03T21:56:48.521Z"
   },
   {
    "duration": 15,
    "start_time": "2022-12-03T21:57:14.986Z"
   },
   {
    "duration": 37,
    "start_time": "2022-12-03T21:58:43.013Z"
   },
   {
    "duration": 5,
    "start_time": "2022-12-03T21:58:44.282Z"
   },
   {
    "duration": 7,
    "start_time": "2022-12-03T21:58:45.760Z"
   },
   {
    "duration": 14,
    "start_time": "2022-12-03T21:58:53.046Z"
   },
   {
    "duration": 9,
    "start_time": "2022-12-03T21:59:18.335Z"
   },
   {
    "duration": 699,
    "start_time": "2022-12-03T22:01:05.366Z"
   },
   {
    "duration": 56,
    "start_time": "2022-12-03T22:01:14.474Z"
   },
   {
    "duration": 9,
    "start_time": "2022-12-03T22:01:15.762Z"
   },
   {
    "duration": 172,
    "start_time": "2022-12-03T22:01:17.551Z"
   },
   {
    "duration": 68,
    "start_time": "2022-12-03T22:01:39.961Z"
   },
   {
    "duration": 5,
    "start_time": "2022-12-03T22:02:54.329Z"
   },
   {
    "duration": 5,
    "start_time": "2022-12-03T22:02:56.573Z"
   },
   {
    "duration": 7,
    "start_time": "2022-12-03T22:03:07.730Z"
   },
   {
    "duration": 111,
    "start_time": "2022-12-03T22:04:05.897Z"
   },
   {
    "duration": 5,
    "start_time": "2022-12-03T22:04:08.103Z"
   },
   {
    "duration": 74,
    "start_time": "2022-12-03T22:04:11.795Z"
   },
   {
    "duration": 96,
    "start_time": "2022-12-03T22:04:13.881Z"
   },
   {
    "duration": 5,
    "start_time": "2022-12-03T22:04:16.517Z"
   },
   {
    "duration": 95,
    "start_time": "2022-12-03T22:04:18.907Z"
   },
   {
    "duration": 101,
    "start_time": "2022-12-03T22:04:29.303Z"
   },
   {
    "duration": 6,
    "start_time": "2022-12-03T22:04:36.819Z"
   },
   {
    "duration": 17,
    "start_time": "2022-12-03T22:04:45.203Z"
   },
   {
    "duration": 4,
    "start_time": "2022-12-03T22:05:34.311Z"
   },
   {
    "duration": 18,
    "start_time": "2022-12-03T22:05:39.123Z"
   },
   {
    "duration": 19,
    "start_time": "2022-12-03T22:05:43.415Z"
   },
   {
    "duration": 5,
    "start_time": "2022-12-03T22:06:37.001Z"
   },
   {
    "duration": 4,
    "start_time": "2022-12-03T22:07:37.851Z"
   },
   {
    "duration": 5,
    "start_time": "2022-12-03T22:08:47.971Z"
   },
   {
    "duration": 17,
    "start_time": "2022-12-03T22:09:31.873Z"
   },
   {
    "duration": 6,
    "start_time": "2022-12-03T22:10:12.654Z"
   },
   {
    "duration": 14,
    "start_time": "2022-12-03T22:11:17.901Z"
   },
   {
    "duration": 9,
    "start_time": "2022-12-03T22:11:23.614Z"
   },
   {
    "duration": 16,
    "start_time": "2022-12-03T22:12:07.493Z"
   },
   {
    "duration": 10,
    "start_time": "2022-12-03T22:12:09.164Z"
   },
   {
    "duration": 1583,
    "start_time": "2022-12-04T21:00:02.910Z"
   },
   {
    "duration": 92,
    "start_time": "2022-12-04T21:00:04.495Z"
   },
   {
    "duration": 15,
    "start_time": "2022-12-04T21:00:04.589Z"
   },
   {
    "duration": 13,
    "start_time": "2022-12-04T21:00:04.607Z"
   },
   {
    "duration": 7,
    "start_time": "2022-12-04T21:00:04.621Z"
   },
   {
    "duration": 25,
    "start_time": "2022-12-04T21:00:04.629Z"
   },
   {
    "duration": 20,
    "start_time": "2022-12-04T21:00:04.656Z"
   },
   {
    "duration": 31,
    "start_time": "2022-12-04T21:00:04.678Z"
   },
   {
    "duration": 2090,
    "start_time": "2022-12-04T21:00:04.711Z"
   },
   {
    "duration": 4,
    "start_time": "2022-12-04T21:00:06.804Z"
   },
   {
    "duration": 18,
    "start_time": "2022-12-04T21:00:06.809Z"
   },
   {
    "duration": 10,
    "start_time": "2022-12-04T21:00:06.828Z"
   },
   {
    "duration": 6,
    "start_time": "2022-12-04T21:00:06.840Z"
   },
   {
    "duration": 10,
    "start_time": "2022-12-04T21:00:06.848Z"
   },
   {
    "duration": 11,
    "start_time": "2022-12-04T21:00:06.860Z"
   },
   {
    "duration": 11,
    "start_time": "2022-12-04T21:00:06.873Z"
   },
   {
    "duration": 19,
    "start_time": "2022-12-04T21:00:06.886Z"
   },
   {
    "duration": 7,
    "start_time": "2022-12-04T21:00:06.907Z"
   },
   {
    "duration": 124,
    "start_time": "2022-12-04T21:00:06.916Z"
   },
   {
    "duration": 2,
    "start_time": "2022-12-04T21:00:07.042Z"
   },
   {
    "duration": 22,
    "start_time": "2022-12-04T21:00:07.046Z"
   },
   {
    "duration": 7,
    "start_time": "2022-12-04T21:00:07.070Z"
   },
   {
    "duration": 26,
    "start_time": "2022-12-04T21:00:07.078Z"
   },
   {
    "duration": 21,
    "start_time": "2022-12-04T21:00:07.106Z"
   },
   {
    "duration": 34,
    "start_time": "2022-12-04T21:00:07.129Z"
   },
   {
    "duration": 12,
    "start_time": "2022-12-04T21:00:07.165Z"
   },
   {
    "duration": 198,
    "start_time": "2022-12-04T21:00:07.179Z"
   },
   {
    "duration": 96,
    "start_time": "2022-12-04T21:00:07.381Z"
   },
   {
    "duration": 100,
    "start_time": "2022-12-04T21:00:07.479Z"
   },
   {
    "duration": 120,
    "start_time": "2022-12-04T21:00:07.582Z"
   },
   {
    "duration": 5,
    "start_time": "2022-12-04T21:00:07.703Z"
   },
   {
    "duration": 25,
    "start_time": "2022-12-04T21:00:07.709Z"
   },
   {
    "duration": 18,
    "start_time": "2022-12-04T21:00:07.735Z"
   },
   {
    "duration": 8,
    "start_time": "2022-12-04T21:00:07.754Z"
   },
   {
    "duration": 2,
    "start_time": "2022-12-04T21:00:15.789Z"
   },
   {
    "duration": 567,
    "start_time": "2022-12-04T21:00:19.218Z"
   },
   {
    "duration": 43,
    "start_time": "2022-12-04T21:00:39.227Z"
   },
   {
    "duration": 7,
    "start_time": "2022-12-04T21:00:40.341Z"
   },
   {
    "duration": 149,
    "start_time": "2022-12-04T21:00:41.756Z"
   },
   {
    "duration": 51,
    "start_time": "2022-12-04T21:00:43.686Z"
   },
   {
    "duration": 4,
    "start_time": "2022-12-04T21:00:45.649Z"
   },
   {
    "duration": 4,
    "start_time": "2022-12-04T21:00:46.694Z"
   },
   {
    "duration": 6,
    "start_time": "2022-12-04T21:00:47.771Z"
   },
   {
    "duration": 93,
    "start_time": "2022-12-04T21:00:50.597Z"
   },
   {
    "duration": 3,
    "start_time": "2022-12-04T21:00:55.754Z"
   },
   {
    "duration": 11,
    "start_time": "2022-12-04T21:00:57.082Z"
   },
   {
    "duration": 17,
    "start_time": "2022-12-04T21:00:58.740Z"
   },
   {
    "duration": 5,
    "start_time": "2022-12-04T21:01:08.375Z"
   },
   {
    "duration": 82,
    "start_time": "2022-12-04T21:01:13.189Z"
   },
   {
    "duration": 3,
    "start_time": "2022-12-04T21:01:15.225Z"
   },
   {
    "duration": 9,
    "start_time": "2022-12-04T21:01:16.655Z"
   },
   {
    "duration": 88,
    "start_time": "2022-12-04T21:01:17.740Z"
   },
   {
    "duration": 4,
    "start_time": "2022-12-04T21:01:19.866Z"
   },
   {
    "duration": 5,
    "start_time": "2022-12-04T21:01:22.572Z"
   },
   {
    "duration": 4,
    "start_time": "2022-12-04T21:01:24.217Z"
   },
   {
    "duration": 5,
    "start_time": "2022-12-04T21:01:25.617Z"
   },
   {
    "duration": 23,
    "start_time": "2022-12-04T21:01:27.289Z"
   },
   {
    "duration": 9,
    "start_time": "2022-12-04T21:01:30.391Z"
   },
   {
    "duration": 6,
    "start_time": "2022-12-04T21:01:31.523Z"
   },
   {
    "duration": 17,
    "start_time": "2022-12-04T21:01:33.168Z"
   },
   {
    "duration": 10,
    "start_time": "2022-12-04T21:01:36.123Z"
   },
   {
    "duration": 6,
    "start_time": "2022-12-04T21:01:37.961Z"
   },
   {
    "duration": 6,
    "start_time": "2022-12-04T21:01:39.234Z"
   },
   {
    "duration": 15,
    "start_time": "2022-12-04T21:01:41.561Z"
   },
   {
    "duration": 22,
    "start_time": "2022-12-04T21:01:43.313Z"
   },
   {
    "duration": 12,
    "start_time": "2022-12-04T21:01:46.286Z"
   },
   {
    "duration": 6,
    "start_time": "2022-12-04T21:01:46.970Z"
   },
   {
    "duration": 80,
    "start_time": "2022-12-04T21:01:48.498Z"
   },
   {
    "duration": 7,
    "start_time": "2022-12-04T21:02:43.055Z"
   },
   {
    "duration": 7,
    "start_time": "2022-12-04T21:03:15.887Z"
   },
   {
    "duration": 22,
    "start_time": "2022-12-04T21:04:21.085Z"
   },
   {
    "duration": 11,
    "start_time": "2022-12-04T21:04:22.229Z"
   },
   {
    "duration": 6,
    "start_time": "2022-12-04T21:04:23.454Z"
   },
   {
    "duration": 22,
    "start_time": "2022-12-04T21:04:25.355Z"
   },
   {
    "duration": 14,
    "start_time": "2022-12-04T21:04:42.171Z"
   },
   {
    "duration": 11,
    "start_time": "2022-12-04T21:04:45.879Z"
   },
   {
    "duration": 7,
    "start_time": "2022-12-04T21:04:57.679Z"
   },
   {
    "duration": 6,
    "start_time": "2022-12-04T21:04:59.727Z"
   },
   {
    "duration": 16,
    "start_time": "2022-12-04T21:05:01.465Z"
   },
   {
    "duration": 8,
    "start_time": "2022-12-04T21:05:30.854Z"
   },
   {
    "duration": 17,
    "start_time": "2022-12-04T21:05:51.588Z"
   },
   {
    "duration": 7,
    "start_time": "2022-12-04T21:05:53.205Z"
   },
   {
    "duration": 5,
    "start_time": "2022-12-04T21:05:54.126Z"
   },
   {
    "duration": 15,
    "start_time": "2022-12-04T21:05:55.911Z"
   },
   {
    "duration": 10,
    "start_time": "2022-12-04T21:06:06.603Z"
   },
   {
    "duration": 36,
    "start_time": "2022-12-04T21:07:57.869Z"
   },
   {
    "duration": 5,
    "start_time": "2022-12-04T21:07:59.138Z"
   },
   {
    "duration": 6,
    "start_time": "2022-12-04T21:08:00.342Z"
   },
   {
    "duration": 14,
    "start_time": "2022-12-04T21:08:02.157Z"
   },
   {
    "duration": 16,
    "start_time": "2022-12-04T21:08:04.519Z"
   },
   {
    "duration": 4,
    "start_time": "2022-12-04T21:08:05.799Z"
   },
   {
    "duration": 8,
    "start_time": "2022-12-04T21:08:17.868Z"
   },
   {
    "duration": 16,
    "start_time": "2022-12-04T21:08:25.973Z"
   },
   {
    "duration": 5,
    "start_time": "2022-12-04T21:08:27.496Z"
   },
   {
    "duration": 6,
    "start_time": "2022-12-04T21:08:29.030Z"
   },
   {
    "duration": 12,
    "start_time": "2022-12-04T21:08:30.413Z"
   },
   {
    "duration": 8,
    "start_time": "2022-12-04T21:08:43.724Z"
   },
   {
    "duration": 30,
    "start_time": "2022-12-04T21:08:49.402Z"
   },
   {
    "duration": 5,
    "start_time": "2022-12-04T21:08:50.635Z"
   },
   {
    "duration": 6,
    "start_time": "2022-12-04T21:08:51.719Z"
   },
   {
    "duration": 11,
    "start_time": "2022-12-04T21:08:52.837Z"
   },
   {
    "duration": 9,
    "start_time": "2022-12-04T21:09:03.753Z"
   },
   {
    "duration": 862,
    "start_time": "2022-12-04T21:12:09.053Z"
   },
   {
    "duration": 53,
    "start_time": "2022-12-04T21:12:11.100Z"
   },
   {
    "duration": 6,
    "start_time": "2022-12-04T21:12:12.232Z"
   },
   {
    "duration": 216,
    "start_time": "2022-12-04T21:12:13.440Z"
   },
   {
    "duration": 59,
    "start_time": "2022-12-04T21:12:24.464Z"
   },
   {
    "duration": 307,
    "start_time": "2022-12-04T21:12:26.387Z"
   },
   {
    "duration": 44,
    "start_time": "2022-12-04T21:12:27.775Z"
   },
   {
    "duration": 6,
    "start_time": "2022-12-04T21:12:28.940Z"
   },
   {
    "duration": 103,
    "start_time": "2022-12-04T21:12:30.250Z"
   },
   {
    "duration": 52,
    "start_time": "2022-12-04T21:12:42.770Z"
   },
   {
    "duration": 610,
    "start_time": "2022-12-04T21:12:48.729Z"
   },
   {
    "duration": 49,
    "start_time": "2022-12-04T21:12:50.256Z"
   },
   {
    "duration": 6,
    "start_time": "2022-12-04T21:12:51.138Z"
   },
   {
    "duration": 150,
    "start_time": "2022-12-04T21:12:52.496Z"
   },
   {
    "duration": 53,
    "start_time": "2022-12-04T21:13:02.744Z"
   },
   {
    "duration": 95949,
    "start_time": "2022-12-04T21:15:08.801Z"
   },
   {
    "duration": 9,
    "start_time": "2022-12-04T21:16:47.057Z"
   },
   {
    "duration": 2,
    "start_time": "2022-12-04T21:16:56.306Z"
   },
   {
    "duration": 1270,
    "start_time": "2022-12-04T21:16:57.807Z"
   },
   {
    "duration": 82,
    "start_time": "2022-12-04T21:17:02.356Z"
   },
   {
    "duration": 6,
    "start_time": "2022-12-04T21:17:04.075Z"
   },
   {
    "duration": 82,
    "start_time": "2022-12-04T21:17:06.057Z"
   },
   {
    "duration": 73,
    "start_time": "2022-12-04T21:17:08.221Z"
   },
   {
    "duration": 74,
    "start_time": "2022-12-04T21:17:09.479Z"
   },
   {
    "duration": 2,
    "start_time": "2022-12-04T21:17:10.776Z"
   },
   {
    "duration": 131,
    "start_time": "2022-12-04T21:17:14.423Z"
   },
   {
    "duration": 2413,
    "start_time": "2022-12-05T15:35:44.504Z"
   },
   {
    "duration": 177,
    "start_time": "2022-12-05T15:35:46.920Z"
   },
   {
    "duration": 19,
    "start_time": "2022-12-05T15:35:47.099Z"
   },
   {
    "duration": 68,
    "start_time": "2022-12-05T15:35:47.120Z"
   },
   {
    "duration": 6,
    "start_time": "2022-12-05T15:35:47.190Z"
   },
   {
    "duration": 17,
    "start_time": "2022-12-05T15:35:47.197Z"
   },
   {
    "duration": 5,
    "start_time": "2022-12-05T15:35:47.277Z"
   },
   {
    "duration": 20,
    "start_time": "2022-12-05T15:35:47.284Z"
   },
   {
    "duration": 4387,
    "start_time": "2022-12-05T15:35:47.306Z"
   },
   {
    "duration": 5,
    "start_time": "2022-12-05T15:35:51.697Z"
   },
   {
    "duration": 75,
    "start_time": "2022-12-05T15:35:51.704Z"
   },
   {
    "duration": 18,
    "start_time": "2022-12-05T15:35:51.781Z"
   },
   {
    "duration": 5,
    "start_time": "2022-12-05T15:35:51.801Z"
   },
   {
    "duration": 10,
    "start_time": "2022-12-05T15:35:51.808Z"
   },
   {
    "duration": 7,
    "start_time": "2022-12-05T15:35:51.878Z"
   },
   {
    "duration": 27,
    "start_time": "2022-12-05T15:35:51.887Z"
   },
   {
    "duration": 84,
    "start_time": "2022-12-05T15:35:51.916Z"
   },
   {
    "duration": 8,
    "start_time": "2022-12-05T15:35:52.003Z"
   },
   {
    "duration": 269,
    "start_time": "2022-12-05T15:35:52.013Z"
   },
   {
    "duration": 3,
    "start_time": "2022-12-05T15:35:52.284Z"
   },
   {
    "duration": 18,
    "start_time": "2022-12-05T15:35:52.289Z"
   },
   {
    "duration": 5,
    "start_time": "2022-12-05T15:35:52.310Z"
   },
   {
    "duration": 24,
    "start_time": "2022-12-05T15:35:52.378Z"
   },
   {
    "duration": 11,
    "start_time": "2022-12-05T15:35:52.404Z"
   },
   {
    "duration": 29,
    "start_time": "2022-12-05T15:35:52.478Z"
   },
   {
    "duration": 169,
    "start_time": "2022-12-05T15:35:52.509Z"
   },
   {
    "duration": 16,
    "start_time": "2022-12-05T15:35:52.680Z"
   },
   {
    "duration": 87,
    "start_time": "2022-12-05T15:35:52.703Z"
   },
   {
    "duration": 197,
    "start_time": "2022-12-05T15:35:52.792Z"
   },
   {
    "duration": 204,
    "start_time": "2022-12-05T15:35:52.991Z"
   },
   {
    "duration": 4,
    "start_time": "2022-12-05T15:35:53.197Z"
   },
   {
    "duration": 9,
    "start_time": "2022-12-05T15:35:53.203Z"
   },
   {
    "duration": 76,
    "start_time": "2022-12-05T15:35:53.214Z"
   },
   {
    "duration": 11,
    "start_time": "2022-12-05T15:35:53.292Z"
   },
   {
    "duration": 1588,
    "start_time": "2022-12-05T15:35:53.304Z"
   },
   {
    "duration": 127,
    "start_time": "2022-12-05T15:35:54.894Z"
   },
   {
    "duration": 61,
    "start_time": "2022-12-05T15:35:55.023Z"
   },
   {
    "duration": 307,
    "start_time": "2022-12-05T15:35:55.086Z"
   },
   {
    "duration": 109,
    "start_time": "2022-12-05T15:35:55.394Z"
   },
   {
    "duration": 5,
    "start_time": "2022-12-05T15:35:55.505Z"
   },
   {
    "duration": 69,
    "start_time": "2022-12-05T15:35:55.512Z"
   },
   {
    "duration": 17,
    "start_time": "2022-12-05T15:35:55.583Z"
   },
   {
    "duration": 221,
    "start_time": "2022-12-05T15:35:55.602Z"
   },
   {
    "duration": 5,
    "start_time": "2022-12-05T15:35:55.879Z"
   },
   {
    "duration": 16,
    "start_time": "2022-12-05T15:35:55.886Z"
   },
   {
    "duration": 286,
    "start_time": "2022-12-05T15:35:55.904Z"
   },
   {
    "duration": 5,
    "start_time": "2022-12-05T15:35:56.192Z"
   },
   {
    "duration": 17,
    "start_time": "2022-12-05T15:35:56.200Z"
   },
   {
    "duration": 304,
    "start_time": "2022-12-05T15:35:56.219Z"
   },
   {
    "duration": 55,
    "start_time": "2022-12-05T15:35:56.525Z"
   },
   {
    "duration": 15,
    "start_time": "2022-12-05T15:35:56.581Z"
   },
   {
    "duration": 12,
    "start_time": "2022-12-05T15:35:56.599Z"
   },
   {
    "duration": 4,
    "start_time": "2022-12-05T15:35:56.612Z"
   },
   {
    "duration": 63,
    "start_time": "2022-12-05T15:35:56.618Z"
   },
   {
    "duration": 9,
    "start_time": "2022-12-05T15:35:56.683Z"
   },
   {
    "duration": 91,
    "start_time": "2022-12-05T15:35:56.694Z"
   },
   {
    "duration": 91,
    "start_time": "2022-12-05T15:35:56.787Z"
   },
   {
    "duration": 8,
    "start_time": "2022-12-05T15:35:56.881Z"
   },
   {
    "duration": 187,
    "start_time": "2022-12-05T15:35:56.891Z"
   },
   {
    "duration": 100,
    "start_time": "2022-12-05T15:35:57.085Z"
   },
   {
    "duration": 92,
    "start_time": "2022-12-05T15:35:57.187Z"
   },
   {
    "duration": 97,
    "start_time": "2022-12-05T15:35:57.281Z"
   },
   {
    "duration": 8,
    "start_time": "2022-12-05T15:35:57.381Z"
   },
   {
    "duration": 192,
    "start_time": "2022-12-05T15:35:57.391Z"
   },
   {
    "duration": 123,
    "start_time": "2022-12-05T15:35:57.589Z"
   },
   {
    "duration": 112,
    "start_time": "2022-12-05T15:35:57.779Z"
   },
   {
    "duration": 90,
    "start_time": "2022-12-05T15:35:57.893Z"
   },
   {
    "duration": 93,
    "start_time": "2022-12-05T15:35:57.986Z"
   },
   {
    "duration": 100,
    "start_time": "2022-12-05T15:35:58.081Z"
   },
   {
    "duration": 102,
    "start_time": "2022-12-05T15:35:58.183Z"
   },
   {
    "duration": 214,
    "start_time": "2022-12-05T15:35:58.287Z"
   },
   {
    "duration": 7,
    "start_time": "2022-12-05T15:35:58.503Z"
   },
   {
    "duration": 69,
    "start_time": "2022-12-05T15:35:58.512Z"
   },
   {
    "duration": 33,
    "start_time": "2022-12-05T15:35:58.582Z"
   },
   {
    "duration": 65,
    "start_time": "2022-12-05T15:35:58.617Z"
   },
   {
    "duration": 15,
    "start_time": "2022-12-05T15:35:58.683Z"
   },
   {
    "duration": 17,
    "start_time": "2022-12-05T15:35:58.700Z"
   },
   {
    "duration": 59,
    "start_time": "2022-12-05T15:35:58.719Z"
   },
   {
    "duration": 12,
    "start_time": "2022-12-05T15:35:58.779Z"
   },
   {
    "duration": 21,
    "start_time": "2022-12-05T15:35:58.792Z"
   },
   {
    "duration": 97,
    "start_time": "2022-12-05T15:35:58.814Z"
   },
   {
    "duration": 63,
    "start_time": "2022-12-05T15:35:58.918Z"
   },
   {
    "duration": 17,
    "start_time": "2022-12-05T15:35:58.982Z"
   },
   {
    "duration": 78,
    "start_time": "2022-12-05T15:35:59.001Z"
   },
   {
    "duration": 11,
    "start_time": "2022-12-05T15:35:59.082Z"
   },
   {
    "duration": 1722,
    "start_time": "2022-12-05T15:35:59.094Z"
   },
   {
    "duration": 165,
    "start_time": "2022-12-05T15:36:00.817Z"
   },
   {
    "duration": 7,
    "start_time": "2022-12-05T15:36:00.984Z"
   },
   {
    "duration": 427,
    "start_time": "2022-12-05T15:36:00.993Z"
   },
   {
    "duration": 127,
    "start_time": "2022-12-05T15:36:01.478Z"
   },
   {
    "duration": 612,
    "start_time": "2022-12-05T15:36:01.608Z"
   },
   {
    "duration": 156,
    "start_time": "2022-12-05T15:36:02.222Z"
   },
   {
    "duration": 6,
    "start_time": "2022-12-05T15:36:02.380Z"
   },
   {
    "duration": 208,
    "start_time": "2022-12-05T15:36:02.388Z"
   },
   {
    "duration": 107,
    "start_time": "2022-12-05T15:36:02.598Z"
   },
   {
    "duration": 1372,
    "start_time": "2022-12-05T15:36:02.707Z"
   },
   {
    "duration": 115,
    "start_time": "2022-12-05T15:36:04.082Z"
   },
   {
    "duration": 7,
    "start_time": "2022-12-05T15:36:04.199Z"
   },
   {
    "duration": 306,
    "start_time": "2022-12-05T15:36:04.209Z"
   },
   {
    "duration": 162,
    "start_time": "2022-12-05T15:36:04.517Z"
   },
   {
    "duration": 183703,
    "start_time": "2022-12-05T15:36:04.681Z"
   },
   {
    "duration": 11,
    "start_time": "2022-12-05T15:39:08.385Z"
   },
   {
    "duration": 3,
    "start_time": "2022-12-05T15:39:08.398Z"
   },
   {
    "duration": 1269,
    "start_time": "2022-12-05T15:39:08.403Z"
   },
   {
    "duration": 73,
    "start_time": "2022-12-05T15:39:09.678Z"
   },
   {
    "duration": 5,
    "start_time": "2022-12-05T15:39:09.753Z"
   },
   {
    "duration": 91,
    "start_time": "2022-12-05T15:39:09.760Z"
   },
   {
    "duration": 83,
    "start_time": "2022-12-05T15:39:09.852Z"
   },
   {
    "duration": 84,
    "start_time": "2022-12-05T15:39:09.937Z"
   },
   {
    "duration": 2,
    "start_time": "2022-12-05T15:39:10.023Z"
   },
   {
    "duration": 132,
    "start_time": "2022-12-05T15:39:10.027Z"
   },
   {
    "duration": 1488,
    "start_time": "2022-12-19T08:52:44.612Z"
   },
   {
    "duration": 98,
    "start_time": "2022-12-19T08:52:46.103Z"
   },
   {
    "duration": 19,
    "start_time": "2022-12-19T08:52:46.203Z"
   },
   {
    "duration": 14,
    "start_time": "2022-12-19T08:52:46.224Z"
   },
   {
    "duration": 5,
    "start_time": "2022-12-19T08:52:46.240Z"
   },
   {
    "duration": 17,
    "start_time": "2022-12-19T08:52:46.247Z"
   },
   {
    "duration": 23,
    "start_time": "2022-12-19T08:52:46.266Z"
   },
   {
    "duration": 22,
    "start_time": "2022-12-19T08:52:46.291Z"
   },
   {
    "duration": 2525,
    "start_time": "2022-12-19T08:52:46.315Z"
   },
   {
    "duration": 5,
    "start_time": "2022-12-19T08:52:48.843Z"
   },
   {
    "duration": 39,
    "start_time": "2022-12-19T08:52:48.849Z"
   },
   {
    "duration": 40,
    "start_time": "2022-12-19T08:52:48.889Z"
   },
   {
    "duration": 27,
    "start_time": "2022-12-19T08:52:48.931Z"
   },
   {
    "duration": 30,
    "start_time": "2022-12-19T08:52:48.959Z"
   },
   {
    "duration": 34,
    "start_time": "2022-12-19T08:52:48.992Z"
   },
   {
    "duration": 29,
    "start_time": "2022-12-19T08:52:49.029Z"
   },
   {
    "duration": 19,
    "start_time": "2022-12-19T08:53:17.043Z"
   },
   {
    "duration": 21,
    "start_time": "2022-12-19T08:53:22.003Z"
   },
   {
    "duration": 18,
    "start_time": "2022-12-19T08:53:26.323Z"
   },
   {
    "duration": 1966,
    "start_time": "2023-01-12T13:55:17.338Z"
   },
   {
    "duration": 95,
    "start_time": "2023-01-12T13:55:19.307Z"
   },
   {
    "duration": 23,
    "start_time": "2023-01-12T13:55:19.403Z"
   },
   {
    "duration": 15,
    "start_time": "2023-01-12T13:55:19.428Z"
   },
   {
    "duration": 6,
    "start_time": "2023-01-12T13:55:19.446Z"
   },
   {
    "duration": 28,
    "start_time": "2023-01-12T13:55:19.454Z"
   },
   {
    "duration": 17,
    "start_time": "2023-01-12T13:55:19.483Z"
   },
   {
    "duration": 15,
    "start_time": "2023-01-12T13:55:19.502Z"
   },
   {
    "duration": 2155,
    "start_time": "2023-01-12T13:55:19.519Z"
   },
   {
    "duration": 4,
    "start_time": "2023-01-12T13:55:21.676Z"
   },
   {
    "duration": 29,
    "start_time": "2023-01-12T13:55:21.681Z"
   },
   {
    "duration": 11,
    "start_time": "2023-01-12T13:55:21.712Z"
   },
   {
    "duration": 4,
    "start_time": "2023-01-12T13:55:21.724Z"
   },
   {
    "duration": 25,
    "start_time": "2023-01-12T13:55:21.730Z"
   },
   {
    "duration": 10,
    "start_time": "2023-01-12T13:55:21.756Z"
   },
   {
    "duration": 13,
    "start_time": "2023-01-12T13:55:21.767Z"
   },
   {
    "duration": 23,
    "start_time": "2023-01-12T13:55:21.781Z"
   },
   {
    "duration": 3,
    "start_time": "2023-01-12T13:55:23.286Z"
   }
  ],
  "kernelspec": {
   "display_name": "Python 3 (ipykernel)",
   "language": "python",
   "name": "python3"
  },
  "language_info": {
   "codemirror_mode": {
    "name": "ipython",
    "version": 3
   },
   "file_extension": ".py",
   "mimetype": "text/x-python",
   "name": "python",
   "nbconvert_exporter": "python",
   "pygments_lexer": "ipython3",
   "version": "3.9.5"
  },
  "toc": {
   "base_numbering": 1,
   "nav_menu": {},
   "number_sections": true,
   "sideBar": true,
   "skip_h1_title": true,
   "title_cell": "Содержание",
   "title_sidebar": "Contents",
   "toc_cell": true,
   "toc_position": {
    "height": "calc(100% - 180px)",
    "left": "10px",
    "top": "150px",
    "width": "165px"
   },
   "toc_section_display": true,
   "toc_window_display": true
  }
 },
 "nbformat": 4,
 "nbformat_minor": 2
}
